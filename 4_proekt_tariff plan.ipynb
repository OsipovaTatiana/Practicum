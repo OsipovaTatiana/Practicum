{
 "cells": [
  {
   "cell_type": "markdown",
   "metadata": {},
   "source": [
    "# Исследование тарифов\n"
   ]
  },
  {
   "cell_type": "markdown",
   "metadata": {},
   "source": [
    "## Изучение данных из файла"
   ]
  },
  {
   "cell_type": "code",
   "execution_count": 1,
   "metadata": {},
   "outputs": [],
   "source": [
    "import pandas as pd\n",
    "import matplotlib.pyplot as plt \n",
    "import numpy as np \n",
    "from scipy import stats as st\n"
   ]
  },
  {
   "cell_type": "code",
   "execution_count": 2,
   "metadata": {},
   "outputs": [
    {
     "data": {
      "text/html": [
       "<div>\n",
       "<style scoped>\n",
       "    .dataframe tbody tr th:only-of-type {\n",
       "        vertical-align: middle;\n",
       "    }\n",
       "\n",
       "    .dataframe tbody tr th {\n",
       "        vertical-align: top;\n",
       "    }\n",
       "\n",
       "    .dataframe thead th {\n",
       "        text-align: right;\n",
       "    }\n",
       "</style>\n",
       "<table border=\"1\" class=\"dataframe\">\n",
       "  <thead>\n",
       "    <tr style=\"text-align: right;\">\n",
       "      <th></th>\n",
       "      <th>user_id</th>\n",
       "      <th>age</th>\n",
       "      <th>churn_date</th>\n",
       "      <th>city</th>\n",
       "      <th>first_name</th>\n",
       "      <th>last_name</th>\n",
       "      <th>reg_date</th>\n",
       "      <th>tariff</th>\n",
       "    </tr>\n",
       "  </thead>\n",
       "  <tbody>\n",
       "    <tr>\n",
       "      <td>0</td>\n",
       "      <td>1000</td>\n",
       "      <td>52</td>\n",
       "      <td>NaN</td>\n",
       "      <td>Краснодар</td>\n",
       "      <td>Рафаил</td>\n",
       "      <td>Верещагин</td>\n",
       "      <td>2018-05-25</td>\n",
       "      <td>ultra</td>\n",
       "    </tr>\n",
       "    <tr>\n",
       "      <td>1</td>\n",
       "      <td>1001</td>\n",
       "      <td>41</td>\n",
       "      <td>NaN</td>\n",
       "      <td>Москва</td>\n",
       "      <td>Иван</td>\n",
       "      <td>Ежов</td>\n",
       "      <td>2018-11-01</td>\n",
       "      <td>smart</td>\n",
       "    </tr>\n",
       "    <tr>\n",
       "      <td>2</td>\n",
       "      <td>1002</td>\n",
       "      <td>59</td>\n",
       "      <td>NaN</td>\n",
       "      <td>Стерлитамак</td>\n",
       "      <td>Евгений</td>\n",
       "      <td>Абрамович</td>\n",
       "      <td>2018-06-17</td>\n",
       "      <td>smart</td>\n",
       "    </tr>\n",
       "    <tr>\n",
       "      <td>3</td>\n",
       "      <td>1003</td>\n",
       "      <td>23</td>\n",
       "      <td>NaN</td>\n",
       "      <td>Москва</td>\n",
       "      <td>Белла</td>\n",
       "      <td>Белякова</td>\n",
       "      <td>2018-08-17</td>\n",
       "      <td>ultra</td>\n",
       "    </tr>\n",
       "    <tr>\n",
       "      <td>4</td>\n",
       "      <td>1004</td>\n",
       "      <td>68</td>\n",
       "      <td>NaN</td>\n",
       "      <td>Новокузнецк</td>\n",
       "      <td>Татьяна</td>\n",
       "      <td>Авдеенко</td>\n",
       "      <td>2018-05-14</td>\n",
       "      <td>ultra</td>\n",
       "    </tr>\n",
       "  </tbody>\n",
       "</table>\n",
       "</div>"
      ],
      "text/plain": [
       "   user_id  age churn_date         city first_name  last_name    reg_date  \\\n",
       "0     1000   52        NaN    Краснодар     Рафаил  Верещагин  2018-05-25   \n",
       "1     1001   41        NaN       Москва       Иван       Ежов  2018-11-01   \n",
       "2     1002   59        NaN  Стерлитамак    Евгений  Абрамович  2018-06-17   \n",
       "3     1003   23        NaN       Москва      Белла   Белякова  2018-08-17   \n",
       "4     1004   68        NaN  Новокузнецк    Татьяна   Авдеенко  2018-05-14   \n",
       "\n",
       "  tariff  \n",
       "0  ultra  \n",
       "1  smart  \n",
       "2  smart  \n",
       "3  ultra  \n",
       "4  ultra  "
      ]
     },
     "execution_count": 2,
     "metadata": {},
     "output_type": "execute_result"
    }
   ],
   "source": [
    "df_user = pd.read_csv('/datasets/users.csv')\n",
    "df_user.head()"
   ]
  },
  {
   "cell_type": "code",
   "execution_count": 3,
   "metadata": {
    "scrolled": true
   },
   "outputs": [
    {
     "name": "stdout",
     "output_type": "stream",
     "text": [
      "<class 'pandas.core.frame.DataFrame'>\n",
      "RangeIndex: 500 entries, 0 to 499\n",
      "Data columns (total 8 columns):\n",
      "user_id       500 non-null int64\n",
      "age           500 non-null int64\n",
      "churn_date    38 non-null object\n",
      "city          500 non-null object\n",
      "first_name    500 non-null object\n",
      "last_name     500 non-null object\n",
      "reg_date      500 non-null object\n",
      "tariff        500 non-null object\n",
      "dtypes: int64(2), object(6)\n",
      "memory usage: 31.4+ KB\n"
     ]
    }
   ],
   "source": [
    "df_user.info()"
   ]
  },
  {
   "cell_type": "markdown",
   "metadata": {},
   "source": [
    "Мы видим, что из всей выборки лишь у 38 пользователей стоит дата прекращения тарифа. Остальные продолжнают пользоваться тарифами."
   ]
  },
  {
   "cell_type": "code",
   "execution_count": 4,
   "metadata": {},
   "outputs": [
    {
     "data": {
      "text/html": [
       "<div>\n",
       "<style scoped>\n",
       "    .dataframe tbody tr th:only-of-type {\n",
       "        vertical-align: middle;\n",
       "    }\n",
       "\n",
       "    .dataframe tbody tr th {\n",
       "        vertical-align: top;\n",
       "    }\n",
       "\n",
       "    .dataframe thead th {\n",
       "        text-align: right;\n",
       "    }\n",
       "</style>\n",
       "<table border=\"1\" class=\"dataframe\">\n",
       "  <thead>\n",
       "    <tr style=\"text-align: right;\">\n",
       "      <th></th>\n",
       "      <th>id</th>\n",
       "      <th>call_date</th>\n",
       "      <th>duration</th>\n",
       "      <th>user_id</th>\n",
       "    </tr>\n",
       "  </thead>\n",
       "  <tbody>\n",
       "    <tr>\n",
       "      <td>0</td>\n",
       "      <td>1000_0</td>\n",
       "      <td>2018-07-25</td>\n",
       "      <td>0.00</td>\n",
       "      <td>1000</td>\n",
       "    </tr>\n",
       "    <tr>\n",
       "      <td>1</td>\n",
       "      <td>1000_1</td>\n",
       "      <td>2018-08-17</td>\n",
       "      <td>0.00</td>\n",
       "      <td>1000</td>\n",
       "    </tr>\n",
       "    <tr>\n",
       "      <td>2</td>\n",
       "      <td>1000_2</td>\n",
       "      <td>2018-06-11</td>\n",
       "      <td>2.85</td>\n",
       "      <td>1000</td>\n",
       "    </tr>\n",
       "    <tr>\n",
       "      <td>3</td>\n",
       "      <td>1000_3</td>\n",
       "      <td>2018-09-21</td>\n",
       "      <td>13.80</td>\n",
       "      <td>1000</td>\n",
       "    </tr>\n",
       "    <tr>\n",
       "      <td>4</td>\n",
       "      <td>1000_4</td>\n",
       "      <td>2018-12-15</td>\n",
       "      <td>5.18</td>\n",
       "      <td>1000</td>\n",
       "    </tr>\n",
       "  </tbody>\n",
       "</table>\n",
       "</div>"
      ],
      "text/plain": [
       "       id   call_date  duration  user_id\n",
       "0  1000_0  2018-07-25      0.00     1000\n",
       "1  1000_1  2018-08-17      0.00     1000\n",
       "2  1000_2  2018-06-11      2.85     1000\n",
       "3  1000_3  2018-09-21     13.80     1000\n",
       "4  1000_4  2018-12-15      5.18     1000"
      ]
     },
     "execution_count": 4,
     "metadata": {},
     "output_type": "execute_result"
    }
   ],
   "source": [
    "df_calls = pd.read_csv('/datasets/calls.csv')\n",
    "df_calls.head()"
   ]
  },
  {
   "cell_type": "code",
   "execution_count": 5,
   "metadata": {},
   "outputs": [
    {
     "name": "stdout",
     "output_type": "stream",
     "text": [
      "<class 'pandas.core.frame.DataFrame'>\n",
      "RangeIndex: 202607 entries, 0 to 202606\n",
      "Data columns (total 4 columns):\n",
      "id           202607 non-null object\n",
      "call_date    202607 non-null object\n",
      "duration     202607 non-null float64\n",
      "user_id      202607 non-null int64\n",
      "dtypes: float64(1), int64(1), object(2)\n",
      "memory usage: 6.2+ MB\n"
     ]
    }
   ],
   "source": [
    "df_calls.info()"
   ]
  },
  {
   "cell_type": "code",
   "execution_count": 6,
   "metadata": {},
   "outputs": [
    {
     "data": {
      "text/html": [
       "<div>\n",
       "<style scoped>\n",
       "    .dataframe tbody tr th:only-of-type {\n",
       "        vertical-align: middle;\n",
       "    }\n",
       "\n",
       "    .dataframe tbody tr th {\n",
       "        vertical-align: top;\n",
       "    }\n",
       "\n",
       "    .dataframe thead th {\n",
       "        text-align: right;\n",
       "    }\n",
       "</style>\n",
       "<table border=\"1\" class=\"dataframe\">\n",
       "  <thead>\n",
       "    <tr style=\"text-align: right;\">\n",
       "      <th></th>\n",
       "      <th>id</th>\n",
       "      <th>message_date</th>\n",
       "      <th>user_id</th>\n",
       "    </tr>\n",
       "  </thead>\n",
       "  <tbody>\n",
       "    <tr>\n",
       "      <td>0</td>\n",
       "      <td>1000_0</td>\n",
       "      <td>2018-06-27</td>\n",
       "      <td>1000</td>\n",
       "    </tr>\n",
       "    <tr>\n",
       "      <td>1</td>\n",
       "      <td>1000_1</td>\n",
       "      <td>2018-10-08</td>\n",
       "      <td>1000</td>\n",
       "    </tr>\n",
       "    <tr>\n",
       "      <td>2</td>\n",
       "      <td>1000_2</td>\n",
       "      <td>2018-08-04</td>\n",
       "      <td>1000</td>\n",
       "    </tr>\n",
       "    <tr>\n",
       "      <td>3</td>\n",
       "      <td>1000_3</td>\n",
       "      <td>2018-06-16</td>\n",
       "      <td>1000</td>\n",
       "    </tr>\n",
       "    <tr>\n",
       "      <td>4</td>\n",
       "      <td>1000_4</td>\n",
       "      <td>2018-12-05</td>\n",
       "      <td>1000</td>\n",
       "    </tr>\n",
       "  </tbody>\n",
       "</table>\n",
       "</div>"
      ],
      "text/plain": [
       "       id message_date  user_id\n",
       "0  1000_0   2018-06-27     1000\n",
       "1  1000_1   2018-10-08     1000\n",
       "2  1000_2   2018-08-04     1000\n",
       "3  1000_3   2018-06-16     1000\n",
       "4  1000_4   2018-12-05     1000"
      ]
     },
     "execution_count": 6,
     "metadata": {},
     "output_type": "execute_result"
    }
   ],
   "source": [
    "df_messages = pd.read_csv('/datasets/messages.csv')\n",
    "df_messages.head()\n"
   ]
  },
  {
   "cell_type": "code",
   "execution_count": 7,
   "metadata": {
    "scrolled": true
   },
   "outputs": [
    {
     "name": "stdout",
     "output_type": "stream",
     "text": [
      "<class 'pandas.core.frame.DataFrame'>\n",
      "RangeIndex: 123036 entries, 0 to 123035\n",
      "Data columns (total 3 columns):\n",
      "id              123036 non-null object\n",
      "message_date    123036 non-null object\n",
      "user_id         123036 non-null int64\n",
      "dtypes: int64(1), object(2)\n",
      "memory usage: 2.8+ MB\n"
     ]
    }
   ],
   "source": [
    "df_messages.info()"
   ]
  },
  {
   "cell_type": "code",
   "execution_count": 8,
   "metadata": {},
   "outputs": [
    {
     "data": {
      "text/html": [
       "<div>\n",
       "<style scoped>\n",
       "    .dataframe tbody tr th:only-of-type {\n",
       "        vertical-align: middle;\n",
       "    }\n",
       "\n",
       "    .dataframe tbody tr th {\n",
       "        vertical-align: top;\n",
       "    }\n",
       "\n",
       "    .dataframe thead th {\n",
       "        text-align: right;\n",
       "    }\n",
       "</style>\n",
       "<table border=\"1\" class=\"dataframe\">\n",
       "  <thead>\n",
       "    <tr style=\"text-align: right;\">\n",
       "      <th></th>\n",
       "      <th>Unnamed: 0</th>\n",
       "      <th>id</th>\n",
       "      <th>mb_used</th>\n",
       "      <th>session_date</th>\n",
       "      <th>user_id</th>\n",
       "    </tr>\n",
       "  </thead>\n",
       "  <tbody>\n",
       "    <tr>\n",
       "      <td>0</td>\n",
       "      <td>0</td>\n",
       "      <td>1000_0</td>\n",
       "      <td>112.95</td>\n",
       "      <td>2018-11-25</td>\n",
       "      <td>1000</td>\n",
       "    </tr>\n",
       "    <tr>\n",
       "      <td>1</td>\n",
       "      <td>1</td>\n",
       "      <td>1000_1</td>\n",
       "      <td>1052.81</td>\n",
       "      <td>2018-09-07</td>\n",
       "      <td>1000</td>\n",
       "    </tr>\n",
       "    <tr>\n",
       "      <td>2</td>\n",
       "      <td>2</td>\n",
       "      <td>1000_2</td>\n",
       "      <td>1197.26</td>\n",
       "      <td>2018-06-25</td>\n",
       "      <td>1000</td>\n",
       "    </tr>\n",
       "    <tr>\n",
       "      <td>3</td>\n",
       "      <td>3</td>\n",
       "      <td>1000_3</td>\n",
       "      <td>550.27</td>\n",
       "      <td>2018-08-22</td>\n",
       "      <td>1000</td>\n",
       "    </tr>\n",
       "    <tr>\n",
       "      <td>4</td>\n",
       "      <td>4</td>\n",
       "      <td>1000_4</td>\n",
       "      <td>302.56</td>\n",
       "      <td>2018-09-24</td>\n",
       "      <td>1000</td>\n",
       "    </tr>\n",
       "  </tbody>\n",
       "</table>\n",
       "</div>"
      ],
      "text/plain": [
       "   Unnamed: 0      id  mb_used session_date  user_id\n",
       "0           0  1000_0   112.95   2018-11-25     1000\n",
       "1           1  1000_1  1052.81   2018-09-07     1000\n",
       "2           2  1000_2  1197.26   2018-06-25     1000\n",
       "3           3  1000_3   550.27   2018-08-22     1000\n",
       "4           4  1000_4   302.56   2018-09-24     1000"
      ]
     },
     "execution_count": 8,
     "metadata": {},
     "output_type": "execute_result"
    }
   ],
   "source": [
    "df_internet = pd.read_csv('/datasets/internet.csv')\n",
    "df_internet.head()\n"
   ]
  },
  {
   "cell_type": "code",
   "execution_count": 9,
   "metadata": {
    "scrolled": false
   },
   "outputs": [
    {
     "name": "stdout",
     "output_type": "stream",
     "text": [
      "<class 'pandas.core.frame.DataFrame'>\n",
      "RangeIndex: 149396 entries, 0 to 149395\n",
      "Data columns (total 5 columns):\n",
      "Unnamed: 0      149396 non-null int64\n",
      "id              149396 non-null object\n",
      "mb_used         149396 non-null float64\n",
      "session_date    149396 non-null object\n",
      "user_id         149396 non-null int64\n",
      "dtypes: float64(1), int64(2), object(2)\n",
      "memory usage: 5.7+ MB\n"
     ]
    }
   ],
   "source": [
    "df_internet.info()"
   ]
  },
  {
   "cell_type": "code",
   "execution_count": 10,
   "metadata": {},
   "outputs": [
    {
     "data": {
      "text/html": [
       "<div>\n",
       "<style scoped>\n",
       "    .dataframe tbody tr th:only-of-type {\n",
       "        vertical-align: middle;\n",
       "    }\n",
       "\n",
       "    .dataframe tbody tr th {\n",
       "        vertical-align: top;\n",
       "    }\n",
       "\n",
       "    .dataframe thead th {\n",
       "        text-align: right;\n",
       "    }\n",
       "</style>\n",
       "<table border=\"1\" class=\"dataframe\">\n",
       "  <thead>\n",
       "    <tr style=\"text-align: right;\">\n",
       "      <th></th>\n",
       "      <th>messages_included</th>\n",
       "      <th>mb_per_month_included</th>\n",
       "      <th>minutes_included</th>\n",
       "      <th>rub_monthly_fee</th>\n",
       "      <th>rub_per_gb</th>\n",
       "      <th>rub_per_message</th>\n",
       "      <th>rub_per_minute</th>\n",
       "      <th>tariff_name</th>\n",
       "    </tr>\n",
       "  </thead>\n",
       "  <tbody>\n",
       "    <tr>\n",
       "      <td>0</td>\n",
       "      <td>50</td>\n",
       "      <td>15360</td>\n",
       "      <td>500</td>\n",
       "      <td>550</td>\n",
       "      <td>200</td>\n",
       "      <td>3</td>\n",
       "      <td>3</td>\n",
       "      <td>smart</td>\n",
       "    </tr>\n",
       "    <tr>\n",
       "      <td>1</td>\n",
       "      <td>1000</td>\n",
       "      <td>30720</td>\n",
       "      <td>3000</td>\n",
       "      <td>1950</td>\n",
       "      <td>150</td>\n",
       "      <td>1</td>\n",
       "      <td>1</td>\n",
       "      <td>ultra</td>\n",
       "    </tr>\n",
       "  </tbody>\n",
       "</table>\n",
       "</div>"
      ],
      "text/plain": [
       "   messages_included  mb_per_month_included  minutes_included  \\\n",
       "0                 50                  15360               500   \n",
       "1               1000                  30720              3000   \n",
       "\n",
       "   rub_monthly_fee  rub_per_gb  rub_per_message  rub_per_minute tariff_name  \n",
       "0              550         200                3               3       smart  \n",
       "1             1950         150                1               1       ultra  "
      ]
     },
     "execution_count": 10,
     "metadata": {},
     "output_type": "execute_result"
    }
   ],
   "source": [
    "df_tariffs = pd.read_csv('/datasets/tariffs.csv')\n",
    "df_tariffs.head()\n"
   ]
  },
  {
   "cell_type": "code",
   "execution_count": 11,
   "metadata": {},
   "outputs": [
    {
     "name": "stdout",
     "output_type": "stream",
     "text": [
      "<class 'pandas.core.frame.DataFrame'>\n",
      "RangeIndex: 2 entries, 0 to 1\n",
      "Data columns (total 8 columns):\n",
      "messages_included        2 non-null int64\n",
      "mb_per_month_included    2 non-null int64\n",
      "minutes_included         2 non-null int64\n",
      "rub_monthly_fee          2 non-null int64\n",
      "rub_per_gb               2 non-null int64\n",
      "rub_per_message          2 non-null int64\n",
      "rub_per_minute           2 non-null int64\n",
      "tariff_name              2 non-null object\n",
      "dtypes: int64(7), object(1)\n",
      "memory usage: 256.0+ bytes\n"
     ]
    }
   ],
   "source": [
    "df_tariffs.info()"
   ]
  },
  {
   "cell_type": "code",
   "execution_count": 12,
   "metadata": {},
   "outputs": [
    {
     "data": {
      "text/plain": [
       "(0, 0, 0, 0)"
      ]
     },
     "execution_count": 12,
     "metadata": {},
     "output_type": "execute_result"
    }
   ],
   "source": [
    "# проверим , есть ли дубликаты.\n",
    "df_user.duplicated().sum(), df_calls.duplicated().sum(), df_messages.duplicated().sum(), df_internet.duplicated().sum()"
   ]
  },
  {
   "cell_type": "markdown",
   "metadata": {},
   "source": [
    "Данные на первый взгляд хорошие. Необходимо только поменять тип object в колонке с датой звонка на data и округлить данные по минутам и интернет трафику в бОльшую стороны ( согласно условиям тарифа)"
   ]
  },
  {
   "cell_type": "markdown",
   "metadata": {},
   "source": [
    "## Предобработка данных"
   ]
  },
  {
   "cell_type": "markdown",
   "metadata": {},
   "source": [
    "Округлим минуты разговора и интернет трафик в бОльшую сторону (согласно условиям тарифа)"
   ]
  },
  {
   "cell_type": "code",
   "execution_count": 13,
   "metadata": {},
   "outputs": [
    {
     "data": {
      "text/plain": [
       "0     0.0\n",
       "1     0.0\n",
       "2     3.0\n",
       "3    14.0\n",
       "4     6.0\n",
       "Name: duration, dtype: float64"
      ]
     },
     "execution_count": 13,
     "metadata": {},
     "output_type": "execute_result"
    }
   ],
   "source": [
    "df_calls['duration']= df_calls['duration'].apply(np.ceil)\n",
    "df_calls['duration'].head()"
   ]
  },
  {
   "cell_type": "code",
   "execution_count": 14,
   "metadata": {},
   "outputs": [
    {
     "data": {
      "text/html": [
       "<div>\n",
       "<style scoped>\n",
       "    .dataframe tbody tr th:only-of-type {\n",
       "        vertical-align: middle;\n",
       "    }\n",
       "\n",
       "    .dataframe tbody tr th {\n",
       "        vertical-align: top;\n",
       "    }\n",
       "\n",
       "    .dataframe thead th {\n",
       "        text-align: right;\n",
       "    }\n",
       "</style>\n",
       "<table border=\"1\" class=\"dataframe\">\n",
       "  <thead>\n",
       "    <tr style=\"text-align: right;\">\n",
       "      <th></th>\n",
       "      <th>Unnamed: 0</th>\n",
       "      <th>id</th>\n",
       "      <th>mb_used</th>\n",
       "      <th>session_date</th>\n",
       "      <th>user_id</th>\n",
       "    </tr>\n",
       "  </thead>\n",
       "  <tbody>\n",
       "    <tr>\n",
       "      <td>0</td>\n",
       "      <td>0</td>\n",
       "      <td>1000_0</td>\n",
       "      <td>112.95</td>\n",
       "      <td>2018-11-25</td>\n",
       "      <td>1000</td>\n",
       "    </tr>\n",
       "    <tr>\n",
       "      <td>1</td>\n",
       "      <td>1</td>\n",
       "      <td>1000_1</td>\n",
       "      <td>1052.81</td>\n",
       "      <td>2018-09-07</td>\n",
       "      <td>1000</td>\n",
       "    </tr>\n",
       "    <tr>\n",
       "      <td>2</td>\n",
       "      <td>2</td>\n",
       "      <td>1000_2</td>\n",
       "      <td>1197.26</td>\n",
       "      <td>2018-06-25</td>\n",
       "      <td>1000</td>\n",
       "    </tr>\n",
       "    <tr>\n",
       "      <td>3</td>\n",
       "      <td>3</td>\n",
       "      <td>1000_3</td>\n",
       "      <td>550.27</td>\n",
       "      <td>2018-08-22</td>\n",
       "      <td>1000</td>\n",
       "    </tr>\n",
       "    <tr>\n",
       "      <td>4</td>\n",
       "      <td>4</td>\n",
       "      <td>1000_4</td>\n",
       "      <td>302.56</td>\n",
       "      <td>2018-09-24</td>\n",
       "      <td>1000</td>\n",
       "    </tr>\n",
       "  </tbody>\n",
       "</table>\n",
       "</div>"
      ],
      "text/plain": [
       "   Unnamed: 0      id  mb_used session_date  user_id\n",
       "0           0  1000_0   112.95   2018-11-25     1000\n",
       "1           1  1000_1  1052.81   2018-09-07     1000\n",
       "2           2  1000_2  1197.26   2018-06-25     1000\n",
       "3           3  1000_3   550.27   2018-08-22     1000\n",
       "4           4  1000_4   302.56   2018-09-24     1000"
      ]
     },
     "execution_count": 14,
     "metadata": {},
     "output_type": "execute_result"
    }
   ],
   "source": [
    "df_internet.head()"
   ]
  },
  {
   "cell_type": "code",
   "execution_count": 15,
   "metadata": {},
   "outputs": [],
   "source": [
    "# переведем Мб в Гб, а потом округлим в бОльшую сторону\n",
    "df_internet['mb_used'] = df_internet['mb_used']/1024\n",
    "df_internet['mb_used'] = df_internet['mb_used'].apply(np.ceil)\n",
    "\n",
    "df_tariffs['mb_per_month_included'] = df_tariffs['mb_per_month_included']/1024\n",
    "df_tariffs['mb_per_month_included'] = df_tariffs['mb_per_month_included'].apply(np.ceil)\n"
   ]
  },
  {
   "cell_type": "markdown",
   "metadata": {},
   "source": [
    "Преобразуем тип object в колонках с датами в тип data"
   ]
  },
  {
   "cell_type": "code",
   "execution_count": 16,
   "metadata": {
    "scrolled": false
   },
   "outputs": [],
   "source": [
    "df_calls['call_date'] = pd.to_datetime(df_calls['call_date'])\n",
    "df_messages['message_date'] = pd.to_datetime(df_messages['message_date'])\n",
    "df_internet['session_date'] = pd.to_datetime(df_internet['session_date'])"
   ]
  },
  {
   "cell_type": "markdown",
   "metadata": {},
   "source": [
    "Создадим дополнительно столбец, в котором будет номер месяца ( это нам понадобиться для дальнейшей аналитики и подсчетов)"
   ]
  },
  {
   "cell_type": "code",
   "execution_count": 17,
   "metadata": {},
   "outputs": [
    {
     "data": {
      "text/html": [
       "<div>\n",
       "<style scoped>\n",
       "    .dataframe tbody tr th:only-of-type {\n",
       "        vertical-align: middle;\n",
       "    }\n",
       "\n",
       "    .dataframe tbody tr th {\n",
       "        vertical-align: top;\n",
       "    }\n",
       "\n",
       "    .dataframe thead th {\n",
       "        text-align: right;\n",
       "    }\n",
       "</style>\n",
       "<table border=\"1\" class=\"dataframe\">\n",
       "  <thead>\n",
       "    <tr style=\"text-align: right;\">\n",
       "      <th></th>\n",
       "      <th>id</th>\n",
       "      <th>call_date</th>\n",
       "      <th>duration</th>\n",
       "      <th>user_id</th>\n",
       "      <th>month</th>\n",
       "    </tr>\n",
       "  </thead>\n",
       "  <tbody>\n",
       "    <tr>\n",
       "      <td>0</td>\n",
       "      <td>1000_0</td>\n",
       "      <td>2018-07-25</td>\n",
       "      <td>0.0</td>\n",
       "      <td>1000</td>\n",
       "      <td>7</td>\n",
       "    </tr>\n",
       "    <tr>\n",
       "      <td>1</td>\n",
       "      <td>1000_1</td>\n",
       "      <td>2018-08-17</td>\n",
       "      <td>0.0</td>\n",
       "      <td>1000</td>\n",
       "      <td>8</td>\n",
       "    </tr>\n",
       "    <tr>\n",
       "      <td>2</td>\n",
       "      <td>1000_2</td>\n",
       "      <td>2018-06-11</td>\n",
       "      <td>3.0</td>\n",
       "      <td>1000</td>\n",
       "      <td>6</td>\n",
       "    </tr>\n",
       "    <tr>\n",
       "      <td>3</td>\n",
       "      <td>1000_3</td>\n",
       "      <td>2018-09-21</td>\n",
       "      <td>14.0</td>\n",
       "      <td>1000</td>\n",
       "      <td>9</td>\n",
       "    </tr>\n",
       "    <tr>\n",
       "      <td>4</td>\n",
       "      <td>1000_4</td>\n",
       "      <td>2018-12-15</td>\n",
       "      <td>6.0</td>\n",
       "      <td>1000</td>\n",
       "      <td>12</td>\n",
       "    </tr>\n",
       "  </tbody>\n",
       "</table>\n",
       "</div>"
      ],
      "text/plain": [
       "       id  call_date  duration  user_id  month\n",
       "0  1000_0 2018-07-25       0.0     1000      7\n",
       "1  1000_1 2018-08-17       0.0     1000      8\n",
       "2  1000_2 2018-06-11       3.0     1000      6\n",
       "3  1000_3 2018-09-21      14.0     1000      9\n",
       "4  1000_4 2018-12-15       6.0     1000     12"
      ]
     },
     "execution_count": 17,
     "metadata": {},
     "output_type": "execute_result"
    }
   ],
   "source": [
    "df_calls['month'] = df_calls['call_date'].dt.month\n",
    "df_calls.head()"
   ]
  },
  {
   "cell_type": "code",
   "execution_count": 18,
   "metadata": {
    "scrolled": true
   },
   "outputs": [
    {
     "data": {
      "text/html": [
       "<div>\n",
       "<style scoped>\n",
       "    .dataframe tbody tr th:only-of-type {\n",
       "        vertical-align: middle;\n",
       "    }\n",
       "\n",
       "    .dataframe tbody tr th {\n",
       "        vertical-align: top;\n",
       "    }\n",
       "\n",
       "    .dataframe thead th {\n",
       "        text-align: right;\n",
       "    }\n",
       "</style>\n",
       "<table border=\"1\" class=\"dataframe\">\n",
       "  <thead>\n",
       "    <tr style=\"text-align: right;\">\n",
       "      <th></th>\n",
       "      <th>id</th>\n",
       "      <th>message_date</th>\n",
       "      <th>user_id</th>\n",
       "      <th>month</th>\n",
       "    </tr>\n",
       "  </thead>\n",
       "  <tbody>\n",
       "    <tr>\n",
       "      <td>0</td>\n",
       "      <td>1000_0</td>\n",
       "      <td>2018-06-27</td>\n",
       "      <td>1000</td>\n",
       "      <td>6</td>\n",
       "    </tr>\n",
       "    <tr>\n",
       "      <td>1</td>\n",
       "      <td>1000_1</td>\n",
       "      <td>2018-10-08</td>\n",
       "      <td>1000</td>\n",
       "      <td>10</td>\n",
       "    </tr>\n",
       "    <tr>\n",
       "      <td>2</td>\n",
       "      <td>1000_2</td>\n",
       "      <td>2018-08-04</td>\n",
       "      <td>1000</td>\n",
       "      <td>8</td>\n",
       "    </tr>\n",
       "    <tr>\n",
       "      <td>3</td>\n",
       "      <td>1000_3</td>\n",
       "      <td>2018-06-16</td>\n",
       "      <td>1000</td>\n",
       "      <td>6</td>\n",
       "    </tr>\n",
       "    <tr>\n",
       "      <td>4</td>\n",
       "      <td>1000_4</td>\n",
       "      <td>2018-12-05</td>\n",
       "      <td>1000</td>\n",
       "      <td>12</td>\n",
       "    </tr>\n",
       "  </tbody>\n",
       "</table>\n",
       "</div>"
      ],
      "text/plain": [
       "       id message_date  user_id  month\n",
       "0  1000_0   2018-06-27     1000      6\n",
       "1  1000_1   2018-10-08     1000     10\n",
       "2  1000_2   2018-08-04     1000      8\n",
       "3  1000_3   2018-06-16     1000      6\n",
       "4  1000_4   2018-12-05     1000     12"
      ]
     },
     "execution_count": 18,
     "metadata": {},
     "output_type": "execute_result"
    }
   ],
   "source": [
    "df_messages['month'] = df_messages['message_date'].dt.month\n",
    "df_messages.head()"
   ]
  },
  {
   "cell_type": "code",
   "execution_count": 19,
   "metadata": {},
   "outputs": [
    {
     "data": {
      "text/html": [
       "<div>\n",
       "<style scoped>\n",
       "    .dataframe tbody tr th:only-of-type {\n",
       "        vertical-align: middle;\n",
       "    }\n",
       "\n",
       "    .dataframe tbody tr th {\n",
       "        vertical-align: top;\n",
       "    }\n",
       "\n",
       "    .dataframe thead th {\n",
       "        text-align: right;\n",
       "    }\n",
       "</style>\n",
       "<table border=\"1\" class=\"dataframe\">\n",
       "  <thead>\n",
       "    <tr style=\"text-align: right;\">\n",
       "      <th></th>\n",
       "      <th>Unnamed: 0</th>\n",
       "      <th>id</th>\n",
       "      <th>mb_used</th>\n",
       "      <th>session_date</th>\n",
       "      <th>user_id</th>\n",
       "      <th>month</th>\n",
       "    </tr>\n",
       "  </thead>\n",
       "  <tbody>\n",
       "    <tr>\n",
       "      <td>0</td>\n",
       "      <td>0</td>\n",
       "      <td>1000_0</td>\n",
       "      <td>1.0</td>\n",
       "      <td>2018-11-25</td>\n",
       "      <td>1000</td>\n",
       "      <td>11</td>\n",
       "    </tr>\n",
       "    <tr>\n",
       "      <td>1</td>\n",
       "      <td>1</td>\n",
       "      <td>1000_1</td>\n",
       "      <td>2.0</td>\n",
       "      <td>2018-09-07</td>\n",
       "      <td>1000</td>\n",
       "      <td>9</td>\n",
       "    </tr>\n",
       "    <tr>\n",
       "      <td>2</td>\n",
       "      <td>2</td>\n",
       "      <td>1000_2</td>\n",
       "      <td>2.0</td>\n",
       "      <td>2018-06-25</td>\n",
       "      <td>1000</td>\n",
       "      <td>6</td>\n",
       "    </tr>\n",
       "    <tr>\n",
       "      <td>3</td>\n",
       "      <td>3</td>\n",
       "      <td>1000_3</td>\n",
       "      <td>1.0</td>\n",
       "      <td>2018-08-22</td>\n",
       "      <td>1000</td>\n",
       "      <td>8</td>\n",
       "    </tr>\n",
       "    <tr>\n",
       "      <td>4</td>\n",
       "      <td>4</td>\n",
       "      <td>1000_4</td>\n",
       "      <td>1.0</td>\n",
       "      <td>2018-09-24</td>\n",
       "      <td>1000</td>\n",
       "      <td>9</td>\n",
       "    </tr>\n",
       "  </tbody>\n",
       "</table>\n",
       "</div>"
      ],
      "text/plain": [
       "   Unnamed: 0      id  mb_used session_date  user_id  month\n",
       "0           0  1000_0      1.0   2018-11-25     1000     11\n",
       "1           1  1000_1      2.0   2018-09-07     1000      9\n",
       "2           2  1000_2      2.0   2018-06-25     1000      6\n",
       "3           3  1000_3      1.0   2018-08-22     1000      8\n",
       "4           4  1000_4      1.0   2018-09-24     1000      9"
      ]
     },
     "execution_count": 19,
     "metadata": {},
     "output_type": "execute_result"
    }
   ],
   "source": [
    "df_internet['month'] = df_internet['session_date'].dt.month\n",
    "df_internet.head()"
   ]
  },
  {
   "cell_type": "markdown",
   "metadata": {},
   "source": [
    " Найдем для каждого пользователя количество сделанных звонков и израсходованных минут разговора по месяцам"
   ]
  },
  {
   "cell_type": "code",
   "execution_count": 20,
   "metadata": {},
   "outputs": [
    {
     "data": {
      "text/html": [
       "<div>\n",
       "<style scoped>\n",
       "    .dataframe tbody tr th:only-of-type {\n",
       "        vertical-align: middle;\n",
       "    }\n",
       "\n",
       "    .dataframe tbody tr th {\n",
       "        vertical-align: top;\n",
       "    }\n",
       "\n",
       "    .dataframe thead th {\n",
       "        text-align: right;\n",
       "    }\n",
       "</style>\n",
       "<table border=\"1\" class=\"dataframe\">\n",
       "  <thead>\n",
       "    <tr style=\"text-align: right;\">\n",
       "      <th></th>\n",
       "      <th>user_id</th>\n",
       "      <th>month</th>\n",
       "      <th>duration</th>\n",
       "      <th>calls_kol</th>\n",
       "    </tr>\n",
       "  </thead>\n",
       "  <tbody>\n",
       "    <tr>\n",
       "      <td>0</td>\n",
       "      <td>1000</td>\n",
       "      <td>5</td>\n",
       "      <td>159.0</td>\n",
       "      <td>22</td>\n",
       "    </tr>\n",
       "    <tr>\n",
       "      <td>1</td>\n",
       "      <td>1000</td>\n",
       "      <td>6</td>\n",
       "      <td>172.0</td>\n",
       "      <td>43</td>\n",
       "    </tr>\n",
       "    <tr>\n",
       "      <td>2</td>\n",
       "      <td>1000</td>\n",
       "      <td>7</td>\n",
       "      <td>340.0</td>\n",
       "      <td>47</td>\n",
       "    </tr>\n",
       "    <tr>\n",
       "      <td>3</td>\n",
       "      <td>1000</td>\n",
       "      <td>8</td>\n",
       "      <td>408.0</td>\n",
       "      <td>52</td>\n",
       "    </tr>\n",
       "    <tr>\n",
       "      <td>4</td>\n",
       "      <td>1000</td>\n",
       "      <td>9</td>\n",
       "      <td>466.0</td>\n",
       "      <td>58</td>\n",
       "    </tr>\n",
       "  </tbody>\n",
       "</table>\n",
       "</div>"
      ],
      "text/plain": [
       "   user_id  month  duration  calls_kol\n",
       "0     1000      5     159.0         22\n",
       "1     1000      6     172.0         43\n",
       "2     1000      7     340.0         47\n",
       "3     1000      8     408.0         52\n",
       "4     1000      9     466.0         58"
      ]
     },
     "execution_count": 20,
     "metadata": {},
     "output_type": "execute_result"
    }
   ],
   "source": [
    "calls = df_calls.groupby(['user_id', 'month']).agg({'duration': 'sum', 'id': 'count'}).reset_index()\n",
    "calls = calls.rename(columns={'id' : 'calls_kol'})\n",
    "calls.head()"
   ]
  },
  {
   "cell_type": "markdown",
   "metadata": {},
   "source": [
    "Найдем для каждого пользователя количество отправленных сообщений по месяцам"
   ]
  },
  {
   "cell_type": "code",
   "execution_count": 21,
   "metadata": {
    "scrolled": true
   },
   "outputs": [
    {
     "data": {
      "text/html": [
       "<div>\n",
       "<style scoped>\n",
       "    .dataframe tbody tr th:only-of-type {\n",
       "        vertical-align: middle;\n",
       "    }\n",
       "\n",
       "    .dataframe tbody tr th {\n",
       "        vertical-align: top;\n",
       "    }\n",
       "\n",
       "    .dataframe thead th {\n",
       "        text-align: right;\n",
       "    }\n",
       "</style>\n",
       "<table border=\"1\" class=\"dataframe\">\n",
       "  <thead>\n",
       "    <tr style=\"text-align: right;\">\n",
       "      <th></th>\n",
       "      <th>user_id</th>\n",
       "      <th>month</th>\n",
       "      <th>messages_kol</th>\n",
       "    </tr>\n",
       "  </thead>\n",
       "  <tbody>\n",
       "    <tr>\n",
       "      <td>0</td>\n",
       "      <td>1000</td>\n",
       "      <td>5</td>\n",
       "      <td>22</td>\n",
       "    </tr>\n",
       "    <tr>\n",
       "      <td>1</td>\n",
       "      <td>1000</td>\n",
       "      <td>6</td>\n",
       "      <td>60</td>\n",
       "    </tr>\n",
       "    <tr>\n",
       "      <td>2</td>\n",
       "      <td>1000</td>\n",
       "      <td>7</td>\n",
       "      <td>75</td>\n",
       "    </tr>\n",
       "    <tr>\n",
       "      <td>3</td>\n",
       "      <td>1000</td>\n",
       "      <td>8</td>\n",
       "      <td>81</td>\n",
       "    </tr>\n",
       "    <tr>\n",
       "      <td>4</td>\n",
       "      <td>1000</td>\n",
       "      <td>9</td>\n",
       "      <td>57</td>\n",
       "    </tr>\n",
       "  </tbody>\n",
       "</table>\n",
       "</div>"
      ],
      "text/plain": [
       "   user_id  month  messages_kol\n",
       "0     1000      5            22\n",
       "1     1000      6            60\n",
       "2     1000      7            75\n",
       "3     1000      8            81\n",
       "4     1000      9            57"
      ]
     },
     "execution_count": 21,
     "metadata": {},
     "output_type": "execute_result"
    }
   ],
   "source": [
    "messages = df_messages.groupby(['user_id', 'month']).agg({'id': 'count'}).reset_index()\n",
    "messages = messages.rename(columns={'id' : 'messages_kol'})\n",
    "messages.head()"
   ]
  },
  {
   "cell_type": "markdown",
   "metadata": {},
   "source": [
    "Найдем для каждого пользователя объем израсходованного интернет-трафика по месяцам"
   ]
  },
  {
   "cell_type": "code",
   "execution_count": 22,
   "metadata": {},
   "outputs": [
    {
     "data": {
      "text/html": [
       "<div>\n",
       "<style scoped>\n",
       "    .dataframe tbody tr th:only-of-type {\n",
       "        vertical-align: middle;\n",
       "    }\n",
       "\n",
       "    .dataframe tbody tr th {\n",
       "        vertical-align: top;\n",
       "    }\n",
       "\n",
       "    .dataframe thead th {\n",
       "        text-align: right;\n",
       "    }\n",
       "</style>\n",
       "<table border=\"1\" class=\"dataframe\">\n",
       "  <thead>\n",
       "    <tr style=\"text-align: right;\">\n",
       "      <th></th>\n",
       "      <th>user_id</th>\n",
       "      <th>month</th>\n",
       "      <th>gb_used</th>\n",
       "    </tr>\n",
       "  </thead>\n",
       "  <tbody>\n",
       "    <tr>\n",
       "      <td>0</td>\n",
       "      <td>1000</td>\n",
       "      <td>5</td>\n",
       "      <td>4.0</td>\n",
       "    </tr>\n",
       "    <tr>\n",
       "      <td>1</td>\n",
       "      <td>1000</td>\n",
       "      <td>6</td>\n",
       "      <td>49.0</td>\n",
       "    </tr>\n",
       "    <tr>\n",
       "      <td>2</td>\n",
       "      <td>1000</td>\n",
       "      <td>7</td>\n",
       "      <td>28.0</td>\n",
       "    </tr>\n",
       "    <tr>\n",
       "      <td>3</td>\n",
       "      <td>1000</td>\n",
       "      <td>8</td>\n",
       "      <td>27.0</td>\n",
       "    </tr>\n",
       "    <tr>\n",
       "      <td>4</td>\n",
       "      <td>1000</td>\n",
       "      <td>9</td>\n",
       "      <td>26.0</td>\n",
       "    </tr>\n",
       "  </tbody>\n",
       "</table>\n",
       "</div>"
      ],
      "text/plain": [
       "   user_id  month  gb_used\n",
       "0     1000      5      4.0\n",
       "1     1000      6     49.0\n",
       "2     1000      7     28.0\n",
       "3     1000      8     27.0\n",
       "4     1000      9     26.0"
      ]
     },
     "execution_count": 22,
     "metadata": {},
     "output_type": "execute_result"
    }
   ],
   "source": [
    "internet = df_internet.groupby(['user_id', 'month']).agg({'mb_used': 'sum'}).reset_index()\n",
    "internet = internet.rename(columns={'mb_used' : 'gb_used'})\n",
    "internet.head()"
   ]
  },
  {
   "cell_type": "markdown",
   "metadata": {},
   "source": [
    "Объединим получившиейся таблицы в одну"
   ]
  },
  {
   "cell_type": "code",
   "execution_count": 23,
   "metadata": {
    "scrolled": false
   },
   "outputs": [
    {
     "data": {
      "text/html": [
       "<div>\n",
       "<style scoped>\n",
       "    .dataframe tbody tr th:only-of-type {\n",
       "        vertical-align: middle;\n",
       "    }\n",
       "\n",
       "    .dataframe tbody tr th {\n",
       "        vertical-align: top;\n",
       "    }\n",
       "\n",
       "    .dataframe thead th {\n",
       "        text-align: right;\n",
       "    }\n",
       "</style>\n",
       "<table border=\"1\" class=\"dataframe\">\n",
       "  <thead>\n",
       "    <tr style=\"text-align: right;\">\n",
       "      <th></th>\n",
       "      <th>user_id</th>\n",
       "      <th>month</th>\n",
       "      <th>duration</th>\n",
       "      <th>calls_kol</th>\n",
       "      <th>messages_kol</th>\n",
       "      <th>gb_used</th>\n",
       "    </tr>\n",
       "  </thead>\n",
       "  <tbody>\n",
       "    <tr>\n",
       "      <td>0</td>\n",
       "      <td>1000</td>\n",
       "      <td>5</td>\n",
       "      <td>159.0</td>\n",
       "      <td>22.0</td>\n",
       "      <td>22.0</td>\n",
       "      <td>4.0</td>\n",
       "    </tr>\n",
       "    <tr>\n",
       "      <td>1</td>\n",
       "      <td>1000</td>\n",
       "      <td>6</td>\n",
       "      <td>172.0</td>\n",
       "      <td>43.0</td>\n",
       "      <td>60.0</td>\n",
       "      <td>49.0</td>\n",
       "    </tr>\n",
       "    <tr>\n",
       "      <td>2</td>\n",
       "      <td>1000</td>\n",
       "      <td>7</td>\n",
       "      <td>340.0</td>\n",
       "      <td>47.0</td>\n",
       "      <td>75.0</td>\n",
       "      <td>28.0</td>\n",
       "    </tr>\n",
       "    <tr>\n",
       "      <td>3</td>\n",
       "      <td>1000</td>\n",
       "      <td>8</td>\n",
       "      <td>408.0</td>\n",
       "      <td>52.0</td>\n",
       "      <td>81.0</td>\n",
       "      <td>27.0</td>\n",
       "    </tr>\n",
       "    <tr>\n",
       "      <td>4</td>\n",
       "      <td>1000</td>\n",
       "      <td>9</td>\n",
       "      <td>466.0</td>\n",
       "      <td>58.0</td>\n",
       "      <td>57.0</td>\n",
       "      <td>26.0</td>\n",
       "    </tr>\n",
       "  </tbody>\n",
       "</table>\n",
       "</div>"
      ],
      "text/plain": [
       "   user_id  month  duration  calls_kol  messages_kol  gb_used\n",
       "0     1000      5     159.0       22.0          22.0      4.0\n",
       "1     1000      6     172.0       43.0          60.0     49.0\n",
       "2     1000      7     340.0       47.0          75.0     28.0\n",
       "3     1000      8     408.0       52.0          81.0     27.0\n",
       "4     1000      9     466.0       58.0          57.0     26.0"
      ]
     },
     "execution_count": 23,
     "metadata": {},
     "output_type": "execute_result"
    }
   ],
   "source": [
    "data = calls.merge(messages, on = ['user_id','month'], how = 'outer')\n",
    "data = data.merge(internet, on = ['user_id','month'], how = 'outer')\n",
    "data.head()"
   ]
  },
  {
   "cell_type": "code",
   "execution_count": 24,
   "metadata": {},
   "outputs": [
    {
     "data": {
      "text/html": [
       "<div>\n",
       "<style scoped>\n",
       "    .dataframe tbody tr th:only-of-type {\n",
       "        vertical-align: middle;\n",
       "    }\n",
       "\n",
       "    .dataframe tbody tr th {\n",
       "        vertical-align: top;\n",
       "    }\n",
       "\n",
       "    .dataframe thead th {\n",
       "        text-align: right;\n",
       "    }\n",
       "</style>\n",
       "<table border=\"1\" class=\"dataframe\">\n",
       "  <thead>\n",
       "    <tr style=\"text-align: right;\">\n",
       "      <th></th>\n",
       "      <th>user_id</th>\n",
       "      <th>age</th>\n",
       "      <th>churn_date</th>\n",
       "      <th>city</th>\n",
       "      <th>first_name</th>\n",
       "      <th>last_name</th>\n",
       "      <th>reg_date</th>\n",
       "      <th>tariff</th>\n",
       "      <th>messages_included</th>\n",
       "      <th>mb_per_month_included</th>\n",
       "      <th>minutes_included</th>\n",
       "      <th>rub_monthly_fee</th>\n",
       "      <th>rub_per_gb</th>\n",
       "      <th>rub_per_message</th>\n",
       "      <th>rub_per_minute</th>\n",
       "      <th>tariff_name</th>\n",
       "    </tr>\n",
       "  </thead>\n",
       "  <tbody>\n",
       "    <tr>\n",
       "      <td>0</td>\n",
       "      <td>1000</td>\n",
       "      <td>52</td>\n",
       "      <td>NaN</td>\n",
       "      <td>Краснодар</td>\n",
       "      <td>Рафаил</td>\n",
       "      <td>Верещагин</td>\n",
       "      <td>2018-05-25</td>\n",
       "      <td>ultra</td>\n",
       "      <td>1000</td>\n",
       "      <td>30.0</td>\n",
       "      <td>3000</td>\n",
       "      <td>1950</td>\n",
       "      <td>150</td>\n",
       "      <td>1</td>\n",
       "      <td>1</td>\n",
       "      <td>ultra</td>\n",
       "    </tr>\n",
       "    <tr>\n",
       "      <td>1</td>\n",
       "      <td>1001</td>\n",
       "      <td>41</td>\n",
       "      <td>NaN</td>\n",
       "      <td>Москва</td>\n",
       "      <td>Иван</td>\n",
       "      <td>Ежов</td>\n",
       "      <td>2018-11-01</td>\n",
       "      <td>smart</td>\n",
       "      <td>50</td>\n",
       "      <td>15.0</td>\n",
       "      <td>500</td>\n",
       "      <td>550</td>\n",
       "      <td>200</td>\n",
       "      <td>3</td>\n",
       "      <td>3</td>\n",
       "      <td>smart</td>\n",
       "    </tr>\n",
       "    <tr>\n",
       "      <td>2</td>\n",
       "      <td>1002</td>\n",
       "      <td>59</td>\n",
       "      <td>NaN</td>\n",
       "      <td>Стерлитамак</td>\n",
       "      <td>Евгений</td>\n",
       "      <td>Абрамович</td>\n",
       "      <td>2018-06-17</td>\n",
       "      <td>smart</td>\n",
       "      <td>50</td>\n",
       "      <td>15.0</td>\n",
       "      <td>500</td>\n",
       "      <td>550</td>\n",
       "      <td>200</td>\n",
       "      <td>3</td>\n",
       "      <td>3</td>\n",
       "      <td>smart</td>\n",
       "    </tr>\n",
       "    <tr>\n",
       "      <td>3</td>\n",
       "      <td>1003</td>\n",
       "      <td>23</td>\n",
       "      <td>NaN</td>\n",
       "      <td>Москва</td>\n",
       "      <td>Белла</td>\n",
       "      <td>Белякова</td>\n",
       "      <td>2018-08-17</td>\n",
       "      <td>ultra</td>\n",
       "      <td>1000</td>\n",
       "      <td>30.0</td>\n",
       "      <td>3000</td>\n",
       "      <td>1950</td>\n",
       "      <td>150</td>\n",
       "      <td>1</td>\n",
       "      <td>1</td>\n",
       "      <td>ultra</td>\n",
       "    </tr>\n",
       "    <tr>\n",
       "      <td>4</td>\n",
       "      <td>1004</td>\n",
       "      <td>68</td>\n",
       "      <td>NaN</td>\n",
       "      <td>Новокузнецк</td>\n",
       "      <td>Татьяна</td>\n",
       "      <td>Авдеенко</td>\n",
       "      <td>2018-05-14</td>\n",
       "      <td>ultra</td>\n",
       "      <td>1000</td>\n",
       "      <td>30.0</td>\n",
       "      <td>3000</td>\n",
       "      <td>1950</td>\n",
       "      <td>150</td>\n",
       "      <td>1</td>\n",
       "      <td>1</td>\n",
       "      <td>ultra</td>\n",
       "    </tr>\n",
       "  </tbody>\n",
       "</table>\n",
       "</div>"
      ],
      "text/plain": [
       "   user_id  age churn_date         city first_name  last_name    reg_date  \\\n",
       "0     1000   52        NaN    Краснодар     Рафаил  Верещагин  2018-05-25   \n",
       "1     1001   41        NaN       Москва       Иван       Ежов  2018-11-01   \n",
       "2     1002   59        NaN  Стерлитамак    Евгений  Абрамович  2018-06-17   \n",
       "3     1003   23        NaN       Москва      Белла   Белякова  2018-08-17   \n",
       "4     1004   68        NaN  Новокузнецк    Татьяна   Авдеенко  2018-05-14   \n",
       "\n",
       "  tariff  messages_included  mb_per_month_included  minutes_included  \\\n",
       "0  ultra               1000                   30.0              3000   \n",
       "1  smart                 50                   15.0               500   \n",
       "2  smart                 50                   15.0               500   \n",
       "3  ultra               1000                   30.0              3000   \n",
       "4  ultra               1000                   30.0              3000   \n",
       "\n",
       "   rub_monthly_fee  rub_per_gb  rub_per_message  rub_per_minute tariff_name  \n",
       "0             1950         150                1               1       ultra  \n",
       "1              550         200                3               3       smart  \n",
       "2              550         200                3               3       smart  \n",
       "3             1950         150                1               1       ultra  \n",
       "4             1950         150                1               1       ultra  "
      ]
     },
     "execution_count": 24,
     "metadata": {},
     "output_type": "execute_result"
    }
   ],
   "source": [
    "data_temp = df_user.merge(df_tariffs, left_on = 'tariff',  right_on = 'tariff_name', how = 'left')\n",
    "data_temp.head()"
   ]
  },
  {
   "cell_type": "code",
   "execution_count": 25,
   "metadata": {},
   "outputs": [
    {
     "data": {
      "text/html": [
       "<div>\n",
       "<style scoped>\n",
       "    .dataframe tbody tr th:only-of-type {\n",
       "        vertical-align: middle;\n",
       "    }\n",
       "\n",
       "    .dataframe tbody tr th {\n",
       "        vertical-align: top;\n",
       "    }\n",
       "\n",
       "    .dataframe thead th {\n",
       "        text-align: right;\n",
       "    }\n",
       "</style>\n",
       "<table border=\"1\" class=\"dataframe\">\n",
       "  <thead>\n",
       "    <tr style=\"text-align: right;\">\n",
       "      <th></th>\n",
       "      <th>user_id</th>\n",
       "      <th>age</th>\n",
       "      <th>churn_date</th>\n",
       "      <th>city</th>\n",
       "      <th>first_name</th>\n",
       "      <th>last_name</th>\n",
       "      <th>reg_date</th>\n",
       "      <th>tariff</th>\n",
       "      <th>messages_included</th>\n",
       "      <th>mb_per_month_included</th>\n",
       "      <th>...</th>\n",
       "      <th>rub_monthly_fee</th>\n",
       "      <th>rub_per_gb</th>\n",
       "      <th>rub_per_message</th>\n",
       "      <th>rub_per_minute</th>\n",
       "      <th>tariff_name</th>\n",
       "      <th>month</th>\n",
       "      <th>duration</th>\n",
       "      <th>calls_kol</th>\n",
       "      <th>messages_kol</th>\n",
       "      <th>gb_used</th>\n",
       "    </tr>\n",
       "  </thead>\n",
       "  <tbody>\n",
       "    <tr>\n",
       "      <td>0</td>\n",
       "      <td>1000</td>\n",
       "      <td>52</td>\n",
       "      <td>NaN</td>\n",
       "      <td>Краснодар</td>\n",
       "      <td>Рафаил</td>\n",
       "      <td>Верещагин</td>\n",
       "      <td>2018-05-25</td>\n",
       "      <td>ultra</td>\n",
       "      <td>1000</td>\n",
       "      <td>30.0</td>\n",
       "      <td>...</td>\n",
       "      <td>1950</td>\n",
       "      <td>150</td>\n",
       "      <td>1</td>\n",
       "      <td>1</td>\n",
       "      <td>ultra</td>\n",
       "      <td>5.0</td>\n",
       "      <td>159.0</td>\n",
       "      <td>22.0</td>\n",
       "      <td>22.0</td>\n",
       "      <td>4.0</td>\n",
       "    </tr>\n",
       "    <tr>\n",
       "      <td>1</td>\n",
       "      <td>1000</td>\n",
       "      <td>52</td>\n",
       "      <td>NaN</td>\n",
       "      <td>Краснодар</td>\n",
       "      <td>Рафаил</td>\n",
       "      <td>Верещагин</td>\n",
       "      <td>2018-05-25</td>\n",
       "      <td>ultra</td>\n",
       "      <td>1000</td>\n",
       "      <td>30.0</td>\n",
       "      <td>...</td>\n",
       "      <td>1950</td>\n",
       "      <td>150</td>\n",
       "      <td>1</td>\n",
       "      <td>1</td>\n",
       "      <td>ultra</td>\n",
       "      <td>6.0</td>\n",
       "      <td>172.0</td>\n",
       "      <td>43.0</td>\n",
       "      <td>60.0</td>\n",
       "      <td>49.0</td>\n",
       "    </tr>\n",
       "    <tr>\n",
       "      <td>2</td>\n",
       "      <td>1000</td>\n",
       "      <td>52</td>\n",
       "      <td>NaN</td>\n",
       "      <td>Краснодар</td>\n",
       "      <td>Рафаил</td>\n",
       "      <td>Верещагин</td>\n",
       "      <td>2018-05-25</td>\n",
       "      <td>ultra</td>\n",
       "      <td>1000</td>\n",
       "      <td>30.0</td>\n",
       "      <td>...</td>\n",
       "      <td>1950</td>\n",
       "      <td>150</td>\n",
       "      <td>1</td>\n",
       "      <td>1</td>\n",
       "      <td>ultra</td>\n",
       "      <td>7.0</td>\n",
       "      <td>340.0</td>\n",
       "      <td>47.0</td>\n",
       "      <td>75.0</td>\n",
       "      <td>28.0</td>\n",
       "    </tr>\n",
       "    <tr>\n",
       "      <td>3</td>\n",
       "      <td>1000</td>\n",
       "      <td>52</td>\n",
       "      <td>NaN</td>\n",
       "      <td>Краснодар</td>\n",
       "      <td>Рафаил</td>\n",
       "      <td>Верещагин</td>\n",
       "      <td>2018-05-25</td>\n",
       "      <td>ultra</td>\n",
       "      <td>1000</td>\n",
       "      <td>30.0</td>\n",
       "      <td>...</td>\n",
       "      <td>1950</td>\n",
       "      <td>150</td>\n",
       "      <td>1</td>\n",
       "      <td>1</td>\n",
       "      <td>ultra</td>\n",
       "      <td>8.0</td>\n",
       "      <td>408.0</td>\n",
       "      <td>52.0</td>\n",
       "      <td>81.0</td>\n",
       "      <td>27.0</td>\n",
       "    </tr>\n",
       "    <tr>\n",
       "      <td>4</td>\n",
       "      <td>1000</td>\n",
       "      <td>52</td>\n",
       "      <td>NaN</td>\n",
       "      <td>Краснодар</td>\n",
       "      <td>Рафаил</td>\n",
       "      <td>Верещагин</td>\n",
       "      <td>2018-05-25</td>\n",
       "      <td>ultra</td>\n",
       "      <td>1000</td>\n",
       "      <td>30.0</td>\n",
       "      <td>...</td>\n",
       "      <td>1950</td>\n",
       "      <td>150</td>\n",
       "      <td>1</td>\n",
       "      <td>1</td>\n",
       "      <td>ultra</td>\n",
       "      <td>9.0</td>\n",
       "      <td>466.0</td>\n",
       "      <td>58.0</td>\n",
       "      <td>57.0</td>\n",
       "      <td>26.0</td>\n",
       "    </tr>\n",
       "  </tbody>\n",
       "</table>\n",
       "<p>5 rows × 21 columns</p>\n",
       "</div>"
      ],
      "text/plain": [
       "   user_id  age churn_date       city first_name  last_name    reg_date  \\\n",
       "0     1000   52        NaN  Краснодар     Рафаил  Верещагин  2018-05-25   \n",
       "1     1000   52        NaN  Краснодар     Рафаил  Верещагин  2018-05-25   \n",
       "2     1000   52        NaN  Краснодар     Рафаил  Верещагин  2018-05-25   \n",
       "3     1000   52        NaN  Краснодар     Рафаил  Верещагин  2018-05-25   \n",
       "4     1000   52        NaN  Краснодар     Рафаил  Верещагин  2018-05-25   \n",
       "\n",
       "  tariff  messages_included  mb_per_month_included  ...  rub_monthly_fee  \\\n",
       "0  ultra               1000                   30.0  ...             1950   \n",
       "1  ultra               1000                   30.0  ...             1950   \n",
       "2  ultra               1000                   30.0  ...             1950   \n",
       "3  ultra               1000                   30.0  ...             1950   \n",
       "4  ultra               1000                   30.0  ...             1950   \n",
       "\n",
       "   rub_per_gb  rub_per_message  rub_per_minute  tariff_name month  duration  \\\n",
       "0         150                1               1        ultra   5.0     159.0   \n",
       "1         150                1               1        ultra   6.0     172.0   \n",
       "2         150                1               1        ultra   7.0     340.0   \n",
       "3         150                1               1        ultra   8.0     408.0   \n",
       "4         150                1               1        ultra   9.0     466.0   \n",
       "\n",
       "   calls_kol  messages_kol  gb_used  \n",
       "0       22.0          22.0      4.0  \n",
       "1       43.0          60.0     49.0  \n",
       "2       47.0          75.0     28.0  \n",
       "3       52.0          81.0     27.0  \n",
       "4       58.0          57.0     26.0  \n",
       "\n",
       "[5 rows x 21 columns]"
      ]
     },
     "execution_count": 25,
     "metadata": {},
     "output_type": "execute_result"
    }
   ],
   "source": [
    "data = data_temp.merge(data, on = ['user_id'], how = 'outer')\n",
    "data.head()"
   ]
  },
  {
   "cell_type": "code",
   "execution_count": 26,
   "metadata": {
    "scrolled": true
   },
   "outputs": [
    {
     "name": "stdout",
     "output_type": "stream",
     "text": [
      "<class 'pandas.core.frame.DataFrame'>\n",
      "Int64Index: 3216 entries, 0 to 3215\n",
      "Data columns (total 21 columns):\n",
      "user_id                  3216 non-null int64\n",
      "age                      3216 non-null int64\n",
      "churn_date               189 non-null object\n",
      "city                     3216 non-null object\n",
      "first_name               3216 non-null object\n",
      "last_name                3216 non-null object\n",
      "reg_date                 3216 non-null object\n",
      "tariff                   3216 non-null object\n",
      "messages_included        3216 non-null int64\n",
      "mb_per_month_included    3216 non-null float64\n",
      "minutes_included         3216 non-null int64\n",
      "rub_monthly_fee          3216 non-null int64\n",
      "rub_per_gb               3216 non-null int64\n",
      "rub_per_message          3216 non-null int64\n",
      "rub_per_minute           3216 non-null int64\n",
      "tariff_name              3216 non-null object\n",
      "month                    3214 non-null float64\n",
      "duration                 3174 non-null float64\n",
      "calls_kol                3174 non-null float64\n",
      "messages_kol             2717 non-null float64\n",
      "gb_used                  3203 non-null float64\n",
      "dtypes: float64(6), int64(8), object(7)\n",
      "memory usage: 552.8+ KB\n"
     ]
    }
   ],
   "source": [
    "data.info()"
   ]
  },
  {
   "cell_type": "markdown",
   "metadata": {},
   "source": [
    "Полагаем, что если в кол-ве звонков/смс/время звонка и интеренет трафике стоит NaN то это означает, что звонка/смс/использование трафика не было. И мы смело заменяем пустые значения на 0"
   ]
  },
  {
   "cell_type": "code",
   "execution_count": 27,
   "metadata": {},
   "outputs": [
    {
     "data": {
      "text/plain": [
       "(0, 0, 0, 0)"
      ]
     },
     "execution_count": 27,
     "metadata": {},
     "output_type": "execute_result"
    }
   ],
   "source": [
    "data['duration'] = data['duration'].fillna(0)\n",
    "data['calls_kol'] = data['calls_kol'].fillna(0)\n",
    "data['messages_kol'] = data['messages_kol'].fillna(0)\n",
    "data['gb_used'] = data['gb_used'].fillna(0)\n",
    "\n",
    "data['calls_kol'].isna().sum(), data['duration'].isna().sum(), data['messages_kol'].isna().sum(),data['gb_used'].isna().sum()"
   ]
  },
  {
   "cell_type": "markdown",
   "metadata": {},
   "source": [
    "Теперь у нас есть таблица с данными для дальнейших расчетов."
   ]
  },
  {
   "cell_type": "markdown",
   "metadata": {},
   "source": [
    "Посчитаем помесячную выручку с каждого пользователя (вычтем бесплатный лимит из суммарного количества звонков, сообщений и интернет-трафика; остаток умножим на значение из тарифного плана; прибавим абонентскую плату, соответствующую тарифному плану)."
   ]
  },
  {
   "cell_type": "code",
   "execution_count": 28,
   "metadata": {},
   "outputs": [],
   "source": [
    "# посчитаем выручку отдельно по минутам, смс и интернету\n",
    "data['minutes_over'] = (data['duration'] - data['minutes_included']) * data['rub_per_minute']\n",
    "data['messages_over'] = (data['messages_kol'] - data['messages_included']) * data['rub_per_message']\n",
    "data['internet_over'] = (data['gb_used'] - data['mb_per_month_included']) * data['rub_per_gb']\n",
    "\n",
    "# убираем отрицательные значения - когда абонент не использовал включенные в тариф минуты и Гб.\n",
    "data.loc[data['minutes_over'] < 0, 'minutes_over'] = 0\n",
    "data.loc[data['messages_over'] < 0, 'messages_over'] = 0\n",
    "data.loc[data['internet_over'] < 0, 'internet_over'] = 0\n",
    "\n",
    "# считаем выручку\n",
    "data['profit'] = data['minutes_over'] + data['messages_over'] + data['internet_over'] + data['rub_monthly_fee']\n"
   ]
  },
  {
   "cell_type": "code",
   "execution_count": 29,
   "metadata": {
    "scrolled": true
   },
   "outputs": [
    {
     "data": {
      "text/html": [
       "<div>\n",
       "<style scoped>\n",
       "    .dataframe tbody tr th:only-of-type {\n",
       "        vertical-align: middle;\n",
       "    }\n",
       "\n",
       "    .dataframe tbody tr th {\n",
       "        vertical-align: top;\n",
       "    }\n",
       "\n",
       "    .dataframe thead th {\n",
       "        text-align: right;\n",
       "    }\n",
       "</style>\n",
       "<table border=\"1\" class=\"dataframe\">\n",
       "  <thead>\n",
       "    <tr style=\"text-align: right;\">\n",
       "      <th></th>\n",
       "      <th>user_id</th>\n",
       "      <th>age</th>\n",
       "      <th>churn_date</th>\n",
       "      <th>city</th>\n",
       "      <th>first_name</th>\n",
       "      <th>last_name</th>\n",
       "      <th>reg_date</th>\n",
       "      <th>tariff</th>\n",
       "      <th>messages_included</th>\n",
       "      <th>mb_per_month_included</th>\n",
       "      <th>...</th>\n",
       "      <th>tariff_name</th>\n",
       "      <th>month</th>\n",
       "      <th>duration</th>\n",
       "      <th>calls_kol</th>\n",
       "      <th>messages_kol</th>\n",
       "      <th>gb_used</th>\n",
       "      <th>minutes_over</th>\n",
       "      <th>messages_over</th>\n",
       "      <th>internet_over</th>\n",
       "      <th>profit</th>\n",
       "    </tr>\n",
       "  </thead>\n",
       "  <tbody>\n",
       "    <tr>\n",
       "      <td>0</td>\n",
       "      <td>1000</td>\n",
       "      <td>52</td>\n",
       "      <td>NaN</td>\n",
       "      <td>Краснодар</td>\n",
       "      <td>Рафаил</td>\n",
       "      <td>Верещагин</td>\n",
       "      <td>2018-05-25</td>\n",
       "      <td>ultra</td>\n",
       "      <td>1000</td>\n",
       "      <td>30.0</td>\n",
       "      <td>...</td>\n",
       "      <td>ultra</td>\n",
       "      <td>5.0</td>\n",
       "      <td>159.0</td>\n",
       "      <td>22.0</td>\n",
       "      <td>22.0</td>\n",
       "      <td>4.0</td>\n",
       "      <td>0.0</td>\n",
       "      <td>0.0</td>\n",
       "      <td>0.0</td>\n",
       "      <td>1950.0</td>\n",
       "    </tr>\n",
       "    <tr>\n",
       "      <td>1</td>\n",
       "      <td>1000</td>\n",
       "      <td>52</td>\n",
       "      <td>NaN</td>\n",
       "      <td>Краснодар</td>\n",
       "      <td>Рафаил</td>\n",
       "      <td>Верещагин</td>\n",
       "      <td>2018-05-25</td>\n",
       "      <td>ultra</td>\n",
       "      <td>1000</td>\n",
       "      <td>30.0</td>\n",
       "      <td>...</td>\n",
       "      <td>ultra</td>\n",
       "      <td>6.0</td>\n",
       "      <td>172.0</td>\n",
       "      <td>43.0</td>\n",
       "      <td>60.0</td>\n",
       "      <td>49.0</td>\n",
       "      <td>0.0</td>\n",
       "      <td>0.0</td>\n",
       "      <td>2850.0</td>\n",
       "      <td>4800.0</td>\n",
       "    </tr>\n",
       "    <tr>\n",
       "      <td>2</td>\n",
       "      <td>1000</td>\n",
       "      <td>52</td>\n",
       "      <td>NaN</td>\n",
       "      <td>Краснодар</td>\n",
       "      <td>Рафаил</td>\n",
       "      <td>Верещагин</td>\n",
       "      <td>2018-05-25</td>\n",
       "      <td>ultra</td>\n",
       "      <td>1000</td>\n",
       "      <td>30.0</td>\n",
       "      <td>...</td>\n",
       "      <td>ultra</td>\n",
       "      <td>7.0</td>\n",
       "      <td>340.0</td>\n",
       "      <td>47.0</td>\n",
       "      <td>75.0</td>\n",
       "      <td>28.0</td>\n",
       "      <td>0.0</td>\n",
       "      <td>0.0</td>\n",
       "      <td>0.0</td>\n",
       "      <td>1950.0</td>\n",
       "    </tr>\n",
       "    <tr>\n",
       "      <td>3</td>\n",
       "      <td>1000</td>\n",
       "      <td>52</td>\n",
       "      <td>NaN</td>\n",
       "      <td>Краснодар</td>\n",
       "      <td>Рафаил</td>\n",
       "      <td>Верещагин</td>\n",
       "      <td>2018-05-25</td>\n",
       "      <td>ultra</td>\n",
       "      <td>1000</td>\n",
       "      <td>30.0</td>\n",
       "      <td>...</td>\n",
       "      <td>ultra</td>\n",
       "      <td>8.0</td>\n",
       "      <td>408.0</td>\n",
       "      <td>52.0</td>\n",
       "      <td>81.0</td>\n",
       "      <td>27.0</td>\n",
       "      <td>0.0</td>\n",
       "      <td>0.0</td>\n",
       "      <td>0.0</td>\n",
       "      <td>1950.0</td>\n",
       "    </tr>\n",
       "    <tr>\n",
       "      <td>4</td>\n",
       "      <td>1000</td>\n",
       "      <td>52</td>\n",
       "      <td>NaN</td>\n",
       "      <td>Краснодар</td>\n",
       "      <td>Рафаил</td>\n",
       "      <td>Верещагин</td>\n",
       "      <td>2018-05-25</td>\n",
       "      <td>ultra</td>\n",
       "      <td>1000</td>\n",
       "      <td>30.0</td>\n",
       "      <td>...</td>\n",
       "      <td>ultra</td>\n",
       "      <td>9.0</td>\n",
       "      <td>466.0</td>\n",
       "      <td>58.0</td>\n",
       "      <td>57.0</td>\n",
       "      <td>26.0</td>\n",
       "      <td>0.0</td>\n",
       "      <td>0.0</td>\n",
       "      <td>0.0</td>\n",
       "      <td>1950.0</td>\n",
       "    </tr>\n",
       "  </tbody>\n",
       "</table>\n",
       "<p>5 rows × 25 columns</p>\n",
       "</div>"
      ],
      "text/plain": [
       "   user_id  age churn_date       city first_name  last_name    reg_date  \\\n",
       "0     1000   52        NaN  Краснодар     Рафаил  Верещагин  2018-05-25   \n",
       "1     1000   52        NaN  Краснодар     Рафаил  Верещагин  2018-05-25   \n",
       "2     1000   52        NaN  Краснодар     Рафаил  Верещагин  2018-05-25   \n",
       "3     1000   52        NaN  Краснодар     Рафаил  Верещагин  2018-05-25   \n",
       "4     1000   52        NaN  Краснодар     Рафаил  Верещагин  2018-05-25   \n",
       "\n",
       "  tariff  messages_included  mb_per_month_included  ...  tariff_name  month  \\\n",
       "0  ultra               1000                   30.0  ...        ultra    5.0   \n",
       "1  ultra               1000                   30.0  ...        ultra    6.0   \n",
       "2  ultra               1000                   30.0  ...        ultra    7.0   \n",
       "3  ultra               1000                   30.0  ...        ultra    8.0   \n",
       "4  ultra               1000                   30.0  ...        ultra    9.0   \n",
       "\n",
       "   duration  calls_kol  messages_kol gb_used  minutes_over  messages_over  \\\n",
       "0     159.0       22.0          22.0     4.0           0.0            0.0   \n",
       "1     172.0       43.0          60.0    49.0           0.0            0.0   \n",
       "2     340.0       47.0          75.0    28.0           0.0            0.0   \n",
       "3     408.0       52.0          81.0    27.0           0.0            0.0   \n",
       "4     466.0       58.0          57.0    26.0           0.0            0.0   \n",
       "\n",
       "   internet_over  profit  \n",
       "0            0.0  1950.0  \n",
       "1         2850.0  4800.0  \n",
       "2            0.0  1950.0  \n",
       "3            0.0  1950.0  \n",
       "4            0.0  1950.0  \n",
       "\n",
       "[5 rows x 25 columns]"
      ]
     },
     "execution_count": 29,
     "metadata": {},
     "output_type": "execute_result"
    }
   ],
   "source": [
    "data.head()"
   ]
  },
  {
   "cell_type": "markdown",
   "metadata": {},
   "source": [
    "Теперь у нас есть готовая и полная таблица для дальнейшего анализа."
   ]
  },
  {
   "cell_type": "markdown",
   "metadata": {},
   "source": [
    "## Анализ данных"
   ]
  },
  {
   "cell_type": "markdown",
   "metadata": {},
   "source": [
    "Посмотрим, сколько минут разговора тратится для каждого тарифа."
   ]
  },
  {
   "cell_type": "markdown",
   "metadata": {},
   "source": [
    "### Данные по звонкам"
   ]
  },
  {
   "cell_type": "code",
   "execution_count": 30,
   "metadata": {
    "scrolled": true
   },
   "outputs": [
    {
     "data": {
      "text/html": [
       "<div>\n",
       "<style scoped>\n",
       "    .dataframe tbody tr th:only-of-type {\n",
       "        vertical-align: middle;\n",
       "    }\n",
       "\n",
       "    .dataframe tbody tr th {\n",
       "        vertical-align: top;\n",
       "    }\n",
       "\n",
       "    .dataframe thead tr th {\n",
       "        text-align: left;\n",
       "    }\n",
       "\n",
       "    .dataframe thead tr:last-of-type th {\n",
       "        text-align: right;\n",
       "    }\n",
       "</style>\n",
       "<table border=\"1\" class=\"dataframe\">\n",
       "  <thead>\n",
       "    <tr>\n",
       "      <th></th>\n",
       "      <th colspan=\"4\" halign=\"left\">duration</th>\n",
       "    </tr>\n",
       "    <tr>\n",
       "      <th></th>\n",
       "      <th>mean</th>\n",
       "      <th>std</th>\n",
       "      <th>var</th>\n",
       "      <th>median</th>\n",
       "    </tr>\n",
       "    <tr>\n",
       "      <th>tariff_name</th>\n",
       "      <th></th>\n",
       "      <th></th>\n",
       "      <th></th>\n",
       "      <th></th>\n",
       "    </tr>\n",
       "  </thead>\n",
       "  <tbody>\n",
       "    <tr>\n",
       "      <td>smart</td>\n",
       "      <td>417.747534</td>\n",
       "      <td>190.476754</td>\n",
       "      <td>36281.393836</td>\n",
       "      <td>421.5</td>\n",
       "    </tr>\n",
       "    <tr>\n",
       "      <td>ultra</td>\n",
       "      <td>526.089249</td>\n",
       "      <td>317.887549</td>\n",
       "      <td>101052.493549</td>\n",
       "      <td>518.0</td>\n",
       "    </tr>\n",
       "  </tbody>\n",
       "</table>\n",
       "</div>"
      ],
      "text/plain": [
       "               duration                                  \n",
       "                   mean         std            var median\n",
       "tariff_name                                              \n",
       "smart        417.747534  190.476754   36281.393836  421.5\n",
       "ultra        526.089249  317.887549  101052.493549  518.0"
      ]
     },
     "execution_count": 30,
     "metadata": {},
     "output_type": "execute_result"
    }
   ],
   "source": [
    "# посмотрим на характеристики по затраченным минутам на звонки\n",
    "data.groupby('tariff_name').agg({'duration': ['mean','std','var','median']})"
   ]
  },
  {
   "cell_type": "markdown",
   "metadata": {},
   "source": [
    "Из полученных данных можно сделать вывод, что по тарифу smart - среднее время разговора в месяц составляет 418 минут. По тарифу  ultra - 526 минут.  Но величина стандартного отклонения достаточно большая, что говорит о том, что есть большой разброс значений. При чем на тафире ultra этот разброс больше ( хвост длиннее)"
   ]
  },
  {
   "cell_type": "markdown",
   "metadata": {},
   "source": [
    "Построим гистограмму"
   ]
  },
  {
   "cell_type": "code",
   "execution_count": 31,
   "metadata": {},
   "outputs": [
    {
     "data": {
      "image/png": "[encoded data removed]",
      "text/plain": [
       "<Figure size 720x432 with 1 Axes>"
      ]
     },
     "metadata": {
      "needs_background": "light"
     },
     "output_type": "display_data"
    }
   ],
   "source": [
    "ax = data[data['tariff_name'] == 'smart']['duration'].hist(bins = 20,figsize = (10,6),label = 'smart',grid = True)\n",
    "data[data['tariff_name'] == 'ultra']['duration'].hist(ax=ax,alpha = 0.6,bins = 20,label = 'ultra')\n",
    "plt.title ('Потрачено минут в месяц')\n",
    "plt.legend()\n",
    "plt.xlabel('мин')\n",
    "plt.ylabel('частота')\n",
    "plt.show()"
   ]
  },
  {
   "cell_type": "markdown",
   "metadata": {},
   "source": [
    "Из графика видно, то на тарифе smart большинство абонентов тратит до 500 минут в месяц ( не превышая кол-во включенных минут в тарифе), но довольно много абонентов выходят за грань в 500 минут.\n",
    "На тарифе smart абоненты в среднем тратят до 800 минут в месяц. Включенные в тариф 3000 минут практически никто не выговаривает."
   ]
  },
  {
   "cell_type": "markdown",
   "metadata": {},
   "source": [
    "### Данные по смс"
   ]
  },
  {
   "cell_type": "code",
   "execution_count": 32,
   "metadata": {},
   "outputs": [
    {
     "data": {
      "text/html": [
       "<div>\n",
       "<style scoped>\n",
       "    .dataframe tbody tr th:only-of-type {\n",
       "        vertical-align: middle;\n",
       "    }\n",
       "\n",
       "    .dataframe tbody tr th {\n",
       "        vertical-align: top;\n",
       "    }\n",
       "\n",
       "    .dataframe thead tr th {\n",
       "        text-align: left;\n",
       "    }\n",
       "\n",
       "    .dataframe thead tr:last-of-type th {\n",
       "        text-align: right;\n",
       "    }\n",
       "</style>\n",
       "<table border=\"1\" class=\"dataframe\">\n",
       "  <thead>\n",
       "    <tr>\n",
       "      <th></th>\n",
       "      <th colspan=\"4\" halign=\"left\">messages_kol</th>\n",
       "    </tr>\n",
       "    <tr>\n",
       "      <th></th>\n",
       "      <th>mean</th>\n",
       "      <th>std</th>\n",
       "      <th>var</th>\n",
       "      <th>median</th>\n",
       "    </tr>\n",
       "    <tr>\n",
       "      <th>tariff_name</th>\n",
       "      <th></th>\n",
       "      <th></th>\n",
       "      <th></th>\n",
       "      <th></th>\n",
       "    </tr>\n",
       "  </thead>\n",
       "  <tbody>\n",
       "    <tr>\n",
       "      <td>smart</td>\n",
       "      <td>33.369058</td>\n",
       "      <td>28.230396</td>\n",
       "      <td>796.955256</td>\n",
       "      <td>28.0</td>\n",
       "    </tr>\n",
       "    <tr>\n",
       "      <td>ultra</td>\n",
       "      <td>49.313387</td>\n",
       "      <td>47.806040</td>\n",
       "      <td>2285.417425</td>\n",
       "      <td>38.0</td>\n",
       "    </tr>\n",
       "  </tbody>\n",
       "</table>\n",
       "</div>"
      ],
      "text/plain": [
       "            messages_kol                               \n",
       "                    mean        std          var median\n",
       "tariff_name                                            \n",
       "smart          33.369058  28.230396   796.955256   28.0\n",
       "ultra          49.313387  47.806040  2285.417425   38.0"
      ]
     },
     "execution_count": 32,
     "metadata": {},
     "output_type": "execute_result"
    }
   ],
   "source": [
    "# посмотрим на характеристики по кол-ву смс \n",
    "data.groupby('tariff_name').agg({'messages_kol': ['mean','std','var','median']})"
   ]
  },
  {
   "cell_type": "markdown",
   "metadata": {},
   "source": [
    "Здесь видим очень большой разброс значение на обоих тарифах. Стандартное отклонение почти равно среднему значению. \n",
    "Среднее кол-во смс на тарифе smart - 33 смс, а на тарифе ultra - 49 смс. Хотя правильнее было опираться на значения медианы, а не на среднее. \n",
    "По полученным данным мы видим, что датасет скошен вправо, т.к. среднее больше медианы"
   ]
  },
  {
   "cell_type": "markdown",
   "metadata": {},
   "source": [
    "Построим график"
   ]
  },
  {
   "cell_type": "code",
   "execution_count": 33,
   "metadata": {},
   "outputs": [
    {
     "data": {
      "image/png": "[encoded data removed]",
      "text/plain": [
       "<Figure size 720x432 with 1 Axes>"
      ]
     },
     "metadata": {
      "needs_background": "light"
     },
     "output_type": "display_data"
    }
   ],
   "source": [
    "ax = data[data['tariff_name'] == 'smart']['messages_kol'].hist(bins = 20,figsize = (10,6),label = 'smart',grid = True)\n",
    "data[data['tariff_name'] == 'ultra']['messages_kol'].hist(ax=ax,alpha = 0.6,bins = 20,label = 'ultra')\n",
    "plt.title ('Количество сообщений в месяц')\n",
    "plt.legend()\n",
    "plt.xlabel('Кол-во сообщений')\n",
    "plt.ylabel('Частота')\n",
    "plt.show()"
   ]
  },
  {
   "cell_type": "markdown",
   "metadata": {},
   "source": [
    "Здесь мы так же видим, что на тарифе smart большая часть абонентов отправляет 50 смс в месяц (кол-во смс включенные в тарифный план = 50). Но так же есть группа абонентов, которые отправляют значительно больше смс в месяц.\n",
    "\n",
    "На тарифе ultra основная масса абоненов отправляет 10 смс в месяц, следующая группа абонентов напрявляет до 100 смс в месяц.Но даже при таких показателях, абоненты не выходят за кол-во смс, которые включены в тариф ( 1000 смс)\n"
   ]
  },
  {
   "cell_type": "markdown",
   "metadata": {},
   "source": [
    "### Данные по интернет трафику"
   ]
  },
  {
   "cell_type": "code",
   "execution_count": 34,
   "metadata": {},
   "outputs": [
    {
     "data": {
      "text/html": [
       "<div>\n",
       "<style scoped>\n",
       "    .dataframe tbody tr th:only-of-type {\n",
       "        vertical-align: middle;\n",
       "    }\n",
       "\n",
       "    .dataframe tbody tr th {\n",
       "        vertical-align: top;\n",
       "    }\n",
       "\n",
       "    .dataframe thead tr th {\n",
       "        text-align: left;\n",
       "    }\n",
       "\n",
       "    .dataframe thead tr:last-of-type th {\n",
       "        text-align: right;\n",
       "    }\n",
       "</style>\n",
       "<table border=\"1\" class=\"dataframe\">\n",
       "  <thead>\n",
       "    <tr>\n",
       "      <th></th>\n",
       "      <th colspan=\"4\" halign=\"left\">gb_used</th>\n",
       "    </tr>\n",
       "    <tr>\n",
       "      <th></th>\n",
       "      <th>mean</th>\n",
       "      <th>std</th>\n",
       "      <th>var</th>\n",
       "      <th>median</th>\n",
       "    </tr>\n",
       "    <tr>\n",
       "      <th>tariff_name</th>\n",
       "      <th></th>\n",
       "      <th></th>\n",
       "      <th></th>\n",
       "      <th></th>\n",
       "    </tr>\n",
       "  </thead>\n",
       "  <tbody>\n",
       "    <tr>\n",
       "      <td>smart</td>\n",
       "      <td>42.399103</td>\n",
       "      <td>14.966731</td>\n",
       "      <td>224.003050</td>\n",
       "      <td>43.0</td>\n",
       "    </tr>\n",
       "    <tr>\n",
       "      <td>ultra</td>\n",
       "      <td>38.125761</td>\n",
       "      <td>19.592457</td>\n",
       "      <td>383.864371</td>\n",
       "      <td>38.0</td>\n",
       "    </tr>\n",
       "  </tbody>\n",
       "</table>\n",
       "</div>"
      ],
      "text/plain": [
       "               gb_used                              \n",
       "                  mean        std         var median\n",
       "tariff_name                                         \n",
       "smart        42.399103  14.966731  224.003050   43.0\n",
       "ultra        38.125761  19.592457  383.864371   38.0"
      ]
     },
     "execution_count": 34,
     "metadata": {},
     "output_type": "execute_result"
    }
   ],
   "source": [
    "# посмотрим на характеристики по интернет трафику\n",
    "data.groupby('tariff_name').agg({'gb_used': ['mean','std','var','median']})"
   ]
  },
  {
   "cell_type": "markdown",
   "metadata": {},
   "source": [
    "Здесь разброс уже меньше. Среднее практически совпадает с медианой значений.Значения по интернет трафику имею нормальное распределение. В среднем на тарифе smart используется 42 Гб трафика, на тарифе ultra - 38 Гб трафика."
   ]
  },
  {
   "cell_type": "markdown",
   "metadata": {},
   "source": [
    "Посмотрим, сколько тратится интернет трафика для каждого тарифа."
   ]
  },
  {
   "cell_type": "code",
   "execution_count": 35,
   "metadata": {},
   "outputs": [
    {
     "data": {
      "image/png": "[encoded data removed]",
      "text/plain": [
       "<Figure size 720x432 with 1 Axes>"
      ]
     },
     "metadata": {
      "needs_background": "light"
     },
     "output_type": "display_data"
    }
   ],
   "source": [
    "ax = data[data['tariff_name'] == 'smart']['gb_used'].hist(bins = 20,figsize = (10,6),label = 'smart',grid = True)\n",
    "data[data['tariff_name'] == 'ultra']['gb_used'].hist(ax=ax,alpha = 0.6,bins = 20,label = 'ultra')\n",
    "plt.title ('Сколько потрачено интернет трафика ')\n",
    "plt.legend()\n",
    "plt.xlabel('Кол-во Гб')\n",
    "plt.ylabel('Частота')\n",
    "plt.show()"
   ]
  },
  {
   "cell_type": "markdown",
   "metadata": {},
   "source": [
    "А вот тут интересная картина. Несмотря на то, что на тарифе smart включено всего 15 Гб трафика, большая часть абонентов тратит 40-50 Гб интернета. В то время , как на тарифе ultra, абоненты большая часть абонентов тратит до 55 Гб, что, впринципе тоже превышает включенный объем трафика (30 Гб)"
   ]
  },
  {
   "cell_type": "markdown",
   "metadata": {},
   "source": [
    "### Данные по выручке"
   ]
  },
  {
   "cell_type": "code",
   "execution_count": 36,
   "metadata": {},
   "outputs": [
    {
     "data": {
      "text/html": [
       "<div>\n",
       "<style scoped>\n",
       "    .dataframe tbody tr th:only-of-type {\n",
       "        vertical-align: middle;\n",
       "    }\n",
       "\n",
       "    .dataframe tbody tr th {\n",
       "        vertical-align: top;\n",
       "    }\n",
       "\n",
       "    .dataframe thead tr th {\n",
       "        text-align: left;\n",
       "    }\n",
       "\n",
       "    .dataframe thead tr:last-of-type th {\n",
       "        text-align: right;\n",
       "    }\n",
       "</style>\n",
       "<table border=\"1\" class=\"dataframe\">\n",
       "  <thead>\n",
       "    <tr>\n",
       "      <th></th>\n",
       "      <th colspan=\"4\" halign=\"left\">profit</th>\n",
       "    </tr>\n",
       "    <tr>\n",
       "      <th></th>\n",
       "      <th>mean</th>\n",
       "      <th>std</th>\n",
       "      <th>var</th>\n",
       "      <th>median</th>\n",
       "    </tr>\n",
       "    <tr>\n",
       "      <th>tariff_name</th>\n",
       "      <th></th>\n",
       "      <th></th>\n",
       "      <th></th>\n",
       "      <th></th>\n",
       "    </tr>\n",
       "  </thead>\n",
       "  <tbody>\n",
       "    <tr>\n",
       "      <td>smart</td>\n",
       "      <td>6244.529596</td>\n",
       "      <td>2895.582681</td>\n",
       "      <td>8.384399e+06</td>\n",
       "      <td>6350.0</td>\n",
       "    </tr>\n",
       "    <tr>\n",
       "      <td>ultra</td>\n",
       "      <td>3842.494929</td>\n",
       "      <td>2165.879726</td>\n",
       "      <td>4.691035e+06</td>\n",
       "      <td>3150.0</td>\n",
       "    </tr>\n",
       "  </tbody>\n",
       "</table>\n",
       "</div>"
      ],
      "text/plain": [
       "                  profit                                   \n",
       "                    mean          std           var  median\n",
       "tariff_name                                                \n",
       "smart        6244.529596  2895.582681  8.384399e+06  6350.0\n",
       "ultra        3842.494929  2165.879726  4.691035e+06  3150.0"
      ]
     },
     "execution_count": 36,
     "metadata": {},
     "output_type": "execute_result"
    }
   ],
   "source": [
    "# посмотрим на характеристики по выручке \n",
    "data.groupby('tariff_name').agg({'profit': ['mean','std','var','median']})"
   ]
  },
  {
   "cell_type": "markdown",
   "metadata": {},
   "source": [
    "Если верить данным, то на тарифе smart выручка в 2 раза выше, чем на тарифе ultra. Скорее всего это свзяано с тем, что абоненты smart чаще выходят за пределы предоставленных лимитов по тарифу и производят оплату сверх тарифа. А абоненты ultra практически всегда укладываются в предоставленные по тарифу лимиты."
   ]
  },
  {
   "cell_type": "markdown",
   "metadata": {},
   "source": [
    "## Проверка гипотез\n"
   ]
  },
  {
   "cell_type": "markdown",
   "metadata": {},
   "source": [
    "### Cредняя выручка пользователей тарифов «Ультра» и «Смарт» различаются. "
   ]
  },
  {
   "cell_type": "markdown",
   "metadata": {},
   "source": [
    "Нулевая гипотеза - выручка по тарифам одинаковая\n",
    "\n",
    "Альтернативная гипотеза - выручка по тарифам разная"
   ]
  },
  {
   "cell_type": "code",
   "execution_count": 37,
   "metadata": {},
   "outputs": [],
   "source": [
    "data_smart = data[data['tariff_name'] == 'smart']['profit']\n",
    "data_ultra = data[data['tariff_name'] == 'ultra']['profit']"
   ]
  },
  {
   "cell_type": "code",
   "execution_count": 38,
   "metadata": {},
   "outputs": [
    {
     "data": {
      "text/plain": [
       "8     6950.0\n",
       "9     4550.0\n",
       "10    2950.0\n",
       "11    6550.0\n",
       "12    7550.0\n",
       "Name: profit, dtype: float64"
      ]
     },
     "execution_count": 38,
     "metadata": {},
     "output_type": "execute_result"
    }
   ],
   "source": [
    "data_smart.head()"
   ]
  },
  {
   "cell_type": "code",
   "execution_count": 39,
   "metadata": {
    "scrolled": true
   },
   "outputs": [
    {
     "data": {
      "text/plain": [
       "0    1950.0\n",
       "1    4800.0\n",
       "2    1950.0\n",
       "3    1950.0\n",
       "4    1950.0\n",
       "Name: profit, dtype: float64"
      ]
     },
     "execution_count": 39,
     "metadata": {},
     "output_type": "execute_result"
    }
   ],
   "source": [
    "data_ultra.head()"
   ]
  },
  {
   "cell_type": "code",
   "execution_count": 40,
   "metadata": {},
   "outputs": [
    {
     "name": "stdout",
     "output_type": "stream",
     "text": [
      "p-значение:  2.8106330183719197e-111\n",
      "Отвергаем нулевую гипотезу\n"
     ]
    }
   ],
   "source": [
    "alpha = 0.05  # критический уровень статистической значимости\n",
    "\n",
    "results = st.ttest_ind(data_smart, data_ultra)\n",
    "\n",
    "print('p-значение: ', results.pvalue)\n",
    "\n",
    "if results.pvalue < alpha:\n",
    "    print(\"Отвергаем нулевую гипотезу\")\n",
    "else:\n",
    "    print(\"Не получилось отвергнуть нулевую гипотезу\") \n"
   ]
  },
  {
   "cell_type": "markdown",
   "metadata": {},
   "source": [
    "Нулевая гипотеза отвергнута. Делаем вывод, что выручка у тарифов разная."
   ]
  },
  {
   "cell_type": "markdown",
   "metadata": {},
   "source": [
    "### Средняя выручка пользователей из Москвы отличается от выручки пользователей из других регионов"
   ]
  },
  {
   "cell_type": "markdown",
   "metadata": {},
   "source": [
    "Нулевая гипотеза - выручка для Москвы и для других регионов одинаковая\n",
    "\n",
    "Альтернативная гипотеза - выручка для Москвы и др.регионов разная"
   ]
  },
  {
   "cell_type": "code",
   "execution_count": 41,
   "metadata": {},
   "outputs": [],
   "source": [
    "data_smart_city = data[(data['tariff_name'] == 'smart') & (data['city'] == 'Москва')]['profit']\n",
    "data_ultra_city = data[(data['tariff_name'] == 'ultra') & (data['city'] == 'Москва')]['profit']"
   ]
  },
  {
   "cell_type": "code",
   "execution_count": 42,
   "metadata": {},
   "outputs": [
    {
     "data": {
      "text/plain": [
       "8     6950.0\n",
       "9     4550.0\n",
       "53    1150.0\n",
       "54    6950.0\n",
       "55    5085.0\n",
       "Name: profit, dtype: float64"
      ]
     },
     "execution_count": 42,
     "metadata": {},
     "output_type": "execute_result"
    }
   ],
   "source": [
    "data_smart_city.head()"
   ]
  },
  {
   "cell_type": "code",
   "execution_count": 43,
   "metadata": {},
   "outputs": [
    {
     "data": {
      "text/plain": [
       "17    1950.0\n",
       "18    1950.0\n",
       "19    1950.0\n",
       "20    1950.0\n",
       "21    1950.0\n",
       "Name: profit, dtype: float64"
      ]
     },
     "execution_count": 43,
     "metadata": {},
     "output_type": "execute_result"
    }
   ],
   "source": [
    "data_ultra_city.head()"
   ]
  },
  {
   "cell_type": "code",
   "execution_count": 44,
   "metadata": {},
   "outputs": [
    {
     "name": "stdout",
     "output_type": "stream",
     "text": [
      "p-значение:  3.061718233784844e-17\n",
      "Отвергаем нулевую гипотезу\n"
     ]
    }
   ],
   "source": [
    "alpha = 0.05  # критический уровень статистической значимости\n",
    "\n",
    "results = st.ttest_ind(data_smart_city, data_ultra_city)\n",
    "\n",
    "print('p-значение: ', results.pvalue)\n",
    "\n",
    "if results.pvalue < alpha:\n",
    "    print(\"Отвергаем нулевую гипотезу\")\n",
    "else:\n",
    "    print(\"Не получилось отвергнуть нулевую гипотезу\") "
   ]
  },
  {
   "cell_type": "markdown",
   "metadata": {},
   "source": [
    "## Вывод"
   ]
  },
  {
   "cell_type": "markdown",
   "metadata": {},
   "source": [
    "Проанализировав данные, мы может сказать, что тариф smart приносит больше прибыли, чем тариф ultra. Скорее всего это связано с тем, что абонентам тарифа ultra хватает включенных в тариф услуг ( за исклбчанием интернет трафика). В то время как на тарифе smart, абонентам, в большей степерни, не хватает включенных в тариф услуг и они чаще оплачивают дополнительные минуты, смс, интернет, что приводит к увеличению выручки по данному тарифу. Так же выяснилось, что выручка для Москвы и для других регионов разная.Что, скорее всего, связано с количеством проживающих людей в Мосвке."
   ]
  }
 ],
 "metadata": {
  "ExecuteTimeLog": [
   {
    "duration": 376,
    "start_time": "2021-12-25T13:30:50.890Z"
   },
   {
    "duration": 791,
    "start_time": "2021-12-25T13:30:56.762Z"
   },
   {
    "duration": 42,
    "start_time": "2021-12-25T13:30:59.023Z"
   },
   {
    "duration": 37,
    "start_time": "2021-12-25T13:31:45.130Z"
   },
   {
    "duration": 10,
    "start_time": "2021-12-25T13:32:10.185Z"
   },
   {
    "duration": 2323,
    "start_time": "2021-12-25T13:34:36.193Z"
   },
   {
    "duration": 2707,
    "start_time": "2021-12-25T13:34:46.387Z"
   },
   {
    "duration": 2543,
    "start_time": "2021-12-25T13:34:59.640Z"
   },
   {
    "duration": 202,
    "start_time": "2021-12-25T13:35:27.731Z"
   },
   {
    "duration": 28,
    "start_time": "2021-12-25T13:35:41.590Z"
   },
   {
    "duration": 118,
    "start_time": "2021-12-25T13:41:45.931Z"
   },
   {
    "duration": 11,
    "start_time": "2021-12-25T13:42:27.566Z"
   },
   {
    "duration": 20,
    "start_time": "2021-12-25T13:42:40.183Z"
   },
   {
    "duration": 172,
    "start_time": "2021-12-25T13:43:26.617Z"
   },
   {
    "duration": 444,
    "start_time": "2021-12-25T13:43:53.072Z"
   },
   {
    "duration": 22,
    "start_time": "2021-12-25T13:43:57.903Z"
   },
   {
    "duration": 24,
    "start_time": "2021-12-25T13:45:22.419Z"
   },
   {
    "duration": 24,
    "start_time": "2021-12-25T13:45:56.214Z"
   },
   {
    "duration": 803,
    "start_time": "2021-12-25T13:46:03.016Z"
   },
   {
    "duration": 376,
    "start_time": "2021-12-25T13:46:03.823Z"
   },
   {
    "duration": -1047,
    "start_time": "2021-12-25T13:46:05.249Z"
   },
   {
    "duration": -1048,
    "start_time": "2021-12-25T13:46:05.252Z"
   },
   {
    "duration": -1057,
    "start_time": "2021-12-25T13:46:05.262Z"
   },
   {
    "duration": -1056,
    "start_time": "2021-12-25T13:46:05.263Z"
   },
   {
    "duration": -1056,
    "start_time": "2021-12-25T13:46:05.264Z"
   },
   {
    "duration": -1056,
    "start_time": "2021-12-25T13:46:05.265Z"
   },
   {
    "duration": -1055,
    "start_time": "2021-12-25T13:46:05.266Z"
   },
   {
    "duration": -1055,
    "start_time": "2021-12-25T13:46:05.267Z"
   },
   {
    "duration": 40,
    "start_time": "2021-12-25T13:46:22.014Z"
   },
   {
    "duration": 784,
    "start_time": "2021-12-25T13:46:32.271Z"
   },
   {
    "duration": 42,
    "start_time": "2021-12-25T13:46:33.058Z"
   },
   {
    "duration": 10,
    "start_time": "2021-12-25T13:46:33.103Z"
   },
   {
    "duration": 213,
    "start_time": "2021-12-25T13:46:33.115Z"
   },
   {
    "duration": 25,
    "start_time": "2021-12-25T13:46:33.331Z"
   },
   {
    "duration": 118,
    "start_time": "2021-12-25T13:46:33.359Z"
   },
   {
    "duration": 18,
    "start_time": "2021-12-25T13:46:33.479Z"
   },
   {
    "duration": 173,
    "start_time": "2021-12-25T13:46:33.500Z"
   },
   {
    "duration": 21,
    "start_time": "2021-12-25T13:46:33.676Z"
   },
   {
    "duration": 34,
    "start_time": "2021-12-25T13:46:33.700Z"
   },
   {
    "duration": 169,
    "start_time": "2021-12-25T13:47:02.708Z"
   },
   {
    "duration": 26,
    "start_time": "2021-12-25T13:47:09.291Z"
   },
   {
    "duration": 24,
    "start_time": "2021-12-25T13:47:15.831Z"
   },
   {
    "duration": 10,
    "start_time": "2021-12-25T13:48:34.205Z"
   },
   {
    "duration": 7,
    "start_time": "2021-12-25T14:00:30.284Z"
   },
   {
    "duration": 364,
    "start_time": "2021-12-25T14:01:51.447Z"
   },
   {
    "duration": 4,
    "start_time": "2021-12-25T14:05:05.966Z"
   },
   {
    "duration": 8,
    "start_time": "2021-12-25T14:05:13.150Z"
   },
   {
    "duration": 9,
    "start_time": "2021-12-25T14:05:26.672Z"
   },
   {
    "duration": -1069,
    "start_time": "2021-12-25T14:07:01.354Z"
   },
   {
    "duration": 8003,
    "start_time": "2021-12-25T14:07:13.503Z"
   },
   {
    "duration": 10,
    "start_time": "2021-12-25T14:07:23.934Z"
   },
   {
    "duration": 8,
    "start_time": "2021-12-25T14:07:30.825Z"
   },
   {
    "duration": 53,
    "start_time": "2021-12-25T14:14:58.698Z"
   },
   {
    "duration": 28,
    "start_time": "2021-12-25T14:15:13.269Z"
   },
   {
    "duration": 129,
    "start_time": "2021-12-25T14:16:34.215Z"
   },
   {
    "duration": 10,
    "start_time": "2021-12-25T14:16:49.087Z"
   },
   {
    "duration": 428,
    "start_time": "2021-12-25T14:20:47.707Z"
   },
   {
    "duration": 11,
    "start_time": "2021-12-25T14:21:02.938Z"
   },
   {
    "duration": 52,
    "start_time": "2021-12-25T14:21:13.254Z"
   },
   {
    "duration": 909,
    "start_time": "2021-12-26T11:09:45.145Z"
   },
   {
    "duration": 47,
    "start_time": "2021-12-26T11:09:46.057Z"
   },
   {
    "duration": 9,
    "start_time": "2021-12-26T11:09:46.108Z"
   },
   {
    "duration": 225,
    "start_time": "2021-12-26T11:09:46.120Z"
   },
   {
    "duration": 31,
    "start_time": "2021-12-26T11:09:46.347Z"
   },
   {
    "duration": 135,
    "start_time": "2021-12-26T11:09:46.381Z"
   },
   {
    "duration": 20,
    "start_time": "2021-12-26T11:09:46.519Z"
   },
   {
    "duration": 180,
    "start_time": "2021-12-26T11:09:46.560Z"
   },
   {
    "duration": 33,
    "start_time": "2021-12-26T11:09:46.743Z"
   },
   {
    "duration": 28,
    "start_time": "2021-12-26T11:09:46.779Z"
   },
   {
    "duration": 10,
    "start_time": "2021-12-26T11:09:46.810Z"
   },
   {
    "duration": 37,
    "start_time": "2021-12-26T11:09:46.823Z"
   },
   {
    "duration": 8,
    "start_time": "2021-12-26T11:09:46.863Z"
   },
   {
    "duration": 42,
    "start_time": "2021-12-26T11:09:46.874Z"
   },
   {
    "duration": 71,
    "start_time": "2021-12-26T11:09:46.919Z"
   },
   {
    "duration": 11,
    "start_time": "2021-12-26T11:09:46.992Z"
   },
   {
    "duration": 941,
    "start_time": "2021-12-26T11:09:59.070Z"
   },
   {
    "duration": 1197,
    "start_time": "2021-12-26T11:10:12.021Z"
   },
   {
    "duration": 118,
    "start_time": "2021-12-26T11:15:38.375Z"
   },
   {
    "duration": 427,
    "start_time": "2021-12-26T11:16:09.314Z"
   },
   {
    "duration": 129,
    "start_time": "2021-12-26T11:16:20.284Z"
   },
   {
    "duration": 371,
    "start_time": "2021-12-26T11:17:47.357Z"
   },
   {
    "duration": 378,
    "start_time": "2021-12-26T11:18:19.763Z"
   },
   {
    "duration": 534,
    "start_time": "2021-12-26T11:18:26.674Z"
   },
   {
    "duration": 44,
    "start_time": "2021-12-26T11:19:58.549Z"
   },
   {
    "duration": 29,
    "start_time": "2021-12-26T11:20:21.163Z"
   },
   {
    "duration": 30,
    "start_time": "2021-12-26T11:20:34.077Z"
   },
   {
    "duration": 29,
    "start_time": "2021-12-26T11:20:40.092Z"
   },
   {
    "duration": 28,
    "start_time": "2021-12-26T11:21:10.279Z"
   },
   {
    "duration": 371,
    "start_time": "2021-12-26T11:21:26.264Z"
   },
   {
    "duration": 398,
    "start_time": "2021-12-26T11:23:13.448Z"
   },
   {
    "duration": 952,
    "start_time": "2021-12-26T11:23:57.024Z"
   },
   {
    "duration": 47,
    "start_time": "2021-12-26T11:23:57.978Z"
   },
   {
    "duration": 10,
    "start_time": "2021-12-26T11:23:58.028Z"
   },
   {
    "duration": 219,
    "start_time": "2021-12-26T11:23:58.041Z"
   },
   {
    "duration": 28,
    "start_time": "2021-12-26T11:23:58.263Z"
   },
   {
    "duration": 131,
    "start_time": "2021-12-26T11:23:58.294Z"
   },
   {
    "duration": 31,
    "start_time": "2021-12-26T11:23:58.428Z"
   },
   {
    "duration": 219,
    "start_time": "2021-12-26T11:23:58.463Z"
   },
   {
    "duration": 27,
    "start_time": "2021-12-26T11:23:58.685Z"
   },
   {
    "duration": 34,
    "start_time": "2021-12-26T11:23:58.715Z"
   },
   {
    "duration": 12,
    "start_time": "2021-12-26T11:23:58.761Z"
   },
   {
    "duration": 14,
    "start_time": "2021-12-26T11:23:58.776Z"
   },
   {
    "duration": 8,
    "start_time": "2021-12-26T11:23:58.792Z"
   },
   {
    "duration": 84,
    "start_time": "2021-12-26T11:23:58.802Z"
   },
   {
    "duration": 45,
    "start_time": "2021-12-26T11:23:58.889Z"
   },
   {
    "duration": 57,
    "start_time": "2021-12-26T11:23:58.937Z"
   },
   {
    "duration": 36,
    "start_time": "2021-12-26T11:29:26.037Z"
   },
   {
    "duration": 894,
    "start_time": "2021-12-26T12:26:47.341Z"
   },
   {
    "duration": 48,
    "start_time": "2021-12-26T12:26:48.238Z"
   },
   {
    "duration": 9,
    "start_time": "2021-12-26T12:26:48.288Z"
   },
   {
    "duration": 212,
    "start_time": "2021-12-26T12:26:48.300Z"
   },
   {
    "duration": 26,
    "start_time": "2021-12-26T12:26:48.515Z"
   },
   {
    "duration": 132,
    "start_time": "2021-12-26T12:26:48.543Z"
   },
   {
    "duration": 19,
    "start_time": "2021-12-26T12:26:48.677Z"
   },
   {
    "duration": 204,
    "start_time": "2021-12-26T12:26:48.699Z"
   },
   {
    "duration": 24,
    "start_time": "2021-12-26T12:26:48.907Z"
   },
   {
    "duration": 37,
    "start_time": "2021-12-26T12:26:48.933Z"
   },
   {
    "duration": 9,
    "start_time": "2021-12-26T12:26:48.972Z"
   },
   {
    "duration": 9,
    "start_time": "2021-12-26T12:26:48.983Z"
   },
   {
    "duration": 7,
    "start_time": "2021-12-26T12:26:48.994Z"
   },
   {
    "duration": 85,
    "start_time": "2021-12-26T12:26:49.004Z"
   },
   {
    "duration": 42,
    "start_time": "2021-12-26T12:26:49.091Z"
   },
   {
    "duration": 70,
    "start_time": "2021-12-26T12:26:49.135Z"
   },
   {
    "duration": 45,
    "start_time": "2021-12-26T12:27:05.117Z"
   },
   {
    "duration": 34,
    "start_time": "2021-12-26T12:27:43.935Z"
   },
   {
    "duration": 35,
    "start_time": "2021-12-26T12:29:42.885Z"
   },
   {
    "duration": 34,
    "start_time": "2021-12-26T12:30:19.450Z"
   },
   {
    "duration": 19,
    "start_time": "2021-12-26T12:32:04.639Z"
   },
   {
    "duration": 21,
    "start_time": "2021-12-26T12:32:58.005Z"
   },
   {
    "duration": 17,
    "start_time": "2021-12-26T12:33:13.521Z"
   },
   {
    "duration": 10635,
    "start_time": "2021-12-26T12:34:03.073Z"
   },
   {
    "duration": 21,
    "start_time": "2021-12-26T12:34:22.851Z"
   },
   {
    "duration": 10060,
    "start_time": "2021-12-26T12:35:18.005Z"
   },
   {
    "duration": 881,
    "start_time": "2021-12-26T12:35:31.495Z"
   },
   {
    "duration": 80,
    "start_time": "2021-12-26T12:35:32.379Z"
   },
   {
    "duration": 11,
    "start_time": "2021-12-26T12:35:32.462Z"
   },
   {
    "duration": 223,
    "start_time": "2021-12-26T12:35:32.476Z"
   },
   {
    "duration": 27,
    "start_time": "2021-12-26T12:35:32.701Z"
   },
   {
    "duration": 144,
    "start_time": "2021-12-26T12:35:32.731Z"
   },
   {
    "duration": 19,
    "start_time": "2021-12-26T12:35:32.877Z"
   },
   {
    "duration": 193,
    "start_time": "2021-12-26T12:35:32.900Z"
   },
   {
    "duration": 23,
    "start_time": "2021-12-26T12:35:33.095Z"
   },
   {
    "duration": 39,
    "start_time": "2021-12-26T12:35:33.120Z"
   },
   {
    "duration": 8,
    "start_time": "2021-12-26T12:35:33.162Z"
   },
   {
    "duration": 10,
    "start_time": "2021-12-26T12:35:33.172Z"
   },
   {
    "duration": 7,
    "start_time": "2021-12-26T12:35:33.184Z"
   },
   {
    "duration": 76,
    "start_time": "2021-12-26T12:35:33.193Z"
   },
   {
    "duration": 41,
    "start_time": "2021-12-26T12:35:33.272Z"
   },
   {
    "duration": 65,
    "start_time": "2021-12-26T12:35:33.317Z"
   },
   {
    "duration": 42,
    "start_time": "2021-12-26T12:35:33.385Z"
   },
   {
    "duration": 36,
    "start_time": "2021-12-26T12:37:17.167Z"
   },
   {
    "duration": 47,
    "start_time": "2021-12-26T12:37:20.535Z"
   },
   {
    "duration": 36,
    "start_time": "2021-12-26T12:37:33.638Z"
   },
   {
    "duration": 42,
    "start_time": "2021-12-26T12:37:38.294Z"
   },
   {
    "duration": 19,
    "start_time": "2021-12-26T12:39:31.728Z"
   },
   {
    "duration": 18,
    "start_time": "2021-12-26T12:40:54.593Z"
   },
   {
    "duration": 20,
    "start_time": "2021-12-26T12:41:16.557Z"
   },
   {
    "duration": 18,
    "start_time": "2021-12-26T12:41:25.488Z"
   },
   {
    "duration": 527,
    "start_time": "2021-12-26T12:48:33.133Z"
   },
   {
    "duration": 40,
    "start_time": "2021-12-26T12:49:05.914Z"
   },
   {
    "duration": 10,
    "start_time": "2021-12-26T12:50:01.103Z"
   },
   {
    "duration": 1001,
    "start_time": "2021-12-26T12:50:22.064Z"
   },
   {
    "duration": 866,
    "start_time": "2021-12-26T12:50:34.503Z"
   },
   {
    "duration": 59,
    "start_time": "2021-12-26T12:50:35.372Z"
   },
   {
    "duration": 10,
    "start_time": "2021-12-26T12:50:35.434Z"
   },
   {
    "duration": 213,
    "start_time": "2021-12-26T12:50:35.447Z"
   },
   {
    "duration": 27,
    "start_time": "2021-12-26T12:50:35.663Z"
   },
   {
    "duration": 131,
    "start_time": "2021-12-26T12:50:35.692Z"
   },
   {
    "duration": 19,
    "start_time": "2021-12-26T12:50:35.825Z"
   },
   {
    "duration": 178,
    "start_time": "2021-12-26T12:50:35.860Z"
   },
   {
    "duration": 34,
    "start_time": "2021-12-26T12:50:36.041Z"
   },
   {
    "duration": 29,
    "start_time": "2021-12-26T12:50:36.078Z"
   },
   {
    "duration": 11,
    "start_time": "2021-12-26T12:50:36.110Z"
   },
   {
    "duration": 9,
    "start_time": "2021-12-26T12:50:36.124Z"
   },
   {
    "duration": 29,
    "start_time": "2021-12-26T12:50:36.135Z"
   },
   {
    "duration": 43,
    "start_time": "2021-12-26T12:50:36.167Z"
   },
   {
    "duration": 77,
    "start_time": "2021-12-26T12:50:36.213Z"
   },
   {
    "duration": 569,
    "start_time": "2021-12-26T12:50:36.292Z"
   },
   {
    "duration": -64,
    "start_time": "2021-12-26T12:50:36.928Z"
   },
   {
    "duration": -67,
    "start_time": "2021-12-26T12:50:36.932Z"
   },
   {
    "duration": -68,
    "start_time": "2021-12-26T12:50:36.934Z"
   },
   {
    "duration": -69,
    "start_time": "2021-12-26T12:50:36.937Z"
   },
   {
    "duration": 33,
    "start_time": "2021-12-26T12:53:04.807Z"
   },
   {
    "duration": 46,
    "start_time": "2021-12-26T12:53:50.397Z"
   },
   {
    "duration": 43,
    "start_time": "2021-12-26T12:54:03.997Z"
   },
   {
    "duration": 13994,
    "start_time": "2021-12-26T12:54:41.600Z"
   },
   {
    "duration": 37,
    "start_time": "2021-12-26T12:55:14.212Z"
   },
   {
    "duration": 1349,
    "start_time": "2021-12-26T13:06:06.796Z"
   },
   {
    "duration": 63,
    "start_time": "2021-12-26T13:06:08.147Z"
   },
   {
    "duration": 12,
    "start_time": "2021-12-26T13:06:08.213Z"
   },
   {
    "duration": 277,
    "start_time": "2021-12-26T13:06:08.228Z"
   },
   {
    "duration": 37,
    "start_time": "2021-12-26T13:06:08.508Z"
   },
   {
    "duration": 123,
    "start_time": "2021-12-26T13:06:08.560Z"
   },
   {
    "duration": 21,
    "start_time": "2021-12-26T13:06:08.685Z"
   },
   {
    "duration": 201,
    "start_time": "2021-12-26T13:06:08.712Z"
   },
   {
    "duration": 47,
    "start_time": "2021-12-26T13:06:08.916Z"
   },
   {
    "duration": 31,
    "start_time": "2021-12-26T13:06:08.965Z"
   },
   {
    "duration": 18,
    "start_time": "2021-12-26T13:06:08.999Z"
   },
   {
    "duration": 10,
    "start_time": "2021-12-26T13:06:09.020Z"
   },
   {
    "duration": 30,
    "start_time": "2021-12-26T13:06:09.034Z"
   },
   {
    "duration": 111,
    "start_time": "2021-12-26T13:06:09.067Z"
   },
   {
    "duration": 46,
    "start_time": "2021-12-26T13:06:09.181Z"
   },
   {
    "duration": 53,
    "start_time": "2021-12-26T13:06:09.230Z"
   },
   {
    "duration": 43,
    "start_time": "2021-12-26T13:06:09.286Z"
   },
   {
    "duration": 61,
    "start_time": "2021-12-26T13:06:09.331Z"
   },
   {
    "duration": 65,
    "start_time": "2021-12-26T13:06:09.394Z"
   },
   {
    "duration": 20,
    "start_time": "2021-12-26T13:06:09.462Z"
   },
   {
    "duration": 28,
    "start_time": "2021-12-26T13:06:09.484Z"
   },
   {
    "duration": 12,
    "start_time": "2021-12-26T13:07:03.076Z"
   },
   {
    "duration": 11,
    "start_time": "2021-12-26T13:07:48.130Z"
   },
   {
    "duration": 44,
    "start_time": "2021-12-26T13:16:34.185Z"
   },
   {
    "duration": 44,
    "start_time": "2021-12-26T13:17:41.640Z"
   },
   {
    "duration": 3,
    "start_time": "2021-12-26T13:18:31.941Z"
   },
   {
    "duration": 44,
    "start_time": "2021-12-26T13:21:07.548Z"
   },
   {
    "duration": 12,
    "start_time": "2021-12-26T13:21:37.849Z"
   },
   {
    "duration": 636,
    "start_time": "2021-12-26T13:22:25.110Z"
   },
   {
    "duration": 29,
    "start_time": "2021-12-26T13:22:39.964Z"
   },
   {
    "duration": 45,
    "start_time": "2021-12-26T13:23:22.827Z"
   },
   {
    "duration": 49,
    "start_time": "2021-12-26T13:24:01.872Z"
   },
   {
    "duration": 33,
    "start_time": "2021-12-26T13:24:08.330Z"
   },
   {
    "duration": 14,
    "start_time": "2021-12-26T13:30:02.822Z"
   },
   {
    "duration": 14,
    "start_time": "2021-12-26T13:36:49.042Z"
   },
   {
    "duration": 14,
    "start_time": "2021-12-26T13:36:51.805Z"
   },
   {
    "duration": 11,
    "start_time": "2021-12-26T13:41:02.680Z"
   },
   {
    "duration": 13,
    "start_time": "2021-12-26T13:41:09.829Z"
   },
   {
    "duration": 18,
    "start_time": "2021-12-26T13:43:03.342Z"
   },
   {
    "duration": 15,
    "start_time": "2021-12-26T13:43:29.082Z"
   },
   {
    "duration": 913,
    "start_time": "2021-12-26T13:43:37.593Z"
   },
   {
    "duration": 51,
    "start_time": "2021-12-26T13:43:38.509Z"
   },
   {
    "duration": 9,
    "start_time": "2021-12-26T13:43:38.563Z"
   },
   {
    "duration": 238,
    "start_time": "2021-12-26T13:43:38.574Z"
   },
   {
    "duration": 57,
    "start_time": "2021-12-26T13:43:38.816Z"
   },
   {
    "duration": 144,
    "start_time": "2021-12-26T13:43:38.877Z"
   },
   {
    "duration": 18,
    "start_time": "2021-12-26T13:43:39.024Z"
   },
   {
    "duration": 208,
    "start_time": "2021-12-26T13:43:39.061Z"
   },
   {
    "duration": 25,
    "start_time": "2021-12-26T13:43:39.272Z"
   },
   {
    "duration": 29,
    "start_time": "2021-12-26T13:43:39.300Z"
   },
   {
    "duration": 34,
    "start_time": "2021-12-26T13:43:39.331Z"
   },
   {
    "duration": 12,
    "start_time": "2021-12-26T13:43:39.368Z"
   },
   {
    "duration": 12,
    "start_time": "2021-12-26T13:43:39.382Z"
   },
   {
    "duration": 20,
    "start_time": "2021-12-26T13:43:39.397Z"
   },
   {
    "duration": 127,
    "start_time": "2021-12-26T13:43:39.419Z"
   },
   {
    "duration": 50,
    "start_time": "2021-12-26T13:43:39.549Z"
   },
   {
    "duration": 28,
    "start_time": "2021-12-26T13:43:39.601Z"
   },
   {
    "duration": 58,
    "start_time": "2021-12-26T13:43:39.631Z"
   },
   {
    "duration": 50,
    "start_time": "2021-12-26T13:43:39.692Z"
   },
   {
    "duration": 32,
    "start_time": "2021-12-26T13:43:39.759Z"
   },
   {
    "duration": 12,
    "start_time": "2021-12-26T13:43:39.793Z"
   },
   {
    "duration": 13,
    "start_time": "2021-12-26T13:43:39.808Z"
   },
   {
    "duration": 26,
    "start_time": "2021-12-26T13:45:22.976Z"
   },
   {
    "duration": 17,
    "start_time": "2021-12-26T13:45:31.957Z"
   },
   {
    "duration": 24,
    "start_time": "2021-12-26T13:45:42.389Z"
   },
   {
    "duration": 25,
    "start_time": "2021-12-26T13:46:33.461Z"
   },
   {
    "duration": 16,
    "start_time": "2021-12-26T13:48:50.190Z"
   },
   {
    "duration": 12,
    "start_time": "2021-12-26T13:49:32.421Z"
   },
   {
    "duration": 23,
    "start_time": "2021-12-26T14:01:54.932Z"
   },
   {
    "duration": 31,
    "start_time": "2021-12-26T14:05:17.787Z"
   },
   {
    "duration": 14,
    "start_time": "2021-12-26T14:07:41.721Z"
   },
   {
    "duration": 30,
    "start_time": "2021-12-26T14:11:40.940Z"
   },
   {
    "duration": 34,
    "start_time": "2021-12-26T14:12:55.352Z"
   },
   {
    "duration": 26,
    "start_time": "2021-12-26T14:13:03.372Z"
   },
   {
    "duration": 34,
    "start_time": "2021-12-26T14:14:45.702Z"
   },
   {
    "duration": 47,
    "start_time": "2021-12-26T14:15:55.163Z"
   },
   {
    "duration": 16,
    "start_time": "2021-12-26T14:19:57.295Z"
   },
   {
    "duration": 18,
    "start_time": "2021-12-26T14:26:14.410Z"
   },
   {
    "duration": 678,
    "start_time": "2021-12-26T14:26:48.731Z"
   },
   {
    "duration": 15,
    "start_time": "2021-12-26T14:27:19.056Z"
   },
   {
    "duration": 458,
    "start_time": "2021-12-26T14:27:36.884Z"
   },
   {
    "duration": 9,
    "start_time": "2021-12-26T14:27:52.163Z"
   },
   {
    "duration": 16,
    "start_time": "2021-12-26T14:28:16.079Z"
   },
   {
    "duration": 1147,
    "start_time": "2021-12-26T14:35:55.398Z"
   },
   {
    "duration": 82,
    "start_time": "2021-12-26T14:35:56.547Z"
   },
   {
    "duration": 9,
    "start_time": "2021-12-26T14:35:56.632Z"
   },
   {
    "duration": 302,
    "start_time": "2021-12-26T14:35:56.644Z"
   },
   {
    "duration": 36,
    "start_time": "2021-12-26T14:35:56.949Z"
   },
   {
    "duration": 120,
    "start_time": "2021-12-26T14:35:56.988Z"
   },
   {
    "duration": 18,
    "start_time": "2021-12-26T14:35:57.110Z"
   },
   {
    "duration": 218,
    "start_time": "2021-12-26T14:35:57.132Z"
   },
   {
    "duration": 27,
    "start_time": "2021-12-26T14:35:57.360Z"
   },
   {
    "duration": 32,
    "start_time": "2021-12-26T14:35:57.391Z"
   },
   {
    "duration": 29,
    "start_time": "2021-12-26T14:35:57.426Z"
   },
   {
    "duration": 16,
    "start_time": "2021-12-26T14:35:57.460Z"
   },
   {
    "duration": 17,
    "start_time": "2021-12-26T14:35:57.479Z"
   },
   {
    "duration": 40,
    "start_time": "2021-12-26T14:35:57.498Z"
   },
   {
    "duration": 140,
    "start_time": "2021-12-26T14:35:57.541Z"
   },
   {
    "duration": 44,
    "start_time": "2021-12-26T14:35:57.683Z"
   },
   {
    "duration": 49,
    "start_time": "2021-12-26T14:35:57.729Z"
   },
   {
    "duration": 37,
    "start_time": "2021-12-26T14:35:57.782Z"
   },
   {
    "duration": 74,
    "start_time": "2021-12-26T14:35:57.822Z"
   },
   {
    "duration": 42,
    "start_time": "2021-12-26T14:35:57.898Z"
   },
   {
    "duration": 54,
    "start_time": "2021-12-26T14:35:57.944Z"
   },
   {
    "duration": 32,
    "start_time": "2021-12-26T14:35:58.001Z"
   },
   {
    "duration": 24,
    "start_time": "2021-12-26T14:35:58.060Z"
   },
   {
    "duration": 37,
    "start_time": "2021-12-26T14:35:58.086Z"
   },
   {
    "duration": 895,
    "start_time": "2021-12-26T16:06:19.346Z"
   },
   {
    "duration": 93,
    "start_time": "2021-12-26T16:06:20.243Z"
   },
   {
    "duration": 10,
    "start_time": "2021-12-26T16:06:20.339Z"
   },
   {
    "duration": 215,
    "start_time": "2021-12-26T16:06:20.352Z"
   },
   {
    "duration": 29,
    "start_time": "2021-12-26T16:06:20.570Z"
   },
   {
    "duration": 141,
    "start_time": "2021-12-26T16:06:20.601Z"
   },
   {
    "duration": 22,
    "start_time": "2021-12-26T16:06:20.745Z"
   },
   {
    "duration": 188,
    "start_time": "2021-12-26T16:06:20.771Z"
   },
   {
    "duration": 24,
    "start_time": "2021-12-26T16:06:20.962Z"
   },
   {
    "duration": 30,
    "start_time": "2021-12-26T16:06:20.989Z"
   },
   {
    "duration": 9,
    "start_time": "2021-12-26T16:06:21.022Z"
   },
   {
    "duration": 34,
    "start_time": "2021-12-26T16:06:21.034Z"
   },
   {
    "duration": 13,
    "start_time": "2021-12-26T16:06:21.071Z"
   },
   {
    "duration": 24,
    "start_time": "2021-12-26T16:06:21.087Z"
   },
   {
    "duration": 124,
    "start_time": "2021-12-26T16:06:21.114Z"
   },
   {
    "duration": 52,
    "start_time": "2021-12-26T16:06:21.241Z"
   },
   {
    "duration": 29,
    "start_time": "2021-12-26T16:06:21.295Z"
   },
   {
    "duration": 57,
    "start_time": "2021-12-26T16:06:21.327Z"
   },
   {
    "duration": 75,
    "start_time": "2021-12-26T16:06:21.386Z"
   },
   {
    "duration": 33,
    "start_time": "2021-12-26T16:06:21.464Z"
   },
   {
    "duration": 64,
    "start_time": "2021-12-26T16:06:21.499Z"
   },
   {
    "duration": 30,
    "start_time": "2021-12-26T16:06:21.565Z"
   },
   {
    "duration": 535,
    "start_time": "2021-12-26T16:06:21.599Z"
   },
   {
    "duration": 78,
    "start_time": "2021-12-26T16:06:22.059Z"
   },
   {
    "duration": 15,
    "start_time": "2021-12-26T16:06:41.410Z"
   },
   {
    "duration": 12,
    "start_time": "2021-12-26T16:06:55.388Z"
   },
   {
    "duration": 24,
    "start_time": "2021-12-26T16:07:27.670Z"
   },
   {
    "duration": 42,
    "start_time": "2021-12-26T16:07:59.361Z"
   },
   {
    "duration": 13,
    "start_time": "2021-12-26T16:08:46.354Z"
   },
   {
    "duration": 13,
    "start_time": "2021-12-26T16:11:15.729Z"
   },
   {
    "duration": 378,
    "start_time": "2021-12-26T16:11:33.991Z"
   },
   {
    "duration": 356,
    "start_time": "2021-12-26T16:11:39.799Z"
   },
   {
    "duration": 8,
    "start_time": "2021-12-26T16:13:12.416Z"
   },
   {
    "duration": 42,
    "start_time": "2021-12-26T16:13:35.141Z"
   },
   {
    "duration": 73,
    "start_time": "2021-12-26T16:13:41.799Z"
   },
   {
    "duration": 25,
    "start_time": "2021-12-26T16:14:23.477Z"
   },
   {
    "duration": 56,
    "start_time": "2021-12-26T16:14:27.243Z"
   },
   {
    "duration": 68,
    "start_time": "2021-12-26T16:14:46.039Z"
   },
   {
    "duration": 39,
    "start_time": "2021-12-26T16:15:03.431Z"
   },
   {
    "duration": 48,
    "start_time": "2021-12-26T16:15:12.264Z"
   },
   {
    "duration": 25,
    "start_time": "2021-12-26T16:15:21.915Z"
   },
   {
    "duration": 31,
    "start_time": "2021-12-26T16:15:57.272Z"
   },
   {
    "duration": 8,
    "start_time": "2021-12-26T16:22:58.591Z"
   },
   {
    "duration": 17,
    "start_time": "2021-12-26T16:23:17.676Z"
   },
   {
    "duration": 42,
    "start_time": "2021-12-26T16:23:32.613Z"
   },
   {
    "duration": 20,
    "start_time": "2021-12-26T16:23:35.434Z"
   },
   {
    "duration": 29,
    "start_time": "2021-12-26T16:23:44.686Z"
   },
   {
    "duration": 19,
    "start_time": "2021-12-26T16:23:51.063Z"
   },
   {
    "duration": 387,
    "start_time": "2021-12-26T16:24:46.636Z"
   },
   {
    "duration": 16,
    "start_time": "2021-12-26T16:24:55.267Z"
   },
   {
    "duration": 392,
    "start_time": "2021-12-26T16:25:19.698Z"
   },
   {
    "duration": 7,
    "start_time": "2021-12-26T16:25:31.498Z"
   },
   {
    "duration": 884,
    "start_time": "2021-12-26T16:25:46.609Z"
   },
   {
    "duration": 59,
    "start_time": "2021-12-26T16:25:47.496Z"
   },
   {
    "duration": 10,
    "start_time": "2021-12-26T16:25:47.559Z"
   },
   {
    "duration": 294,
    "start_time": "2021-12-26T16:25:47.572Z"
   },
   {
    "duration": 45,
    "start_time": "2021-12-26T16:25:47.869Z"
   },
   {
    "duration": 135,
    "start_time": "2021-12-26T16:25:47.916Z"
   },
   {
    "duration": 24,
    "start_time": "2021-12-26T16:25:48.053Z"
   },
   {
    "duration": 195,
    "start_time": "2021-12-26T16:25:48.082Z"
   },
   {
    "duration": 32,
    "start_time": "2021-12-26T16:25:48.281Z"
   },
   {
    "duration": 28,
    "start_time": "2021-12-26T16:25:48.316Z"
   },
   {
    "duration": 24,
    "start_time": "2021-12-26T16:25:48.346Z"
   },
   {
    "duration": 11,
    "start_time": "2021-12-26T16:25:48.372Z"
   },
   {
    "duration": 12,
    "start_time": "2021-12-26T16:25:48.386Z"
   },
   {
    "duration": 60,
    "start_time": "2021-12-26T16:25:48.401Z"
   },
   {
    "duration": 111,
    "start_time": "2021-12-26T16:25:48.464Z"
   },
   {
    "duration": 43,
    "start_time": "2021-12-26T16:25:48.577Z"
   },
   {
    "duration": 50,
    "start_time": "2021-12-26T16:25:48.623Z"
   },
   {
    "duration": 35,
    "start_time": "2021-12-26T16:25:48.676Z"
   },
   {
    "duration": 81,
    "start_time": "2021-12-26T16:25:48.713Z"
   },
   {
    "duration": 61,
    "start_time": "2021-12-26T16:25:48.797Z"
   },
   {
    "duration": 37,
    "start_time": "2021-12-26T16:25:48.860Z"
   },
   {
    "duration": 32,
    "start_time": "2021-12-26T16:25:48.900Z"
   },
   {
    "duration": 47,
    "start_time": "2021-12-26T16:25:48.936Z"
   },
   {
    "duration": 83,
    "start_time": "2021-12-26T16:25:48.985Z"
   },
   {
    "duration": 5,
    "start_time": "2021-12-26T16:25:49.071Z"
   },
   {
    "duration": 25,
    "start_time": "2021-12-26T16:25:49.078Z"
   },
   {
    "duration": 44,
    "start_time": "2021-12-26T16:26:39.053Z"
   },
   {
    "duration": 62,
    "start_time": "2021-12-26T16:27:06.173Z"
   },
   {
    "duration": 18,
    "start_time": "2021-12-26T16:27:23.751Z"
   },
   {
    "duration": 55,
    "start_time": "2021-12-26T16:28:13.491Z"
   },
   {
    "duration": 10,
    "start_time": "2021-12-26T16:29:23.563Z"
   },
   {
    "duration": 9,
    "start_time": "2021-12-26T16:29:43.472Z"
   },
   {
    "duration": 9,
    "start_time": "2021-12-26T16:30:31.738Z"
   },
   {
    "duration": 9,
    "start_time": "2021-12-26T16:32:30.150Z"
   },
   {
    "duration": 7,
    "start_time": "2021-12-26T16:32:35.280Z"
   },
   {
    "duration": 127,
    "start_time": "2021-12-26T16:33:10.394Z"
   },
   {
    "duration": 122,
    "start_time": "2021-12-26T16:33:20.469Z"
   },
   {
    "duration": 126,
    "start_time": "2021-12-26T16:33:38.107Z"
   },
   {
    "duration": 129,
    "start_time": "2021-12-26T16:33:43.227Z"
   },
   {
    "duration": 12,
    "start_time": "2021-12-26T16:33:51.807Z"
   },
   {
    "duration": 15,
    "start_time": "2021-12-26T16:35:16.793Z"
   },
   {
    "duration": 12,
    "start_time": "2021-12-26T16:35:49.296Z"
   },
   {
    "duration": 15,
    "start_time": "2021-12-26T16:36:01.924Z"
   },
   {
    "duration": 41,
    "start_time": "2021-12-26T16:39:43.355Z"
   },
   {
    "duration": 891,
    "start_time": "2021-12-26T16:40:12.156Z"
   },
   {
    "duration": 49,
    "start_time": "2021-12-26T16:40:13.049Z"
   },
   {
    "duration": 9,
    "start_time": "2021-12-26T16:40:13.101Z"
   },
   {
    "duration": 223,
    "start_time": "2021-12-26T16:40:13.113Z"
   },
   {
    "duration": 35,
    "start_time": "2021-12-26T16:40:13.339Z"
   },
   {
    "duration": 125,
    "start_time": "2021-12-26T16:40:13.377Z"
   },
   {
    "duration": 19,
    "start_time": "2021-12-26T16:40:13.505Z"
   },
   {
    "duration": 198,
    "start_time": "2021-12-26T16:40:13.527Z"
   },
   {
    "duration": 30,
    "start_time": "2021-12-26T16:40:13.729Z"
   },
   {
    "duration": 28,
    "start_time": "2021-12-26T16:40:13.763Z"
   },
   {
    "duration": 14,
    "start_time": "2021-12-26T16:40:13.793Z"
   },
   {
    "duration": 9,
    "start_time": "2021-12-26T16:40:13.810Z"
   },
   {
    "duration": 12,
    "start_time": "2021-12-26T16:40:13.821Z"
   },
   {
    "duration": 19,
    "start_time": "2021-12-26T16:40:13.860Z"
   },
   {
    "duration": 125,
    "start_time": "2021-12-26T16:40:13.882Z"
   },
   {
    "duration": 55,
    "start_time": "2021-12-26T16:40:14.010Z"
   },
   {
    "duration": 29,
    "start_time": "2021-12-26T16:40:14.067Z"
   },
   {
    "duration": 34,
    "start_time": "2021-12-26T16:40:14.099Z"
   },
   {
    "duration": 54,
    "start_time": "2021-12-26T16:40:14.160Z"
   },
   {
    "duration": 52,
    "start_time": "2021-12-26T16:40:14.216Z"
   },
   {
    "duration": 34,
    "start_time": "2021-12-26T16:40:14.270Z"
   },
   {
    "duration": 30,
    "start_time": "2021-12-26T16:40:14.307Z"
   },
   {
    "duration": 24,
    "start_time": "2021-12-26T16:40:14.360Z"
   },
   {
    "duration": 41,
    "start_time": "2021-12-26T16:40:14.386Z"
   },
   {
    "duration": 47,
    "start_time": "2021-12-26T16:40:14.429Z"
   },
   {
    "duration": 13,
    "start_time": "2021-12-26T16:40:14.478Z"
   },
   {
    "duration": 13,
    "start_time": "2021-12-26T16:40:14.495Z"
   },
   {
    "duration": 12,
    "start_time": "2021-12-26T16:40:53.149Z"
   },
   {
    "duration": 651,
    "start_time": "2021-12-27T11:51:54.895Z"
   },
   {
    "duration": 37,
    "start_time": "2021-12-27T11:51:55.548Z"
   },
   {
    "duration": 7,
    "start_time": "2021-12-27T11:51:55.587Z"
   },
   {
    "duration": 159,
    "start_time": "2021-12-27T11:51:55.596Z"
   },
   {
    "duration": 20,
    "start_time": "2021-12-27T11:51:55.757Z"
   },
   {
    "duration": 95,
    "start_time": "2021-12-27T11:51:55.778Z"
   },
   {
    "duration": 17,
    "start_time": "2021-12-27T11:51:55.874Z"
   },
   {
    "duration": 154,
    "start_time": "2021-12-27T11:51:55.893Z"
   },
   {
    "duration": 19,
    "start_time": "2021-12-27T11:51:56.050Z"
   },
   {
    "duration": 22,
    "start_time": "2021-12-27T11:51:56.072Z"
   },
   {
    "duration": 6,
    "start_time": "2021-12-27T11:51:56.096Z"
   },
   {
    "duration": 9,
    "start_time": "2021-12-27T11:51:56.104Z"
   },
   {
    "duration": 8,
    "start_time": "2021-12-27T11:51:56.115Z"
   },
   {
    "duration": 40,
    "start_time": "2021-12-27T11:51:56.124Z"
   },
   {
    "duration": 67,
    "start_time": "2021-12-27T11:51:56.165Z"
   },
   {
    "duration": 43,
    "start_time": "2021-12-27T11:51:56.234Z"
   },
   {
    "duration": 22,
    "start_time": "2021-12-27T11:51:56.278Z"
   },
   {
    "duration": 25,
    "start_time": "2021-12-27T11:51:56.301Z"
   },
   {
    "duration": 62,
    "start_time": "2021-12-27T11:51:56.328Z"
   },
   {
    "duration": 24,
    "start_time": "2021-12-27T11:51:56.391Z"
   },
   {
    "duration": 45,
    "start_time": "2021-12-27T11:51:56.417Z"
   },
   {
    "duration": 22,
    "start_time": "2021-12-27T11:51:56.463Z"
   },
   {
    "duration": 16,
    "start_time": "2021-12-27T11:51:56.487Z"
   },
   {
    "duration": 25,
    "start_time": "2021-12-27T11:51:56.504Z"
   },
   {
    "duration": 43,
    "start_time": "2021-12-27T11:51:56.530Z"
   },
   {
    "duration": 9,
    "start_time": "2021-12-27T11:51:56.575Z"
   },
   {
    "duration": 9,
    "start_time": "2021-12-27T11:51:56.587Z"
   },
   {
    "duration": 9,
    "start_time": "2021-12-27T11:51:56.598Z"
   },
   {
    "duration": 5,
    "start_time": "2021-12-27T12:14:09.874Z"
   },
   {
    "duration": 19,
    "start_time": "2021-12-27T12:17:22.408Z"
   },
   {
    "duration": 8,
    "start_time": "2021-12-27T12:19:45.952Z"
   },
   {
    "duration": 21,
    "start_time": "2021-12-27T12:19:48.155Z"
   },
   {
    "duration": 4,
    "start_time": "2021-12-27T12:30:59.740Z"
   },
   {
    "duration": 33,
    "start_time": "2021-12-27T12:31:02.427Z"
   },
   {
    "duration": 23,
    "start_time": "2021-12-27T12:31:12.993Z"
   },
   {
    "duration": 13,
    "start_time": "2021-12-27T12:31:31.523Z"
   },
   {
    "duration": 675,
    "start_time": "2021-12-27T12:32:13.777Z"
   },
   {
    "duration": 39,
    "start_time": "2021-12-27T12:32:14.454Z"
   },
   {
    "duration": 7,
    "start_time": "2021-12-27T12:32:14.495Z"
   },
   {
    "duration": 271,
    "start_time": "2021-12-27T12:32:14.504Z"
   },
   {
    "duration": 20,
    "start_time": "2021-12-27T12:32:14.777Z"
   },
   {
    "duration": 100,
    "start_time": "2021-12-27T12:32:14.799Z"
   },
   {
    "duration": 17,
    "start_time": "2021-12-27T12:32:14.901Z"
   },
   {
    "duration": 152,
    "start_time": "2021-12-27T12:32:14.922Z"
   },
   {
    "duration": 17,
    "start_time": "2021-12-27T12:32:15.077Z"
   },
   {
    "duration": 21,
    "start_time": "2021-12-27T12:32:15.096Z"
   },
   {
    "duration": 9,
    "start_time": "2021-12-27T12:32:15.119Z"
   },
   {
    "duration": 13,
    "start_time": "2021-12-27T12:32:15.130Z"
   },
   {
    "duration": 28,
    "start_time": "2021-12-27T12:32:15.145Z"
   },
   {
    "duration": 19,
    "start_time": "2021-12-27T12:32:15.175Z"
   },
   {
    "duration": 74,
    "start_time": "2021-12-27T12:32:15.195Z"
   },
   {
    "duration": 31,
    "start_time": "2021-12-27T12:32:15.271Z"
   },
   {
    "duration": 22,
    "start_time": "2021-12-27T12:32:15.303Z"
   },
   {
    "duration": 46,
    "start_time": "2021-12-27T12:32:15.326Z"
   },
   {
    "duration": 39,
    "start_time": "2021-12-27T12:32:15.374Z"
   },
   {
    "duration": 24,
    "start_time": "2021-12-27T12:32:15.415Z"
   },
   {
    "duration": 44,
    "start_time": "2021-12-27T12:32:15.440Z"
   },
   {
    "duration": 19,
    "start_time": "2021-12-27T12:32:15.486Z"
   },
   {
    "duration": 17,
    "start_time": "2021-12-27T12:32:15.507Z"
   },
   {
    "duration": 54,
    "start_time": "2021-12-27T12:32:15.527Z"
   },
   {
    "duration": 10,
    "start_time": "2021-12-27T12:32:15.584Z"
   },
   {
    "duration": 10,
    "start_time": "2021-12-27T12:32:15.596Z"
   },
   {
    "duration": 23,
    "start_time": "2021-12-27T12:32:15.608Z"
   },
   {
    "duration": 42,
    "start_time": "2021-12-27T12:32:15.632Z"
   },
   {
    "duration": 19,
    "start_time": "2021-12-27T12:32:15.676Z"
   },
   {
    "duration": 749,
    "start_time": "2021-12-27T13:21:27.506Z"
   },
   {
    "duration": 47,
    "start_time": "2021-12-27T13:21:28.258Z"
   },
   {
    "duration": 8,
    "start_time": "2021-12-27T13:21:28.310Z"
   },
   {
    "duration": 196,
    "start_time": "2021-12-27T13:21:28.320Z"
   },
   {
    "duration": 44,
    "start_time": "2021-12-27T13:21:28.518Z"
   },
   {
    "duration": 135,
    "start_time": "2021-12-27T13:21:28.566Z"
   },
   {
    "duration": 20,
    "start_time": "2021-12-27T13:21:28.704Z"
   },
   {
    "duration": 192,
    "start_time": "2021-12-27T13:21:28.728Z"
   },
   {
    "duration": 17,
    "start_time": "2021-12-27T13:21:28.923Z"
   },
   {
    "duration": 31,
    "start_time": "2021-12-27T13:21:28.942Z"
   },
   {
    "duration": 11,
    "start_time": "2021-12-27T13:21:28.976Z"
   },
   {
    "duration": 13,
    "start_time": "2021-12-27T13:21:28.989Z"
   },
   {
    "duration": 12,
    "start_time": "2021-12-27T13:21:29.004Z"
   },
   {
    "duration": 102,
    "start_time": "2021-12-27T13:21:29.018Z"
   },
   {
    "duration": 77,
    "start_time": "2021-12-27T13:21:29.122Z"
   },
   {
    "duration": 31,
    "start_time": "2021-12-27T13:21:29.201Z"
   },
   {
    "duration": 37,
    "start_time": "2021-12-27T13:21:29.234Z"
   },
   {
    "duration": 29,
    "start_time": "2021-12-27T13:21:29.275Z"
   },
   {
    "duration": 70,
    "start_time": "2021-12-27T13:21:29.306Z"
   },
   {
    "duration": 34,
    "start_time": "2021-12-27T13:21:29.378Z"
   },
   {
    "duration": 52,
    "start_time": "2021-12-27T13:21:29.414Z"
   },
   {
    "duration": 29,
    "start_time": "2021-12-27T13:21:29.470Z"
   },
   {
    "duration": 21,
    "start_time": "2021-12-27T13:21:29.501Z"
   },
   {
    "duration": 56,
    "start_time": "2021-12-27T13:21:29.524Z"
   },
   {
    "duration": 11,
    "start_time": "2021-12-27T13:21:29.583Z"
   },
   {
    "duration": 9,
    "start_time": "2021-12-27T13:21:29.598Z"
   },
   {
    "duration": 20,
    "start_time": "2021-12-27T13:21:29.609Z"
   },
   {
    "duration": 50,
    "start_time": "2021-12-27T13:21:29.632Z"
   },
   {
    "duration": 31,
    "start_time": "2021-12-27T13:21:29.684Z"
   },
   {
    "duration": 783,
    "start_time": "2021-12-27T13:29:27.706Z"
   },
   {
    "duration": 45,
    "start_time": "2021-12-27T13:29:28.492Z"
   },
   {
    "duration": 8,
    "start_time": "2021-12-27T13:29:28.539Z"
   },
   {
    "duration": 195,
    "start_time": "2021-12-27T13:29:28.549Z"
   },
   {
    "duration": 27,
    "start_time": "2021-12-27T13:29:28.746Z"
   },
   {
    "duration": 120,
    "start_time": "2021-12-27T13:29:28.776Z"
   },
   {
    "duration": 20,
    "start_time": "2021-12-27T13:29:28.898Z"
   },
   {
    "duration": 163,
    "start_time": "2021-12-27T13:29:28.921Z"
   },
   {
    "duration": 17,
    "start_time": "2021-12-27T13:29:29.086Z"
   },
   {
    "duration": 25,
    "start_time": "2021-12-27T13:29:29.105Z"
   },
   {
    "duration": 12,
    "start_time": "2021-12-27T13:29:29.132Z"
   },
   {
    "duration": 20,
    "start_time": "2021-12-27T13:29:29.146Z"
   },
   {
    "duration": 17,
    "start_time": "2021-12-27T13:29:29.169Z"
   },
   {
    "duration": 29,
    "start_time": "2021-12-27T13:29:29.188Z"
   },
   {
    "duration": 85,
    "start_time": "2021-12-27T13:29:29.219Z"
   },
   {
    "duration": 31,
    "start_time": "2021-12-27T13:29:29.305Z"
   },
   {
    "duration": 35,
    "start_time": "2021-12-27T13:29:29.338Z"
   },
   {
    "duration": 32,
    "start_time": "2021-12-27T13:29:29.376Z"
   },
   {
    "duration": 70,
    "start_time": "2021-12-27T13:29:29.410Z"
   },
   {
    "duration": 24,
    "start_time": "2021-12-27T13:29:29.483Z"
   },
   {
    "duration": 26,
    "start_time": "2021-12-27T13:29:29.509Z"
   },
   {
    "duration": 54,
    "start_time": "2021-12-27T13:29:29.537Z"
   },
   {
    "duration": 18,
    "start_time": "2021-12-27T13:29:29.595Z"
   },
   {
    "duration": 50,
    "start_time": "2021-12-27T13:29:29.615Z"
   },
   {
    "duration": 13,
    "start_time": "2021-12-27T13:29:29.667Z"
   },
   {
    "duration": 15,
    "start_time": "2021-12-27T13:29:29.682Z"
   },
   {
    "duration": 27,
    "start_time": "2021-12-27T13:29:29.699Z"
   },
   {
    "duration": 50,
    "start_time": "2021-12-27T13:29:29.728Z"
   },
   {
    "duration": 31,
    "start_time": "2021-12-27T13:29:29.783Z"
   },
   {
    "duration": 15,
    "start_time": "2021-12-27T13:35:11.613Z"
   },
   {
    "duration": 27,
    "start_time": "2021-12-27T13:35:21.255Z"
   },
   {
    "duration": 724,
    "start_time": "2021-12-27T13:35:38.245Z"
   },
   {
    "duration": 37,
    "start_time": "2021-12-27T13:35:38.973Z"
   },
   {
    "duration": 6,
    "start_time": "2021-12-27T13:35:39.012Z"
   },
   {
    "duration": 173,
    "start_time": "2021-12-27T13:35:39.020Z"
   },
   {
    "duration": 20,
    "start_time": "2021-12-27T13:35:39.195Z"
   },
   {
    "duration": 104,
    "start_time": "2021-12-27T13:35:39.216Z"
   },
   {
    "duration": 13,
    "start_time": "2021-12-27T13:35:39.322Z"
   },
   {
    "duration": 147,
    "start_time": "2021-12-27T13:35:39.337Z"
   },
   {
    "duration": 17,
    "start_time": "2021-12-27T13:35:39.486Z"
   },
   {
    "duration": 21,
    "start_time": "2021-12-27T13:35:39.505Z"
   },
   {
    "duration": 7,
    "start_time": "2021-12-27T13:35:39.528Z"
   },
   {
    "duration": 28,
    "start_time": "2021-12-27T13:35:39.537Z"
   },
   {
    "duration": 13,
    "start_time": "2021-12-27T13:35:39.567Z"
   },
   {
    "duration": 18,
    "start_time": "2021-12-27T13:35:39.581Z"
   },
   {
    "duration": 87,
    "start_time": "2021-12-27T13:35:39.600Z"
   },
   {
    "duration": 31,
    "start_time": "2021-12-27T13:35:39.689Z"
   },
   {
    "duration": 20,
    "start_time": "2021-12-27T13:35:39.722Z"
   },
   {
    "duration": 40,
    "start_time": "2021-12-27T13:35:39.743Z"
   },
   {
    "duration": 38,
    "start_time": "2021-12-27T13:35:39.785Z"
   },
   {
    "duration": 53,
    "start_time": "2021-12-27T13:35:39.824Z"
   },
   {
    "duration": 24,
    "start_time": "2021-12-27T13:35:39.879Z"
   },
   {
    "duration": 17,
    "start_time": "2021-12-27T13:35:39.904Z"
   },
   {
    "duration": 16,
    "start_time": "2021-12-27T13:35:39.924Z"
   },
   {
    "duration": 27,
    "start_time": "2021-12-27T13:35:39.961Z"
   },
   {
    "duration": 8,
    "start_time": "2021-12-27T13:35:39.990Z"
   },
   {
    "duration": 8,
    "start_time": "2021-12-27T13:35:39.999Z"
   },
   {
    "duration": 25,
    "start_time": "2021-12-27T13:35:40.009Z"
   },
   {
    "duration": 22,
    "start_time": "2021-12-27T13:35:40.060Z"
   },
   {
    "duration": 19,
    "start_time": "2021-12-27T13:35:40.084Z"
   },
   {
    "duration": 25,
    "start_time": "2021-12-27T13:36:05.741Z"
   },
   {
    "duration": 180,
    "start_time": "2021-12-27T13:44:59.188Z"
   },
   {
    "duration": 192,
    "start_time": "2021-12-27T13:46:56.406Z"
   },
   {
    "duration": 122,
    "start_time": "2021-12-27T13:47:09.355Z"
   },
   {
    "duration": 198,
    "start_time": "2021-12-27T13:47:12.755Z"
   },
   {
    "duration": 583,
    "start_time": "2021-12-27T13:49:49.360Z"
   },
   {
    "duration": 433,
    "start_time": "2021-12-27T13:50:08.033Z"
   },
   {
    "duration": 472,
    "start_time": "2021-12-27T13:54:24.732Z"
   },
   {
    "duration": 973,
    "start_time": "2021-12-27T13:54:34.856Z"
   },
   {
    "duration": 422,
    "start_time": "2021-12-27T13:54:53.532Z"
   },
   {
    "duration": 178,
    "start_time": "2021-12-27T14:06:54.232Z"
   },
   {
    "duration": 176,
    "start_time": "2021-12-27T14:07:08.087Z"
   },
   {
    "duration": 180,
    "start_time": "2021-12-27T14:07:37.667Z"
   },
   {
    "duration": 191,
    "start_time": "2021-12-27T14:09:15.519Z"
   },
   {
    "duration": 183,
    "start_time": "2021-12-27T14:09:58.963Z"
   },
   {
    "duration": 188,
    "start_time": "2021-12-27T14:10:53.170Z"
   },
   {
    "duration": 270,
    "start_time": "2021-12-27T14:10:55.552Z"
   },
   {
    "duration": 227,
    "start_time": "2021-12-27T14:11:46.329Z"
   },
   {
    "duration": 209,
    "start_time": "2021-12-27T14:13:45.121Z"
   },
   {
    "duration": 482,
    "start_time": "2021-12-27T14:14:12.700Z"
   },
   {
    "duration": 207,
    "start_time": "2021-12-27T14:14:42.499Z"
   },
   {
    "duration": 230,
    "start_time": "2021-12-27T14:14:59.305Z"
   },
   {
    "duration": 232,
    "start_time": "2021-12-27T14:15:12.528Z"
   },
   {
    "duration": 217,
    "start_time": "2021-12-27T14:15:26.414Z"
   },
   {
    "duration": 269,
    "start_time": "2021-12-27T14:15:51.899Z"
   },
   {
    "duration": 255,
    "start_time": "2021-12-27T14:15:59.628Z"
   },
   {
    "duration": 347,
    "start_time": "2021-12-27T14:16:19.094Z"
   },
   {
    "duration": 89,
    "start_time": "2021-12-27T14:16:54.109Z"
   },
   {
    "duration": 284,
    "start_time": "2021-12-27T14:17:05.133Z"
   },
   {
    "duration": 341,
    "start_time": "2021-12-27T14:17:12.902Z"
   },
   {
    "duration": 360,
    "start_time": "2021-12-27T14:18:31.081Z"
   },
   {
    "duration": 358,
    "start_time": "2021-12-27T14:20:41.633Z"
   },
   {
    "duration": 481,
    "start_time": "2021-12-27T14:21:12.010Z"
   },
   {
    "duration": 383,
    "start_time": "2021-12-27T14:21:21.453Z"
   },
   {
    "duration": 289,
    "start_time": "2021-12-27T14:21:43.331Z"
   },
   {
    "duration": 23,
    "start_time": "2021-12-27T14:23:24.166Z"
   },
   {
    "duration": 296,
    "start_time": "2021-12-27T14:24:10.413Z"
   },
   {
    "duration": 334,
    "start_time": "2021-12-27T14:33:13.420Z"
   },
   {
    "duration": 300,
    "start_time": "2021-12-27T14:33:20.471Z"
   },
   {
    "duration": 273,
    "start_time": "2021-12-27T14:56:37.946Z"
   },
   {
    "duration": 263,
    "start_time": "2021-12-27T14:56:57.448Z"
   },
   {
    "duration": 13,
    "start_time": "2021-12-27T14:57:07.734Z"
   },
   {
    "duration": 14,
    "start_time": "2021-12-27T14:58:32.693Z"
   },
   {
    "duration": 14,
    "start_time": "2021-12-27T14:58:45.147Z"
   },
   {
    "duration": 328,
    "start_time": "2021-12-27T19:08:13.150Z"
   },
   {
    "duration": 624,
    "start_time": "2021-12-27T19:08:23.967Z"
   },
   {
    "duration": 35,
    "start_time": "2021-12-27T19:08:24.593Z"
   },
   {
    "duration": 6,
    "start_time": "2021-12-27T19:08:24.630Z"
   },
   {
    "duration": 163,
    "start_time": "2021-12-27T19:08:24.637Z"
   },
   {
    "duration": 22,
    "start_time": "2021-12-27T19:08:24.802Z"
   },
   {
    "duration": 106,
    "start_time": "2021-12-27T19:08:24.827Z"
   },
   {
    "duration": 16,
    "start_time": "2021-12-27T19:08:24.934Z"
   },
   {
    "duration": 132,
    "start_time": "2021-12-27T19:08:24.953Z"
   },
   {
    "duration": 17,
    "start_time": "2021-12-27T19:08:25.087Z"
   },
   {
    "duration": 30,
    "start_time": "2021-12-27T19:08:25.105Z"
   },
   {
    "duration": 10,
    "start_time": "2021-12-27T19:08:25.137Z"
   },
   {
    "duration": 11,
    "start_time": "2021-12-27T19:08:25.149Z"
   },
   {
    "duration": 12,
    "start_time": "2021-12-27T19:08:25.161Z"
   },
   {
    "duration": 19,
    "start_time": "2021-12-27T19:08:25.174Z"
   },
   {
    "duration": 72,
    "start_time": "2021-12-27T19:08:25.195Z"
   },
   {
    "duration": 28,
    "start_time": "2021-12-27T19:08:25.269Z"
   },
   {
    "duration": 18,
    "start_time": "2021-12-27T19:08:25.299Z"
   },
   {
    "duration": 39,
    "start_time": "2021-12-27T19:08:25.319Z"
   },
   {
    "duration": 37,
    "start_time": "2021-12-27T19:08:25.360Z"
   },
   {
    "duration": 43,
    "start_time": "2021-12-27T19:08:25.399Z"
   },
   {
    "duration": 26,
    "start_time": "2021-12-27T19:08:25.444Z"
   },
   {
    "duration": 18,
    "start_time": "2021-12-27T19:08:25.471Z"
   },
   {
    "duration": 14,
    "start_time": "2021-12-27T19:08:25.491Z"
   },
   {
    "duration": 51,
    "start_time": "2021-12-27T19:08:25.507Z"
   },
   {
    "duration": 7,
    "start_time": "2021-12-27T19:08:25.560Z"
   },
   {
    "duration": 8,
    "start_time": "2021-12-27T19:08:25.569Z"
   },
   {
    "duration": 13,
    "start_time": "2021-12-27T19:08:25.578Z"
   },
   {
    "duration": 18,
    "start_time": "2021-12-27T19:08:25.592Z"
   },
   {
    "duration": 330,
    "start_time": "2021-12-27T19:08:25.611Z"
   },
   {
    "duration": 269,
    "start_time": "2021-12-27T19:08:25.943Z"
   },
   {
    "duration": 287,
    "start_time": "2021-12-27T19:08:26.213Z"
   },
   {
    "duration": 12,
    "start_time": "2021-12-27T19:08:26.501Z"
   },
   {
    "duration": 421,
    "start_time": "2021-12-27T19:08:26.514Z"
   },
   {
    "duration": 14,
    "start_time": "2021-12-27T19:08:26.936Z"
   },
   {
    "duration": 10,
    "start_time": "2021-12-27T19:08:26.952Z"
   },
   {
    "duration": 155,
    "start_time": "2021-12-27T19:09:12.995Z"
   },
   {
    "duration": 281,
    "start_time": "2021-12-27T19:11:46.139Z"
   },
   {
    "duration": 367,
    "start_time": "2021-12-27T19:12:19.359Z"
   },
   {
    "duration": 412,
    "start_time": "2021-12-27T19:12:26.980Z"
   },
   {
    "duration": 418,
    "start_time": "2021-12-28T06:25:29.487Z"
   },
   {
    "duration": 889,
    "start_time": "2021-12-28T06:25:38.630Z"
   },
   {
    "duration": 41,
    "start_time": "2021-12-28T06:25:39.529Z"
   },
   {
    "duration": 9,
    "start_time": "2021-12-28T06:25:39.573Z"
   },
   {
    "duration": 204,
    "start_time": "2021-12-28T06:25:39.585Z"
   },
   {
    "duration": 34,
    "start_time": "2021-12-28T06:25:39.792Z"
   },
   {
    "duration": 120,
    "start_time": "2021-12-28T06:25:39.829Z"
   },
   {
    "duration": 18,
    "start_time": "2021-12-28T06:25:39.951Z"
   },
   {
    "duration": 178,
    "start_time": "2021-12-28T06:25:39.973Z"
   },
   {
    "duration": 20,
    "start_time": "2021-12-28T06:25:40.155Z"
   },
   {
    "duration": 28,
    "start_time": "2021-12-28T06:25:40.177Z"
   },
   {
    "duration": 19,
    "start_time": "2021-12-28T06:25:40.207Z"
   },
   {
    "duration": 18,
    "start_time": "2021-12-28T06:25:40.228Z"
   },
   {
    "duration": 18,
    "start_time": "2021-12-28T06:25:40.248Z"
   },
   {
    "duration": 18,
    "start_time": "2021-12-28T06:25:40.268Z"
   },
   {
    "duration": 115,
    "start_time": "2021-12-28T06:25:40.289Z"
   },
   {
    "duration": 46,
    "start_time": "2021-12-28T06:25:40.407Z"
   },
   {
    "duration": 28,
    "start_time": "2021-12-28T06:25:40.456Z"
   },
   {
    "duration": 59,
    "start_time": "2021-12-28T06:25:40.487Z"
   },
   {
    "duration": 50,
    "start_time": "2021-12-28T06:25:40.549Z"
   },
   {
    "duration": 48,
    "start_time": "2021-12-28T06:25:40.601Z"
   },
   {
    "duration": 38,
    "start_time": "2021-12-28T06:25:40.651Z"
   },
   {
    "duration": 51,
    "start_time": "2021-12-28T06:25:40.691Z"
   },
   {
    "duration": 27,
    "start_time": "2021-12-28T06:25:40.745Z"
   },
   {
    "duration": 69,
    "start_time": "2021-12-28T06:25:40.774Z"
   },
   {
    "duration": 13,
    "start_time": "2021-12-28T06:25:40.845Z"
   },
   {
    "duration": 15,
    "start_time": "2021-12-28T06:25:40.862Z"
   },
   {
    "duration": 52,
    "start_time": "2021-12-28T06:25:40.879Z"
   },
   {
    "duration": 34,
    "start_time": "2021-12-28T06:25:40.934Z"
   },
   {
    "duration": 517,
    "start_time": "2021-12-28T06:25:40.971Z"
   },
   {
    "duration": 477,
    "start_time": "2021-12-28T06:25:41.491Z"
   },
   {
    "duration": 513,
    "start_time": "2021-12-28T06:25:41.971Z"
   },
   {
    "duration": 20,
    "start_time": "2021-12-28T06:25:42.486Z"
   },
   {
    "duration": 18,
    "start_time": "2021-12-28T06:25:42.524Z"
   },
   {
    "duration": 17,
    "start_time": "2021-12-28T06:25:42.545Z"
   },
   {
    "duration": 598,
    "start_time": "2021-12-28T06:25:42.564Z"
   },
   {
    "duration": 21,
    "start_time": "2021-12-28T06:37:09.719Z"
   },
   {
    "duration": 22,
    "start_time": "2021-12-28T06:37:29.450Z"
   },
   {
    "duration": 21,
    "start_time": "2021-12-28T06:37:38.824Z"
   },
   {
    "duration": 20,
    "start_time": "2021-12-28T06:42:45.669Z"
   },
   {
    "duration": 25,
    "start_time": "2021-12-28T06:47:43.170Z"
   },
   {
    "duration": 29,
    "start_time": "2021-12-28T06:56:43.155Z"
   },
   {
    "duration": 35,
    "start_time": "2021-12-28T07:24:51.868Z"
   },
   {
    "duration": 19,
    "start_time": "2021-12-28T07:25:34.122Z"
   },
   {
    "duration": 279,
    "start_time": "2021-12-28T07:25:53.815Z"
   },
   {
    "duration": 286,
    "start_time": "2021-12-28T07:26:24.010Z"
   },
   {
    "duration": 598,
    "start_time": "2021-12-28T07:28:09.997Z"
   },
   {
    "duration": 296,
    "start_time": "2021-12-28T07:28:30.956Z"
   },
   {
    "duration": 481,
    "start_time": "2021-12-28T07:35:00.247Z"
   },
   {
    "duration": 268,
    "start_time": "2021-12-28T07:42:55.597Z"
   },
   {
    "duration": 14,
    "start_time": "2021-12-28T07:43:22.384Z"
   },
   {
    "duration": 18,
    "start_time": "2021-12-28T07:43:28.397Z"
   },
   {
    "duration": 12,
    "start_time": "2021-12-28T07:43:52.706Z"
   },
   {
    "duration": 18,
    "start_time": "2021-12-28T07:43:59.212Z"
   },
   {
    "duration": 20,
    "start_time": "2021-12-28T07:48:07.555Z"
   },
   {
    "duration": 7299,
    "start_time": "2021-12-28T07:49:02.089Z"
   },
   {
    "duration": 468,
    "start_time": "2021-12-28T07:49:21.258Z"
   },
   {
    "duration": 454,
    "start_time": "2021-12-28T07:49:41.498Z"
   },
   {
    "duration": 329,
    "start_time": "2021-12-28T07:50:24.354Z"
   },
   {
    "duration": 478,
    "start_time": "2021-12-28T07:50:48.323Z"
   },
   {
    "duration": 18,
    "start_time": "2021-12-28T07:52:30.601Z"
   },
   {
    "duration": 527,
    "start_time": "2021-12-28T07:54:02.538Z"
   },
   {
    "duration": 23,
    "start_time": "2021-12-28T07:58:13.292Z"
   },
   {
    "duration": 20,
    "start_time": "2021-12-28T08:00:03.356Z"
   },
   {
    "duration": 21,
    "start_time": "2021-12-28T08:02:49.928Z"
   },
   {
    "duration": 21,
    "start_time": "2021-12-28T08:15:22.796Z"
   },
   {
    "duration": 364,
    "start_time": "2021-12-28T09:03:17.777Z"
   },
   {
    "duration": 11,
    "start_time": "2021-12-28T09:03:24.322Z"
   },
   {
    "duration": 7,
    "start_time": "2021-12-28T09:03:25.889Z"
   },
   {
    "duration": 9,
    "start_time": "2021-12-28T09:03:38.079Z"
   },
   {
    "duration": 310,
    "start_time": "2021-12-28T09:04:22.157Z"
   },
   {
    "duration": 7,
    "start_time": "2021-12-28T09:04:36.003Z"
   },
   {
    "duration": 6,
    "start_time": "2021-12-28T09:04:43.973Z"
   },
   {
    "duration": 8,
    "start_time": "2021-12-28T09:05:08.240Z"
   },
   {
    "duration": 8,
    "start_time": "2021-12-28T09:05:19.567Z"
   },
   {
    "duration": 1353,
    "start_time": "2021-12-28T09:06:36.104Z"
   },
   {
    "duration": 485,
    "start_time": "2021-12-28T09:06:49.958Z"
   },
   {
    "duration": 354,
    "start_time": "2021-12-28T09:06:54.655Z"
   },
   {
    "duration": 310,
    "start_time": "2021-12-28T09:07:34.778Z"
   },
   {
    "duration": 9,
    "start_time": "2021-12-28T09:09:18.210Z"
   },
   {
    "duration": 1169,
    "start_time": "2021-12-28T09:16:56.593Z"
   },
   {
    "duration": 8,
    "start_time": "2021-12-28T09:19:56.129Z"
   },
   {
    "duration": 7,
    "start_time": "2021-12-28T09:20:15.465Z"
   },
   {
    "duration": 5,
    "start_time": "2021-12-28T09:20:31.657Z"
   },
   {
    "duration": 325,
    "start_time": "2021-12-28T09:21:22.430Z"
   },
   {
    "duration": 12,
    "start_time": "2021-12-28T09:22:00.976Z"
   },
   {
    "duration": 281,
    "start_time": "2021-12-28T09:22:22.433Z"
   },
   {
    "duration": 7508,
    "start_time": "2021-12-28T09:22:36.552Z"
   },
   {
    "duration": 7103,
    "start_time": "2021-12-28T09:22:49.764Z"
   },
   {
    "duration": 21,
    "start_time": "2021-12-28T09:23:00.264Z"
   },
   {
    "duration": 8,
    "start_time": "2021-12-28T09:23:07.909Z"
   },
   {
    "duration": 8,
    "start_time": "2021-12-28T09:23:28.769Z"
   },
   {
    "duration": 7,
    "start_time": "2021-12-28T09:23:30.672Z"
   },
   {
    "duration": 7,
    "start_time": "2021-12-28T09:24:07.058Z"
   },
   {
    "duration": 266,
    "start_time": "2021-12-28T09:24:11.614Z"
   },
   {
    "duration": 284,
    "start_time": "2021-12-28T09:24:16.221Z"
   },
   {
    "duration": 11,
    "start_time": "2021-12-28T09:24:26.396Z"
   },
   {
    "duration": 6,
    "start_time": "2021-12-28T09:24:28.087Z"
   },
   {
    "duration": 8,
    "start_time": "2021-12-28T09:24:31.406Z"
   },
   {
    "duration": 6,
    "start_time": "2021-12-28T09:25:44.882Z"
   },
   {
    "duration": 1377,
    "start_time": "2021-12-28T09:40:27.590Z"
   },
   {
    "duration": 62,
    "start_time": "2021-12-28T09:40:28.970Z"
   },
   {
    "duration": 8,
    "start_time": "2021-12-28T09:40:29.036Z"
   },
   {
    "duration": 209,
    "start_time": "2021-12-28T09:40:29.047Z"
   },
   {
    "duration": 27,
    "start_time": "2021-12-28T09:40:29.259Z"
   },
   {
    "duration": 135,
    "start_time": "2021-12-28T09:40:29.288Z"
   },
   {
    "duration": 19,
    "start_time": "2021-12-28T09:40:29.425Z"
   },
   {
    "duration": 198,
    "start_time": "2021-12-28T09:40:29.450Z"
   },
   {
    "duration": 22,
    "start_time": "2021-12-28T09:40:29.652Z"
   },
   {
    "duration": 24,
    "start_time": "2021-12-28T09:40:29.676Z"
   },
   {
    "duration": 27,
    "start_time": "2021-12-28T09:40:29.702Z"
   },
   {
    "duration": 12,
    "start_time": "2021-12-28T09:40:29.732Z"
   },
   {
    "duration": 14,
    "start_time": "2021-12-28T09:40:29.747Z"
   },
   {
    "duration": 19,
    "start_time": "2021-12-28T09:40:29.764Z"
   },
   {
    "duration": 114,
    "start_time": "2021-12-28T09:40:29.786Z"
   },
   {
    "duration": 54,
    "start_time": "2021-12-28T09:40:29.902Z"
   },
   {
    "duration": 27,
    "start_time": "2021-12-28T09:40:29.958Z"
   },
   {
    "duration": 56,
    "start_time": "2021-12-28T09:40:29.988Z"
   },
   {
    "duration": 50,
    "start_time": "2021-12-28T09:40:30.047Z"
   },
   {
    "duration": 47,
    "start_time": "2021-12-28T09:40:30.099Z"
   },
   {
    "duration": 33,
    "start_time": "2021-12-28T09:40:30.148Z"
   },
   {
    "duration": 53,
    "start_time": "2021-12-28T09:40:30.183Z"
   },
   {
    "duration": 36,
    "start_time": "2021-12-28T09:40:30.243Z"
   },
   {
    "duration": 75,
    "start_time": "2021-12-28T09:40:30.282Z"
   },
   {
    "duration": 17,
    "start_time": "2021-12-28T09:40:30.360Z"
   },
   {
    "duration": 15,
    "start_time": "2021-12-28T09:40:30.380Z"
   },
   {
    "duration": 47,
    "start_time": "2021-12-28T09:40:30.397Z"
   },
   {
    "duration": 51,
    "start_time": "2021-12-28T09:40:30.447Z"
   },
   {
    "duration": 30,
    "start_time": "2021-12-28T09:40:30.501Z"
   },
   {
    "duration": 517,
    "start_time": "2021-12-28T09:40:30.533Z"
   },
   {
    "duration": 34,
    "start_time": "2021-12-28T09:40:31.053Z"
   },
   {
    "duration": 494,
    "start_time": "2021-12-28T09:40:31.089Z"
   },
   {
    "duration": 39,
    "start_time": "2021-12-28T09:40:31.586Z"
   },
   {
    "duration": 498,
    "start_time": "2021-12-28T09:40:31.628Z"
   },
   {
    "duration": 22,
    "start_time": "2021-12-28T09:40:32.129Z"
   },
   {
    "duration": 8,
    "start_time": "2021-12-28T09:40:32.153Z"
   },
   {
    "duration": 8,
    "start_time": "2021-12-28T09:40:32.163Z"
   },
   {
    "duration": 13,
    "start_time": "2021-12-28T09:40:32.173Z"
   },
   {
    "duration": 7,
    "start_time": "2021-12-28T09:40:32.223Z"
   },
   {
    "duration": 11,
    "start_time": "2021-12-28T09:40:32.233Z"
   },
   {
    "duration": 13,
    "start_time": "2021-12-28T09:40:32.246Z"
   },
   {
    "duration": 11,
    "start_time": "2021-12-28T09:40:32.261Z"
   },
   {
    "duration": 10,
    "start_time": "2021-12-28T09:40:32.274Z"
   },
   {
    "duration": 1005,
    "start_time": "2021-12-29T06:55:24.943Z"
   },
   {
    "duration": 401,
    "start_time": "2021-12-29T06:55:29.471Z"
   },
   {
    "duration": 1467,
    "start_time": "2021-12-29T06:55:35.239Z"
   },
   {
    "duration": 58,
    "start_time": "2021-12-29T06:55:37.222Z"
   },
   {
    "duration": 200,
    "start_time": "2021-12-29T06:55:41.486Z"
   },
   {
    "duration": 131,
    "start_time": "2021-12-29T06:55:43.821Z"
   },
   {
    "duration": 124,
    "start_time": "2021-12-29T06:56:05.308Z"
   },
   {
    "duration": 57,
    "start_time": "2021-12-29T06:56:08.086Z"
   },
   {
    "duration": 433,
    "start_time": "2021-12-29T06:56:35.622Z"
   },
   {
    "duration": 168,
    "start_time": "2021-12-29T06:56:38.004Z"
   },
   {
    "duration": 92,
    "start_time": "2021-12-29T06:56:39.891Z"
   },
   {
    "duration": 141,
    "start_time": "2021-12-29T06:58:02.404Z"
   },
   {
    "duration": 95,
    "start_time": "2021-12-29T06:59:12.503Z"
   },
   {
    "duration": 257,
    "start_time": "2021-12-29T07:01:49.363Z"
   },
   {
    "duration": 1329,
    "start_time": "2021-12-29T07:02:27.487Z"
   },
   {
    "duration": 56,
    "start_time": "2021-12-29T07:02:28.819Z"
   },
   {
    "duration": 10,
    "start_time": "2021-12-29T07:02:28.877Z"
   },
   {
    "duration": 228,
    "start_time": "2021-12-29T07:02:28.890Z"
   },
   {
    "duration": 41,
    "start_time": "2021-12-29T07:02:29.121Z"
   },
   {
    "duration": 125,
    "start_time": "2021-12-29T07:02:29.165Z"
   },
   {
    "duration": 20,
    "start_time": "2021-12-29T07:02:29.293Z"
   },
   {
    "duration": 194,
    "start_time": "2021-12-29T07:02:29.318Z"
   },
   {
    "duration": 23,
    "start_time": "2021-12-29T07:02:29.516Z"
   },
   {
    "duration": 29,
    "start_time": "2021-12-29T07:02:29.559Z"
   },
   {
    "duration": 11,
    "start_time": "2021-12-29T07:02:29.591Z"
   },
   {
    "duration": 298,
    "start_time": "2021-12-29T07:02:29.605Z"
   },
   {
    "duration": 11,
    "start_time": "2021-12-29T07:02:29.906Z"
   },
   {
    "duration": 39,
    "start_time": "2021-12-29T07:02:29.920Z"
   },
   {
    "duration": 15,
    "start_time": "2021-12-29T07:02:29.962Z"
   },
   {
    "duration": 107,
    "start_time": "2021-12-29T07:02:29.980Z"
   },
   {
    "duration": 41,
    "start_time": "2021-12-29T07:02:30.090Z"
   },
   {
    "duration": 45,
    "start_time": "2021-12-29T07:02:30.134Z"
   },
   {
    "duration": 36,
    "start_time": "2021-12-29T07:02:30.181Z"
   },
   {
    "duration": 77,
    "start_time": "2021-12-29T07:02:30.220Z"
   },
   {
    "duration": 33,
    "start_time": "2021-12-29T07:02:30.299Z"
   },
   {
    "duration": 47,
    "start_time": "2021-12-29T07:02:30.334Z"
   },
   {
    "duration": 34,
    "start_time": "2021-12-29T07:02:30.386Z"
   },
   {
    "duration": 53,
    "start_time": "2021-12-29T07:02:30.424Z"
   },
   {
    "duration": 61,
    "start_time": "2021-12-29T07:02:30.479Z"
   },
   {
    "duration": 27,
    "start_time": "2021-12-29T07:02:30.543Z"
   },
   {
    "duration": 17,
    "start_time": "2021-12-29T07:02:30.573Z"
   },
   {
    "duration": 41,
    "start_time": "2021-12-29T07:02:30.592Z"
   },
   {
    "duration": 52,
    "start_time": "2021-12-29T07:02:30.636Z"
   },
   {
    "duration": 21,
    "start_time": "2021-12-29T07:02:30.691Z"
   },
   {
    "duration": 553,
    "start_time": "2021-12-29T07:02:30.714Z"
   },
   {
    "duration": 21,
    "start_time": "2021-12-29T07:02:31.270Z"
   },
   {
    "duration": 498,
    "start_time": "2021-12-29T07:02:31.294Z"
   },
   {
    "duration": 20,
    "start_time": "2021-12-29T07:02:31.794Z"
   },
   {
    "duration": 510,
    "start_time": "2021-12-29T07:02:31.817Z"
   },
   {
    "duration": 34,
    "start_time": "2021-12-29T07:02:32.329Z"
   },
   {
    "duration": 10,
    "start_time": "2021-12-29T07:02:32.366Z"
   },
   {
    "duration": 9,
    "start_time": "2021-12-29T07:02:32.378Z"
   },
   {
    "duration": 8,
    "start_time": "2021-12-29T07:02:32.389Z"
   },
   {
    "duration": 6,
    "start_time": "2021-12-29T07:02:32.400Z"
   },
   {
    "duration": 54,
    "start_time": "2021-12-29T07:02:32.408Z"
   },
   {
    "duration": 6,
    "start_time": "2021-12-29T07:02:32.464Z"
   },
   {
    "duration": 11,
    "start_time": "2021-12-29T07:02:32.472Z"
   },
   {
    "duration": 6,
    "start_time": "2021-12-29T07:02:32.485Z"
   }
  ],
  "kernelspec": {
   "display_name": "Python 3 (ipykernel)",
   "language": "python",
   "name": "python3"
  },
  "language_info": {
   "codemirror_mode": {
    "name": "ipython",
    "version": 3
   },
   "file_extension": ".py",
   "mimetype": "text/x-python",
   "name": "python",
   "nbconvert_exporter": "python",
   "pygments_lexer": "ipython3",
   "version": "3.9.7"
  },
  "toc": {
   "base_numbering": 1,
   "nav_menu": {},
   "number_sections": true,
   "sideBar": true,
   "skip_h1_title": true,
   "title_cell": "Table of Contents",
   "title_sidebar": "Contents",
   "toc_cell": false,
   "toc_position": {},
   "toc_section_display": true,
   "toc_window_display": false
  }
 },
 "nbformat": 4,
 "nbformat_minor": 2
}
