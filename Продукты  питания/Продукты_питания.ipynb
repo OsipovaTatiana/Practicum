{
 "cells": [
  {
   "cell_type": "markdown",
   "metadata": {},
   "source": [
    "## Описание задачи"
   ]
  },
  {
   "cell_type": "markdown",
   "metadata": {},
   "source": [
    "Вы работаете в стартапе, который продаёт продукты питания.   \n",
    "Нужно разобраться, как ведут себя пользователи мобильного приложения.\n",
    "Изучить воронку продаж. Узнать, как пользователи доходят до покупки. Сколько пользователей доходит до покупки, а сколько — «застревает» на предыдущих шагах? На каких именно?   \n",
    "После этого исследовать результаты A/A/B-эксперимента.   \n",
    "Дизайнеры захотели поменять шрифты во всём приложении, а менеджеры испугались, что пользователям будет непривычно. Договорились принять решение по результатам A/A/B-теста.   \n",
    "Пользователей разбили на 3 группы: 2 контрольные со старыми шрифтами и одну экспериментальную — с новыми. Необходимо выяснить, какой шрифт лучше."
   ]
  },
  {
   "cell_type": "markdown",
   "metadata": {},
   "source": [
    "## Предобработка данных"
   ]
  },
  {
   "cell_type": "code",
   "execution_count": 1,
   "metadata": {},
   "outputs": [],
   "source": [
    "import pandas as pd\n",
    "import datetime as dt\n",
    "import matplotlib.pyplot as plt \n",
    "from scipy import stats as st\n",
    "import numpy as np\n",
    "import math as mth\n"
   ]
  },
  {
   "cell_type": "code",
   "execution_count": 2,
   "metadata": {},
   "outputs": [
    {
     "data": {
      "text/html": [
       "<div>\n",
       "<style scoped>\n",
       "    .dataframe tbody tr th:only-of-type {\n",
       "        vertical-align: middle;\n",
       "    }\n",
       "\n",
       "    .dataframe tbody tr th {\n",
       "        vertical-align: top;\n",
       "    }\n",
       "\n",
       "    .dataframe thead th {\n",
       "        text-align: right;\n",
       "    }\n",
       "</style>\n",
       "<table border=\"1\" class=\"dataframe\">\n",
       "  <thead>\n",
       "    <tr style=\"text-align: right;\">\n",
       "      <th></th>\n",
       "      <th>EventName</th>\n",
       "      <th>DeviceIDHash</th>\n",
       "      <th>EventTimestamp</th>\n",
       "      <th>ExpId</th>\n",
       "    </tr>\n",
       "  </thead>\n",
       "  <tbody>\n",
       "    <tr>\n",
       "      <th>0</th>\n",
       "      <td>MainScreenAppear</td>\n",
       "      <td>4575588528974610257</td>\n",
       "      <td>1564029816</td>\n",
       "      <td>246</td>\n",
       "    </tr>\n",
       "    <tr>\n",
       "      <th>1</th>\n",
       "      <td>MainScreenAppear</td>\n",
       "      <td>7416695313311560658</td>\n",
       "      <td>1564053102</td>\n",
       "      <td>246</td>\n",
       "    </tr>\n",
       "    <tr>\n",
       "      <th>2</th>\n",
       "      <td>PaymentScreenSuccessful</td>\n",
       "      <td>3518123091307005509</td>\n",
       "      <td>1564054127</td>\n",
       "      <td>248</td>\n",
       "    </tr>\n",
       "    <tr>\n",
       "      <th>3</th>\n",
       "      <td>CartScreenAppear</td>\n",
       "      <td>3518123091307005509</td>\n",
       "      <td>1564054127</td>\n",
       "      <td>248</td>\n",
       "    </tr>\n",
       "    <tr>\n",
       "      <th>4</th>\n",
       "      <td>PaymentScreenSuccessful</td>\n",
       "      <td>6217807653094995999</td>\n",
       "      <td>1564055322</td>\n",
       "      <td>248</td>\n",
       "    </tr>\n",
       "  </tbody>\n",
       "</table>\n",
       "</div>"
      ],
      "text/plain": [
       "                 EventName         DeviceIDHash  EventTimestamp  ExpId\n",
       "0         MainScreenAppear  4575588528974610257      1564029816    246\n",
       "1         MainScreenAppear  7416695313311560658      1564053102    246\n",
       "2  PaymentScreenSuccessful  3518123091307005509      1564054127    248\n",
       "3         CartScreenAppear  3518123091307005509      1564054127    248\n",
       "4  PaymentScreenSuccessful  6217807653094995999      1564055322    248"
      ]
     },
     "execution_count": 2,
     "metadata": {},
     "output_type": "execute_result"
    }
   ],
   "source": [
    "logs = pd.read_csv('/datasets/logs_exp.csv', sep='\\t')\n",
    "logs.head()"
   ]
  },
  {
   "cell_type": "code",
   "execution_count": 3,
   "metadata": {},
   "outputs": [],
   "source": [
    "# переименуем колонки\n",
    "logs = logs.rename(columns={'EventName': 'event_name', \n",
    "                        'DeviceIDHash': 'user_id',\n",
    "                        'EventTimestamp': 'event_timestamp',\n",
    "                        'ExpId':'exp_id'  }\n",
    "              )"
   ]
  },
  {
   "cell_type": "code",
   "execution_count": 4,
   "metadata": {
    "scrolled": true
   },
   "outputs": [
    {
     "data": {
      "text/html": [
       "<div>\n",
       "<style scoped>\n",
       "    .dataframe tbody tr th:only-of-type {\n",
       "        vertical-align: middle;\n",
       "    }\n",
       "\n",
       "    .dataframe tbody tr th {\n",
       "        vertical-align: top;\n",
       "    }\n",
       "\n",
       "    .dataframe thead th {\n",
       "        text-align: right;\n",
       "    }\n",
       "</style>\n",
       "<table border=\"1\" class=\"dataframe\">\n",
       "  <thead>\n",
       "    <tr style=\"text-align: right;\">\n",
       "      <th></th>\n",
       "      <th>event_name</th>\n",
       "      <th>user_id</th>\n",
       "      <th>event_timestamp</th>\n",
       "      <th>exp_id</th>\n",
       "    </tr>\n",
       "  </thead>\n",
       "  <tbody>\n",
       "    <tr>\n",
       "      <th>0</th>\n",
       "      <td>MainScreenAppear</td>\n",
       "      <td>4575588528974610257</td>\n",
       "      <td>1564029816</td>\n",
       "      <td>246</td>\n",
       "    </tr>\n",
       "    <tr>\n",
       "      <th>1</th>\n",
       "      <td>MainScreenAppear</td>\n",
       "      <td>7416695313311560658</td>\n",
       "      <td>1564053102</td>\n",
       "      <td>246</td>\n",
       "    </tr>\n",
       "    <tr>\n",
       "      <th>2</th>\n",
       "      <td>PaymentScreenSuccessful</td>\n",
       "      <td>3518123091307005509</td>\n",
       "      <td>1564054127</td>\n",
       "      <td>248</td>\n",
       "    </tr>\n",
       "    <tr>\n",
       "      <th>3</th>\n",
       "      <td>CartScreenAppear</td>\n",
       "      <td>3518123091307005509</td>\n",
       "      <td>1564054127</td>\n",
       "      <td>248</td>\n",
       "    </tr>\n",
       "    <tr>\n",
       "      <th>4</th>\n",
       "      <td>PaymentScreenSuccessful</td>\n",
       "      <td>6217807653094995999</td>\n",
       "      <td>1564055322</td>\n",
       "      <td>248</td>\n",
       "    </tr>\n",
       "  </tbody>\n",
       "</table>\n",
       "</div>"
      ],
      "text/plain": [
       "                event_name              user_id  event_timestamp  exp_id\n",
       "0         MainScreenAppear  4575588528974610257       1564029816     246\n",
       "1         MainScreenAppear  7416695313311560658       1564053102     246\n",
       "2  PaymentScreenSuccessful  3518123091307005509       1564054127     248\n",
       "3         CartScreenAppear  3518123091307005509       1564054127     248\n",
       "4  PaymentScreenSuccessful  6217807653094995999       1564055322     248"
      ]
     },
     "metadata": {},
     "output_type": "display_data"
    },
    {
     "name": "stdout",
     "output_type": "stream",
     "text": [
      "<class 'pandas.core.frame.DataFrame'>\n",
      "RangeIndex: 244126 entries, 0 to 244125\n",
      "Data columns (total 4 columns):\n",
      " #   Column           Non-Null Count   Dtype \n",
      "---  ------           --------------   ----- \n",
      " 0   event_name       244126 non-null  object\n",
      " 1   user_id          244126 non-null  int64 \n",
      " 2   event_timestamp  244126 non-null  int64 \n",
      " 3   exp_id           244126 non-null  int64 \n",
      "dtypes: int64(3), object(1)\n",
      "memory usage: 7.5+ MB\n",
      "\n",
      "Количество явных дубликатов - 413\n"
     ]
    }
   ],
   "source": [
    "# посмотрим на основные характеристики\n",
    "display(logs.head()) \n",
    "logs.info() \n",
    "print ('\\nКоличество явных дубликатов -', logs.duplicated().sum())"
   ]
  },
  {
   "cell_type": "code",
   "execution_count": 5,
   "metadata": {},
   "outputs": [
    {
     "data": {
      "text/plain": [
       "MainScreenAppear           119205\n",
       "OffersScreenAppear          46825\n",
       "CartScreenAppear            42731\n",
       "PaymentScreenSuccessful     34313\n",
       "Tutorial                     1052\n",
       "Name: event_name, dtype: int64"
      ]
     },
     "execution_count": 5,
     "metadata": {},
     "output_type": "execute_result"
    }
   ],
   "source": [
    "logs['event_name'].value_counts()"
   ]
  },
  {
   "cell_type": "code",
   "execution_count": 6,
   "metadata": {},
   "outputs": [
    {
     "data": {
      "text/plain": [
       "(0, 0, 0, 0)"
      ]
     },
     "execution_count": 6,
     "metadata": {},
     "output_type": "execute_result"
    }
   ],
   "source": [
    "logs['event_name'].isna().sum(), logs['user_id'].isna().sum(),logs['event_timestamp'].isna().sum(),logs['exp_id'].isna().sum()"
   ]
  },
  {
   "cell_type": "code",
   "execution_count": 7,
   "metadata": {},
   "outputs": [
    {
     "data": {
      "text/html": [
       "<div>\n",
       "<style scoped>\n",
       "    .dataframe tbody tr th:only-of-type {\n",
       "        vertical-align: middle;\n",
       "    }\n",
       "\n",
       "    .dataframe tbody tr th {\n",
       "        vertical-align: top;\n",
       "    }\n",
       "\n",
       "    .dataframe thead th {\n",
       "        text-align: right;\n",
       "    }\n",
       "</style>\n",
       "<table border=\"1\" class=\"dataframe\">\n",
       "  <thead>\n",
       "    <tr style=\"text-align: right;\">\n",
       "      <th></th>\n",
       "      <th>event_name</th>\n",
       "      <th>user_id</th>\n",
       "      <th>event_timestamp</th>\n",
       "      <th>exp_id</th>\n",
       "      <th>event_time</th>\n",
       "      <th>event_date</th>\n",
       "    </tr>\n",
       "  </thead>\n",
       "  <tbody>\n",
       "    <tr>\n",
       "      <th>0</th>\n",
       "      <td>MainScreenAppear</td>\n",
       "      <td>4575588528974610257</td>\n",
       "      <td>1564029816</td>\n",
       "      <td>246</td>\n",
       "      <td>2019-07-25 04:43:36</td>\n",
       "      <td>2019-07-25</td>\n",
       "    </tr>\n",
       "    <tr>\n",
       "      <th>1</th>\n",
       "      <td>MainScreenAppear</td>\n",
       "      <td>7416695313311560658</td>\n",
       "      <td>1564053102</td>\n",
       "      <td>246</td>\n",
       "      <td>2019-07-25 11:11:42</td>\n",
       "      <td>2019-07-25</td>\n",
       "    </tr>\n",
       "    <tr>\n",
       "      <th>2</th>\n",
       "      <td>PaymentScreenSuccessful</td>\n",
       "      <td>3518123091307005509</td>\n",
       "      <td>1564054127</td>\n",
       "      <td>248</td>\n",
       "      <td>2019-07-25 11:28:47</td>\n",
       "      <td>2019-07-25</td>\n",
       "    </tr>\n",
       "    <tr>\n",
       "      <th>3</th>\n",
       "      <td>CartScreenAppear</td>\n",
       "      <td>3518123091307005509</td>\n",
       "      <td>1564054127</td>\n",
       "      <td>248</td>\n",
       "      <td>2019-07-25 11:28:47</td>\n",
       "      <td>2019-07-25</td>\n",
       "    </tr>\n",
       "    <tr>\n",
       "      <th>4</th>\n",
       "      <td>PaymentScreenSuccessful</td>\n",
       "      <td>6217807653094995999</td>\n",
       "      <td>1564055322</td>\n",
       "      <td>248</td>\n",
       "      <td>2019-07-25 11:48:42</td>\n",
       "      <td>2019-07-25</td>\n",
       "    </tr>\n",
       "  </tbody>\n",
       "</table>\n",
       "</div>"
      ],
      "text/plain": [
       "                event_name              user_id  event_timestamp  exp_id  \\\n",
       "0         MainScreenAppear  4575588528974610257       1564029816     246   \n",
       "1         MainScreenAppear  7416695313311560658       1564053102     246   \n",
       "2  PaymentScreenSuccessful  3518123091307005509       1564054127     248   \n",
       "3         CartScreenAppear  3518123091307005509       1564054127     248   \n",
       "4  PaymentScreenSuccessful  6217807653094995999       1564055322     248   \n",
       "\n",
       "           event_time  event_date  \n",
       "0 2019-07-25 04:43:36  2019-07-25  \n",
       "1 2019-07-25 11:11:42  2019-07-25  \n",
       "2 2019-07-25 11:28:47  2019-07-25  \n",
       "3 2019-07-25 11:28:47  2019-07-25  \n",
       "4 2019-07-25 11:48:42  2019-07-25  "
      ]
     },
     "execution_count": 7,
     "metadata": {},
     "output_type": "execute_result"
    }
   ],
   "source": [
    "# преобразуем секунды в тип дата\n",
    "logs['event_time'] = pd.to_datetime(logs['event_timestamp'],unit = 's')\n",
    "\n",
    "logs['event_time'] = pd.to_datetime(logs['event_time'], format='%d-%m-%Y')\n",
    "logs['event_date'] = logs['event_time'].dt.date\n",
    "\n",
    "logs.head()"
   ]
  },
  {
   "cell_type": "code",
   "execution_count": 8,
   "metadata": {},
   "outputs": [
    {
     "data": {
      "text/plain": [
       "413"
      ]
     },
     "execution_count": 8,
     "metadata": {},
     "output_type": "execute_result"
    }
   ],
   "source": [
    "# посмотрим, сколько дубликатов\n",
    "logs[logs.duplicated()].shape[0]"
   ]
  },
  {
   "cell_type": "markdown",
   "metadata": {},
   "source": [
    "Дубликаты составляют менее 1% данных -> этими данными можно принебречь.Удалим эти стороки.\n"
   ]
  },
  {
   "cell_type": "code",
   "execution_count": 9,
   "metadata": {},
   "outputs": [
    {
     "name": "stdout",
     "output_type": "stream",
     "text": [
      "Строк в таблице изначально -  244126\n",
      "Строк в таблице после удаления дубликатов -  243713\n"
     ]
    }
   ],
   "source": [
    "print('Строк в таблице изначально - ',logs.shape[0])\n",
    "logs = logs.drop_duplicates()\n",
    "print('Строк в таблице после удаления дубликатов - ',logs.shape[0])"
   ]
  },
  {
   "cell_type": "markdown",
   "metadata": {},
   "source": [
    "У нас есть 5 событий:\n",
    "\n",
    "MainScreenAppear(переход на главную страницу)          119205   \n",
    "OffersScreenAppear (переход по ссылке на товар)        46825   \n",
    "CartScreenAppear (добавление товара в корзину)         42731   \n",
    "PaymentScreenSuccessful (оплата товара)                34313   \n",
    "Tutorial (руководство по работе с сайтом)              1052"
   ]
  },
  {
   "cell_type": "markdown",
   "metadata": {},
   "source": [
    "## Анализ данных"
   ]
  },
  {
   "cell_type": "markdown",
   "metadata": {},
   "source": [
    "Каждая запись в логе — это действие пользователя, или событие.   \n",
    "\n",
    "**event_name** — название события;   \n",
    "**user_id** — уникальный идентификатор пользователя;   \n",
    "**event_timestamp** — время события (в секундах);   \n",
    "**event_time** -  время события ( дата + время);   \n",
    "**event_date** - дата события;   \n",
    "**exp_id** — номер эксперимента: 246 и 247 — контрольные группы, а 248 — экспериментальная."
   ]
  },
  {
   "cell_type": "markdown",
   "metadata": {},
   "source": [
    "### Изучение и проверка данных"
   ]
  },
  {
   "cell_type": "code",
   "execution_count": 10,
   "metadata": {},
   "outputs": [
    {
     "name": "stdout",
     "output_type": "stream",
     "text": [
      "Всего событий - 243713\n",
      "Всего пользователей - 7551\n",
      "В среднем на одного пользователя приходится - 32 события\n"
     ]
    }
   ],
   "source": [
    "# сколько всего событий с логах\n",
    "print('Всего событий - {}'.format(logs.shape[0]))\n",
    "\n",
    "#cколько всего пользователей в логе?\n",
    "print('Всего пользователей - {}'.format(logs['user_id'].nunique()))\n",
    "\n",
    "#сколько в среднем событий приходится на пользователя?\n",
    "print('В среднем на одного пользователя приходится -', round(logs.shape[0] /logs['user_id'].nunique()),'события')"
   ]
  },
  {
   "cell_type": "code",
   "execution_count": 11,
   "metadata": {
    "scrolled": true
   },
   "outputs": [
    {
     "data": {
      "text/html": [
       "<div>\n",
       "<style scoped>\n",
       "    .dataframe tbody tr th:only-of-type {\n",
       "        vertical-align: middle;\n",
       "    }\n",
       "\n",
       "    .dataframe tbody tr th {\n",
       "        vertical-align: top;\n",
       "    }\n",
       "\n",
       "    .dataframe thead th {\n",
       "        text-align: right;\n",
       "    }\n",
       "</style>\n",
       "<table border=\"1\" class=\"dataframe\">\n",
       "  <thead>\n",
       "    <tr style=\"text-align: right;\">\n",
       "      <th></th>\n",
       "      <th>event_name</th>\n",
       "    </tr>\n",
       "    <tr>\n",
       "      <th>user_id</th>\n",
       "      <th></th>\n",
       "    </tr>\n",
       "  </thead>\n",
       "  <tbody>\n",
       "    <tr>\n",
       "      <th>6888746892508752</th>\n",
       "      <td>1</td>\n",
       "    </tr>\n",
       "    <tr>\n",
       "      <th>6909561520679493</th>\n",
       "      <td>5</td>\n",
       "    </tr>\n",
       "    <tr>\n",
       "      <th>6922444491712477</th>\n",
       "      <td>47</td>\n",
       "    </tr>\n",
       "    <tr>\n",
       "      <th>7435777799948366</th>\n",
       "      <td>6</td>\n",
       "    </tr>\n",
       "    <tr>\n",
       "      <th>7702139951469979</th>\n",
       "      <td>137</td>\n",
       "    </tr>\n",
       "  </tbody>\n",
       "</table>\n",
       "</div>"
      ],
      "text/plain": [
       "                  event_name\n",
       "user_id                     \n",
       "6888746892508752           1\n",
       "6909561520679493           5\n",
       "6922444491712477          47\n",
       "7435777799948366           6\n",
       "7702139951469979         137"
      ]
     },
     "metadata": {},
     "output_type": "display_data"
    },
    {
     "data": {
      "text/html": [
       "<div>\n",
       "<style scoped>\n",
       "    .dataframe tbody tr th:only-of-type {\n",
       "        vertical-align: middle;\n",
       "    }\n",
       "\n",
       "    .dataframe tbody tr th {\n",
       "        vertical-align: top;\n",
       "    }\n",
       "\n",
       "    .dataframe thead th {\n",
       "        text-align: right;\n",
       "    }\n",
       "</style>\n",
       "<table border=\"1\" class=\"dataframe\">\n",
       "  <thead>\n",
       "    <tr style=\"text-align: right;\">\n",
       "      <th></th>\n",
       "      <th>event_name</th>\n",
       "    </tr>\n",
       "  </thead>\n",
       "  <tbody>\n",
       "    <tr>\n",
       "      <th>count</th>\n",
       "      <td>7551.000000</td>\n",
       "    </tr>\n",
       "    <tr>\n",
       "      <th>mean</th>\n",
       "      <td>32.275593</td>\n",
       "    </tr>\n",
       "    <tr>\n",
       "      <th>std</th>\n",
       "      <td>65.154219</td>\n",
       "    </tr>\n",
       "    <tr>\n",
       "      <th>min</th>\n",
       "      <td>1.000000</td>\n",
       "    </tr>\n",
       "    <tr>\n",
       "      <th>25%</th>\n",
       "      <td>9.000000</td>\n",
       "    </tr>\n",
       "    <tr>\n",
       "      <th>50%</th>\n",
       "      <td>20.000000</td>\n",
       "    </tr>\n",
       "    <tr>\n",
       "      <th>75%</th>\n",
       "      <td>37.000000</td>\n",
       "    </tr>\n",
       "    <tr>\n",
       "      <th>max</th>\n",
       "      <td>2307.000000</td>\n",
       "    </tr>\n",
       "  </tbody>\n",
       "</table>\n",
       "</div>"
      ],
      "text/plain": [
       "        event_name\n",
       "count  7551.000000\n",
       "mean     32.275593\n",
       "std      65.154219\n",
       "min       1.000000\n",
       "25%       9.000000\n",
       "50%      20.000000\n",
       "75%      37.000000\n",
       "max    2307.000000"
      ]
     },
     "execution_count": 11,
     "metadata": {},
     "output_type": "execute_result"
    }
   ],
   "source": [
    "logs_pivot = logs.pivot_table(index = 'user_id',values = 'event_name', aggfunc = 'count')\n",
    "display(logs_pivot.head())\n",
    "logs_pivot.describe()"
   ]
  },
  {
   "cell_type": "markdown",
   "metadata": {},
   "source": [
    "Из данных тоже видно, что среднее число событий на пользователя = 32, но при этом 75% пользователей совершают 37 событий"
   ]
  },
  {
   "cell_type": "code",
   "execution_count": 12,
   "metadata": {
    "scrolled": true
   },
   "outputs": [
    {
     "data": {
      "text/html": [
       "<div>\n",
       "<style scoped>\n",
       "    .dataframe tbody tr th:only-of-type {\n",
       "        vertical-align: middle;\n",
       "    }\n",
       "\n",
       "    .dataframe tbody tr th {\n",
       "        vertical-align: top;\n",
       "    }\n",
       "\n",
       "    .dataframe thead th {\n",
       "        text-align: right;\n",
       "    }\n",
       "</style>\n",
       "<table border=\"1\" class=\"dataframe\">\n",
       "  <thead>\n",
       "    <tr style=\"text-align: right;\">\n",
       "      <th></th>\n",
       "      <th>event_name</th>\n",
       "    </tr>\n",
       "    <tr>\n",
       "      <th>user_id</th>\n",
       "      <th></th>\n",
       "    </tr>\n",
       "  </thead>\n",
       "  <tbody>\n",
       "    <tr>\n",
       "      <th>6888746892508752</th>\n",
       "      <td>1</td>\n",
       "    </tr>\n",
       "    <tr>\n",
       "      <th>4033444713489412517</th>\n",
       "      <td>1</td>\n",
       "    </tr>\n",
       "    <tr>\n",
       "      <th>7962370797737085275</th>\n",
       "      <td>1</td>\n",
       "    </tr>\n",
       "    <tr>\n",
       "      <th>636273053050387468</th>\n",
       "      <td>1</td>\n",
       "    </tr>\n",
       "    <tr>\n",
       "      <th>1918918598819548986</th>\n",
       "      <td>1</td>\n",
       "    </tr>\n",
       "    <tr>\n",
       "      <th>...</th>\n",
       "      <td>...</td>\n",
       "    </tr>\n",
       "    <tr>\n",
       "      <th>1754140665440434215</th>\n",
       "      <td>1221</td>\n",
       "    </tr>\n",
       "    <tr>\n",
       "      <th>6932517045703054087</th>\n",
       "      <td>1439</td>\n",
       "    </tr>\n",
       "    <tr>\n",
       "      <th>4623191541214045580</th>\n",
       "      <td>1768</td>\n",
       "    </tr>\n",
       "    <tr>\n",
       "      <th>197027893265565660</th>\n",
       "      <td>1998</td>\n",
       "    </tr>\n",
       "    <tr>\n",
       "      <th>6304868067479728361</th>\n",
       "      <td>2307</td>\n",
       "    </tr>\n",
       "  </tbody>\n",
       "</table>\n",
       "<p>7551 rows × 1 columns</p>\n",
       "</div>"
      ],
      "text/plain": [
       "                     event_name\n",
       "user_id                        \n",
       "6888746892508752              1\n",
       "4033444713489412517           1\n",
       "7962370797737085275           1\n",
       "636273053050387468            1\n",
       "1918918598819548986           1\n",
       "...                         ...\n",
       "1754140665440434215        1221\n",
       "6932517045703054087        1439\n",
       "4623191541214045580        1768\n",
       "197027893265565660         1998\n",
       "6304868067479728361        2307\n",
       "\n",
       "[7551 rows x 1 columns]"
      ]
     },
     "execution_count": 12,
     "metadata": {},
     "output_type": "execute_result"
    }
   ],
   "source": [
    "logs.groupby('user_id').agg({'event_name':'count'}).sort_values(by = 'event_name')"
   ]
  },
  {
   "cell_type": "markdown",
   "metadata": {},
   "source": [
    "Посмотри, данными за какой период мы располагаем"
   ]
  },
  {
   "cell_type": "code",
   "execution_count": 13,
   "metadata": {},
   "outputs": [
    {
     "name": "stdout",
     "output_type": "stream",
     "text": [
      "Данные за период с 2019-07-25 по 2019-08-07\n"
     ]
    }
   ],
   "source": [
    "print('Данные за период с', logs['event_date'].min(), 'по', logs['event_date'].max())"
   ]
  },
  {
   "cell_type": "code",
   "execution_count": 14,
   "metadata": {},
   "outputs": [
    {
     "data": {
      "image/png": "[encoded data removed]",
      "text/plain": [
       "<Figure size 1080x360 with 1 Axes>"
      ]
     },
     "metadata": {
      "needs_background": "light"
     },
     "output_type": "display_data"
    }
   ],
   "source": [
    "# построим гистограмму и посмотрим, как со временем изменялись наши события\n",
    "logs.groupby('event_date').agg({'event_name':'count'}).plot(kind = 'bar',figsize = (15,5))\n",
    "plt.xlabel('Дата')\n",
    "plt.ylabel('Количество событий')\n",
    "plt.legend('')\n",
    "plt.title('Распределение событий во времени');"
   ]
  },
  {
   "cell_type": "markdown",
   "metadata": {},
   "source": [
    "Мы видим, что у нас до 01.08.2019 событий практически не было.Поэтому правильнее будет рассматривать данные начиная с 01.08.2019 по 07.08.2019."
   ]
  },
  {
   "cell_type": "code",
   "execution_count": 15,
   "metadata": {
    "scrolled": true
   },
   "outputs": [
    {
     "name": "stdout",
     "output_type": "stream",
     "text": [
      "Количество событий по полным данным - 243713\n",
      "Количество событий после удаления - 240887\n",
      "Удалено - 2826 событий, что составляет 1.16 %\n",
      "\n",
      "Количество пользователей по полным данным - 7551\n",
      "Количество пользователей после удаления - 7534\n",
      "Удалено - 17 пользователей, что составляет 0.23 %\n"
     ]
    },
    {
     "data": {
      "text/html": [
       "<div>\n",
       "<style scoped>\n",
       "    .dataframe tbody tr th:only-of-type {\n",
       "        vertical-align: middle;\n",
       "    }\n",
       "\n",
       "    .dataframe tbody tr th {\n",
       "        vertical-align: top;\n",
       "    }\n",
       "\n",
       "    .dataframe thead th {\n",
       "        text-align: right;\n",
       "    }\n",
       "</style>\n",
       "<table border=\"1\" class=\"dataframe\">\n",
       "  <thead>\n",
       "    <tr style=\"text-align: right;\">\n",
       "      <th></th>\n",
       "      <th>event_name</th>\n",
       "      <th>user_id</th>\n",
       "      <th>event_timestamp</th>\n",
       "      <th>exp_id</th>\n",
       "      <th>event_time</th>\n",
       "      <th>event_date</th>\n",
       "    </tr>\n",
       "  </thead>\n",
       "  <tbody>\n",
       "    <tr>\n",
       "      <th>2828</th>\n",
       "      <td>Tutorial</td>\n",
       "      <td>3737462046622621720</td>\n",
       "      <td>1564618048</td>\n",
       "      <td>246</td>\n",
       "      <td>2019-08-01 00:07:28</td>\n",
       "      <td>2019-08-01</td>\n",
       "    </tr>\n",
       "    <tr>\n",
       "      <th>2829</th>\n",
       "      <td>MainScreenAppear</td>\n",
       "      <td>3737462046622621720</td>\n",
       "      <td>1564618080</td>\n",
       "      <td>246</td>\n",
       "      <td>2019-08-01 00:08:00</td>\n",
       "      <td>2019-08-01</td>\n",
       "    </tr>\n",
       "    <tr>\n",
       "      <th>2830</th>\n",
       "      <td>MainScreenAppear</td>\n",
       "      <td>3737462046622621720</td>\n",
       "      <td>1564618135</td>\n",
       "      <td>246</td>\n",
       "      <td>2019-08-01 00:08:55</td>\n",
       "      <td>2019-08-01</td>\n",
       "    </tr>\n",
       "    <tr>\n",
       "      <th>2831</th>\n",
       "      <td>OffersScreenAppear</td>\n",
       "      <td>3737462046622621720</td>\n",
       "      <td>1564618138</td>\n",
       "      <td>246</td>\n",
       "      <td>2019-08-01 00:08:58</td>\n",
       "      <td>2019-08-01</td>\n",
       "    </tr>\n",
       "    <tr>\n",
       "      <th>2832</th>\n",
       "      <td>MainScreenAppear</td>\n",
       "      <td>1433840883824088890</td>\n",
       "      <td>1564618139</td>\n",
       "      <td>247</td>\n",
       "      <td>2019-08-01 00:08:59</td>\n",
       "      <td>2019-08-01</td>\n",
       "    </tr>\n",
       "  </tbody>\n",
       "</table>\n",
       "</div>"
      ],
      "text/plain": [
       "              event_name              user_id  event_timestamp  exp_id  \\\n",
       "2828            Tutorial  3737462046622621720       1564618048     246   \n",
       "2829    MainScreenAppear  3737462046622621720       1564618080     246   \n",
       "2830    MainScreenAppear  3737462046622621720       1564618135     246   \n",
       "2831  OffersScreenAppear  3737462046622621720       1564618138     246   \n",
       "2832    MainScreenAppear  1433840883824088890       1564618139     247   \n",
       "\n",
       "              event_time  event_date  \n",
       "2828 2019-08-01 00:07:28  2019-08-01  \n",
       "2829 2019-08-01 00:08:00  2019-08-01  \n",
       "2830 2019-08-01 00:08:55  2019-08-01  \n",
       "2831 2019-08-01 00:08:58  2019-08-01  \n",
       "2832 2019-08-01 00:08:59  2019-08-01  "
      ]
     },
     "execution_count": 15,
     "metadata": {},
     "output_type": "execute_result"
    }
   ],
   "source": [
    "# Запишем в переменные значения событий и пользователей по полным данным\n",
    "event = logs.shape[0]\n",
    "users = logs['user_id'].nunique()\n",
    "\n",
    "logs = logs.query('event_date >= datetime(2019,8,1).date()')\n",
    "\n",
    "\n",
    "print('Количество событий по полным данным -',event)\n",
    "print('Количество событий после удаления -',logs.shape[0])\n",
    "print('Удалено -',event-logs.shape[0], 'событий, что составляет',round(((1-(logs.shape[0]/event)) *100),2), '%')\n",
    "\n",
    "print('\\nКоличество пользователей по полным данным -',users)\n",
    "print('Количество пользователей после удаления -',logs['user_id'].nunique())\n",
    "print('Удалено -',users-logs['user_id'].nunique(), 'пользователей, что составляет',round(((1-(logs['user_id'].nunique()/users)) *100),2), '%')\n",
    "\n",
    "logs.head()"
   ]
  },
  {
   "cell_type": "code",
   "execution_count": 16,
   "metadata": {},
   "outputs": [
    {
     "data": {
      "text/html": [
       "<div>\n",
       "<style scoped>\n",
       "    .dataframe tbody tr th:only-of-type {\n",
       "        vertical-align: middle;\n",
       "    }\n",
       "\n",
       "    .dataframe tbody tr th {\n",
       "        vertical-align: top;\n",
       "    }\n",
       "\n",
       "    .dataframe thead th {\n",
       "        text-align: right;\n",
       "    }\n",
       "</style>\n",
       "<table border=\"1\" class=\"dataframe\">\n",
       "  <thead>\n",
       "    <tr style=\"text-align: right;\">\n",
       "      <th></th>\n",
       "      <th>user_id</th>\n",
       "    </tr>\n",
       "    <tr>\n",
       "      <th>exp_id</th>\n",
       "      <th></th>\n",
       "    </tr>\n",
       "  </thead>\n",
       "  <tbody>\n",
       "    <tr>\n",
       "      <th>246</th>\n",
       "      <td>2484</td>\n",
       "    </tr>\n",
       "    <tr>\n",
       "      <th>247</th>\n",
       "      <td>2513</td>\n",
       "    </tr>\n",
       "    <tr>\n",
       "      <th>248</th>\n",
       "      <td>2537</td>\n",
       "    </tr>\n",
       "  </tbody>\n",
       "</table>\n",
       "</div>"
      ],
      "text/plain": [
       "        user_id\n",
       "exp_id         \n",
       "246        2484\n",
       "247        2513\n",
       "248        2537"
      ]
     },
     "execution_count": 16,
     "metadata": {},
     "output_type": "execute_result"
    }
   ],
   "source": [
    "# посмотрим, чтоб в каждой группе были пользователи\n",
    "logs.groupby('exp_id').agg({'user_id':'nunique'})"
   ]
  },
  {
   "cell_type": "markdown",
   "metadata": {},
   "source": [
    "**Выводы**   \n",
    "В каждой группе есть пользователи и на первый взгляд они распределены равномерно. Нет большого перекоса по численности в группах.   \n",
    "В среднем на одного пользователя приходится - 32 события.   \n",
    "Полноценно тест начался с 01.08.2019 по 07.08.2019. После удаления данных до 01.08.2019 было удалено 2826 событий, что составляет 1.16 % и удалено 17 пользователей, что составляет 0.23 %. Это не сильно большой процент от общего числа, поэтому можно считать, что результаты эксперимента не исказятся."
   ]
  },
  {
   "cell_type": "markdown",
   "metadata": {},
   "source": [
    "### Воронка событий"
   ]
  },
  {
   "cell_type": "code",
   "execution_count": 17,
   "metadata": {},
   "outputs": [
    {
     "data": {
      "text/plain": [
       "MainScreenAppear           117328\n",
       "OffersScreenAppear          46333\n",
       "CartScreenAppear            42303\n",
       "PaymentScreenSuccessful     33918\n",
       "Tutorial                     1005\n",
       "Name: event_name, dtype: int64"
      ]
     },
     "execution_count": 17,
     "metadata": {},
     "output_type": "execute_result"
    }
   ],
   "source": [
    "# посмотрим, какие события есть в логах\n",
    "logs['event_name'].value_counts()"
   ]
  },
  {
   "cell_type": "markdown",
   "metadata": {},
   "source": [
    "MainScreenAppear(переход на главную страницу)             \n",
    "OffersScreenAppear (переход по ссылке на товар)          \n",
    "CartScreenAppear (добавление товара в корзину)           \n",
    "PaymentScreenSuccessful (оплата товара)                  \n",
    "Tutorial (руководство по работе с сайтом)              "
   ]
  },
  {
   "cell_type": "markdown",
   "metadata": {},
   "source": [
    "Посмотрим, сколько пользователей совершали каждое из этих событий. Отсортируем события по числу пользователей. Посчитаем долю пользователей, которые хоть раз совершали событие."
   ]
  },
  {
   "cell_type": "code",
   "execution_count": 18,
   "metadata": {
    "scrolled": true
   },
   "outputs": [
    {
     "name": "stdout",
     "output_type": "stream",
     "text": [
      "Количество уникальных пользователей - 7534\n"
     ]
    },
    {
     "data": {
      "text/html": [
       "<style  type=\"text/css\" >\n",
       "</style><table id=\"T_7b36d_\" ><thead>    <tr>        <th class=\"blank level0\" ></th>        <th class=\"col_heading level0 col0\" >event_name</th>        <th class=\"col_heading level0 col1\" >user_id</th>        <th class=\"col_heading level0 col2\" >%</th>    </tr></thead><tbody>\n",
       "                <tr>\n",
       "                        <th id=\"T_7b36d_level0_row0\" class=\"row_heading level0 row0\" >0</th>\n",
       "                        <td id=\"T_7b36d_row0_col0\" class=\"data row0 col0\" >MainScreenAppear</td>\n",
       "                        <td id=\"T_7b36d_row0_col1\" class=\"data row0 col1\" >7419</td>\n",
       "                        <td id=\"T_7b36d_row0_col2\" class=\"data row0 col2\" >98.47</td>\n",
       "            </tr>\n",
       "            <tr>\n",
       "                        <th id=\"T_7b36d_level0_row1\" class=\"row_heading level0 row1\" >1</th>\n",
       "                        <td id=\"T_7b36d_row1_col0\" class=\"data row1 col0\" >OffersScreenAppear</td>\n",
       "                        <td id=\"T_7b36d_row1_col1\" class=\"data row1 col1\" >4593</td>\n",
       "                        <td id=\"T_7b36d_row1_col2\" class=\"data row1 col2\" >60.96</td>\n",
       "            </tr>\n",
       "            <tr>\n",
       "                        <th id=\"T_7b36d_level0_row2\" class=\"row_heading level0 row2\" >2</th>\n",
       "                        <td id=\"T_7b36d_row2_col0\" class=\"data row2 col0\" >CartScreenAppear</td>\n",
       "                        <td id=\"T_7b36d_row2_col1\" class=\"data row2 col1\" >3734</td>\n",
       "                        <td id=\"T_7b36d_row2_col2\" class=\"data row2 col2\" >49.56</td>\n",
       "            </tr>\n",
       "            <tr>\n",
       "                        <th id=\"T_7b36d_level0_row3\" class=\"row_heading level0 row3\" >3</th>\n",
       "                        <td id=\"T_7b36d_row3_col0\" class=\"data row3 col0\" >PaymentScreenSuccessful</td>\n",
       "                        <td id=\"T_7b36d_row3_col1\" class=\"data row3 col1\" >3539</td>\n",
       "                        <td id=\"T_7b36d_row3_col2\" class=\"data row3 col2\" >46.97</td>\n",
       "            </tr>\n",
       "            <tr>\n",
       "                        <th id=\"T_7b36d_level0_row4\" class=\"row_heading level0 row4\" >4</th>\n",
       "                        <td id=\"T_7b36d_row4_col0\" class=\"data row4 col0\" >Tutorial</td>\n",
       "                        <td id=\"T_7b36d_row4_col1\" class=\"data row4 col1\" >840</td>\n",
       "                        <td id=\"T_7b36d_row4_col2\" class=\"data row4 col2\" >11.15</td>\n",
       "            </tr>\n",
       "    </tbody></table>"
      ],
      "text/plain": [
       "<pandas.io.formats.style.Styler at 0x7f4866d16d60>"
      ]
     },
     "execution_count": 18,
     "metadata": {},
     "output_type": "execute_result"
    }
   ],
   "source": [
    "\n",
    "logs_event = logs.groupby('event_name').agg({'user_id':'nunique'}).sort_values(by = 'user_id',ascending = False).reset_index()\n",
    "print('Количество уникальных пользователей -', logs['user_id'].nunique())\n",
    "logs_event['%'] = (logs_event['user_id']/logs['user_id'].nunique() *100)\n",
    "\n",
    "logs_event.style.format({'%':'{:.2f}'})\n"
   ]
  },
  {
   "cell_type": "markdown",
   "metadata": {},
   "source": [
    "По воронке событий посчитаем, какая доля пользователей проходит на следующий шаг воронки (от числа пользователей на предыдущем)"
   ]
  },
  {
   "cell_type": "code",
   "execution_count": 19,
   "metadata": {},
   "outputs": [],
   "source": [
    "# Удалим из событий Tutorial, т.к. это событие не является бизнесс-процессом\n",
    "logs_event = logs_event.query('event_name != \"Tutorial\"')"
   ]
  },
  {
   "cell_type": "code",
   "execution_count": 20,
   "metadata": {},
   "outputs": [
    {
     "name": "stderr",
     "output_type": "stream",
     "text": [
      "/tmp/ipykernel_347/3343932148.py:1: SettingWithCopyWarning: \n",
      "A value is trying to be set on a copy of a slice from a DataFrame.\n",
      "Try using .loc[row_indexer,col_indexer] = value instead\n",
      "\n",
      "See the caveats in the documentation: https://pandas.pydata.org/pandas-docs/stable/user_guide/indexing.html#returning-a-view-versus-a-copy\n",
      "  logs_event['conv'] = logs_event['user_id']/logs_event['user_id'].values[0]\n",
      "/tmp/ipykernel_347/3343932148.py:2: SettingWithCopyWarning: \n",
      "A value is trying to be set on a copy of a slice from a DataFrame.\n",
      "Try using .loc[row_indexer,col_indexer] = value instead\n",
      "\n",
      "See the caveats in the documentation: https://pandas.pydata.org/pandas-docs/stable/user_guide/indexing.html#returning-a-view-versus-a-copy\n",
      "  logs_event['prev_step'] = logs_event['user_id'].shift()\n",
      "/tmp/ipykernel_347/3343932148.py:3: SettingWithCopyWarning: \n",
      "A value is trying to be set on a copy of a slice from a DataFrame.\n",
      "Try using .loc[row_indexer,col_indexer] = value instead\n",
      "\n",
      "See the caveats in the documentation: https://pandas.pydata.org/pandas-docs/stable/user_guide/indexing.html#returning-a-view-versus-a-copy\n",
      "  logs_event['sten_conv'] = logs_event['user_id']/logs_event['prev_step']\n"
     ]
    },
    {
     "data": {
      "text/html": [
       "<div>\n",
       "<style scoped>\n",
       "    .dataframe tbody tr th:only-of-type {\n",
       "        vertical-align: middle;\n",
       "    }\n",
       "\n",
       "    .dataframe tbody tr th {\n",
       "        vertical-align: top;\n",
       "    }\n",
       "\n",
       "    .dataframe thead th {\n",
       "        text-align: right;\n",
       "    }\n",
       "</style>\n",
       "<table border=\"1\" class=\"dataframe\">\n",
       "  <thead>\n",
       "    <tr style=\"text-align: right;\">\n",
       "      <th></th>\n",
       "      <th>event_name</th>\n",
       "      <th>user_id</th>\n",
       "      <th>%</th>\n",
       "      <th>conv</th>\n",
       "      <th>prev_step</th>\n",
       "      <th>sten_conv</th>\n",
       "    </tr>\n",
       "  </thead>\n",
       "  <tbody>\n",
       "    <tr>\n",
       "      <th>0</th>\n",
       "      <td>MainScreenAppear</td>\n",
       "      <td>7419</td>\n",
       "      <td>98.473586</td>\n",
       "      <td>1.000000</td>\n",
       "      <td>NaN</td>\n",
       "      <td>NaN</td>\n",
       "    </tr>\n",
       "    <tr>\n",
       "      <th>1</th>\n",
       "      <td>OffersScreenAppear</td>\n",
       "      <td>4593</td>\n",
       "      <td>60.963632</td>\n",
       "      <td>0.619086</td>\n",
       "      <td>7419.0</td>\n",
       "      <td>0.619086</td>\n",
       "    </tr>\n",
       "    <tr>\n",
       "      <th>2</th>\n",
       "      <td>CartScreenAppear</td>\n",
       "      <td>3734</td>\n",
       "      <td>49.561986</td>\n",
       "      <td>0.503302</td>\n",
       "      <td>4593.0</td>\n",
       "      <td>0.812976</td>\n",
       "    </tr>\n",
       "    <tr>\n",
       "      <th>3</th>\n",
       "      <td>PaymentScreenSuccessful</td>\n",
       "      <td>3539</td>\n",
       "      <td>46.973719</td>\n",
       "      <td>0.477018</td>\n",
       "      <td>3734.0</td>\n",
       "      <td>0.947777</td>\n",
       "    </tr>\n",
       "  </tbody>\n",
       "</table>\n",
       "</div>"
      ],
      "text/plain": [
       "                event_name  user_id          %      conv  prev_step  sten_conv\n",
       "0         MainScreenAppear     7419  98.473586  1.000000        NaN        NaN\n",
       "1       OffersScreenAppear     4593  60.963632  0.619086     7419.0   0.619086\n",
       "2         CartScreenAppear     3734  49.561986  0.503302     4593.0   0.812976\n",
       "3  PaymentScreenSuccessful     3539  46.973719  0.477018     3734.0   0.947777"
      ]
     },
     "metadata": {},
     "output_type": "display_data"
    },
    {
     "data": {
      "image/png": "[encoded data removed]",
      "text/plain": [
       "<Figure size 432x288 with 1 Axes>"
      ]
     },
     "metadata": {
      "needs_background": "light"
     },
     "output_type": "display_data"
    }
   ],
   "source": [
    "\n",
    "logs_event['conv'] = logs_event['user_id']/logs_event['user_id'].values[0]\n",
    "logs_event['prev_step'] = logs_event['user_id'].shift()\n",
    "logs_event['sten_conv'] = logs_event['user_id']/logs_event['prev_step']\n",
    "\n",
    "display(logs_event)\n",
    "\n",
    "# построим гистограмму конверсии\n",
    "logs_event[['event_name','conv']].set_index('event_name').plot(kind = 'barh',stacked = True, grid = True)\n",
    "plt.title('Конверсия')\n",
    "plt.xlabel('')\n",
    "plt.ylabel('');\n"
   ]
  },
  {
   "cell_type": "markdown",
   "metadata": {},
   "source": [
    "Самые большие потери при переходе на второй шаг (40% потерь) - когда пользователь переходит по ссылке на товар. До оплаты товара доходит лишь 48% пользователей.   \n",
    "Полагаю, что 40% потери пользоватлей на первом шаге - это большой процент. Возможно это связано с тем, что пользователь тратит много времени, чтоб найти необходимый товар. Необходимо посмотреть, как можно изменить интерфейс или функционал поиска товара, чтоб пользоватлею было удобнее осуществлять поиск нужного товара. Возможно необходимо расширить критерии поиска и у каждого товара сделать дополнительные критерии для более удобного и быстрого поиска. На остальных этапах покупки товара процент тех, кто не дошел до покупки приемлемый. \n"
   ]
  },
  {
   "cell_type": "markdown",
   "metadata": {},
   "source": [
    "## Результаты эксперимента"
   ]
  },
  {
   "cell_type": "code",
   "execution_count": 21,
   "metadata": {},
   "outputs": [
    {
     "data": {
      "text/html": [
       "<div>\n",
       "<style scoped>\n",
       "    .dataframe tbody tr th:only-of-type {\n",
       "        vertical-align: middle;\n",
       "    }\n",
       "\n",
       "    .dataframe tbody tr th {\n",
       "        vertical-align: top;\n",
       "    }\n",
       "\n",
       "    .dataframe thead th {\n",
       "        text-align: right;\n",
       "    }\n",
       "</style>\n",
       "<table border=\"1\" class=\"dataframe\">\n",
       "  <thead>\n",
       "    <tr style=\"text-align: right;\">\n",
       "      <th></th>\n",
       "      <th>event_name</th>\n",
       "      <th>user_id</th>\n",
       "      <th>event_timestamp</th>\n",
       "      <th>exp_id</th>\n",
       "      <th>event_time</th>\n",
       "      <th>event_date</th>\n",
       "    </tr>\n",
       "  </thead>\n",
       "  <tbody>\n",
       "    <tr>\n",
       "      <th>2828</th>\n",
       "      <td>Tutorial</td>\n",
       "      <td>3737462046622621720</td>\n",
       "      <td>1564618048</td>\n",
       "      <td>246</td>\n",
       "      <td>2019-08-01 00:07:28</td>\n",
       "      <td>2019-08-01</td>\n",
       "    </tr>\n",
       "    <tr>\n",
       "      <th>2829</th>\n",
       "      <td>MainScreenAppear</td>\n",
       "      <td>3737462046622621720</td>\n",
       "      <td>1564618080</td>\n",
       "      <td>246</td>\n",
       "      <td>2019-08-01 00:08:00</td>\n",
       "      <td>2019-08-01</td>\n",
       "    </tr>\n",
       "    <tr>\n",
       "      <th>2830</th>\n",
       "      <td>MainScreenAppear</td>\n",
       "      <td>3737462046622621720</td>\n",
       "      <td>1564618135</td>\n",
       "      <td>246</td>\n",
       "      <td>2019-08-01 00:08:55</td>\n",
       "      <td>2019-08-01</td>\n",
       "    </tr>\n",
       "    <tr>\n",
       "      <th>2831</th>\n",
       "      <td>OffersScreenAppear</td>\n",
       "      <td>3737462046622621720</td>\n",
       "      <td>1564618138</td>\n",
       "      <td>246</td>\n",
       "      <td>2019-08-01 00:08:58</td>\n",
       "      <td>2019-08-01</td>\n",
       "    </tr>\n",
       "    <tr>\n",
       "      <th>2832</th>\n",
       "      <td>MainScreenAppear</td>\n",
       "      <td>1433840883824088890</td>\n",
       "      <td>1564618139</td>\n",
       "      <td>247</td>\n",
       "      <td>2019-08-01 00:08:59</td>\n",
       "      <td>2019-08-01</td>\n",
       "    </tr>\n",
       "  </tbody>\n",
       "</table>\n",
       "</div>"
      ],
      "text/plain": [
       "              event_name              user_id  event_timestamp  exp_id  \\\n",
       "2828            Tutorial  3737462046622621720       1564618048     246   \n",
       "2829    MainScreenAppear  3737462046622621720       1564618080     246   \n",
       "2830    MainScreenAppear  3737462046622621720       1564618135     246   \n",
       "2831  OffersScreenAppear  3737462046622621720       1564618138     246   \n",
       "2832    MainScreenAppear  1433840883824088890       1564618139     247   \n",
       "\n",
       "              event_time  event_date  \n",
       "2828 2019-08-01 00:07:28  2019-08-01  \n",
       "2829 2019-08-01 00:08:00  2019-08-01  \n",
       "2830 2019-08-01 00:08:55  2019-08-01  \n",
       "2831 2019-08-01 00:08:58  2019-08-01  \n",
       "2832 2019-08-01 00:08:59  2019-08-01  "
      ]
     },
     "execution_count": 21,
     "metadata": {},
     "output_type": "execute_result"
    }
   ],
   "source": [
    "logs.head()"
   ]
  },
  {
   "cell_type": "markdown",
   "metadata": {},
   "source": [
    "Есть 2 контрольные группы для А/А-эксперимента (246 и 247), чтобы проверить корректность всех механизмов и расчётов. Проверим, находят ли статистические критерии разницу между выборками 246 и 247."
   ]
  },
  {
   "cell_type": "code",
   "execution_count": 22,
   "metadata": {},
   "outputs": [
    {
     "name": "stdout",
     "output_type": "stream",
     "text": [
      "Количество пользоватлей в группах 246 и 247 различается на 1.15 %\n"
     ]
    }
   ],
   "source": [
    "logs_246 = logs.query('exp_id == 246')\n",
    "logs_247 = logs.query('exp_id == 247')\n",
    "logs_248 = logs.query('exp_id == 248')\n",
    "\n",
    "gr_246 = logs_246['user_id'].nunique()\n",
    "gr_247 = logs_247['user_id'].nunique()\n",
    "gr_248 = logs_248['user_id'].nunique()\n",
    "\n",
    "print('Количество пользоватлей в группах 246 и 247 различается на', round(100 - (gr_246/gr_247*100),2),'%' )\n"
   ]
  },
  {
   "cell_type": "code",
   "execution_count": 23,
   "metadata": {},
   "outputs": [
    {
     "data": {
      "text/plain": [
       "(0, 0)"
      ]
     },
     "execution_count": 23,
     "metadata": {},
     "output_type": "execute_result"
    }
   ],
   "source": [
    "# посмотрим,есть ли пересечение в группах по пользователям\n",
    "len(np.intersect1d(gr_246,gr_247)),len(np.intersect1d(gr_246,gr_248))"
   ]
  },
  {
   "cell_type": "code",
   "execution_count": 24,
   "metadata": {},
   "outputs": [
    {
     "data": {
      "text/html": [
       "<div>\n",
       "<style scoped>\n",
       "    .dataframe tbody tr th:only-of-type {\n",
       "        vertical-align: middle;\n",
       "    }\n",
       "\n",
       "    .dataframe tbody tr th {\n",
       "        vertical-align: top;\n",
       "    }\n",
       "\n",
       "    .dataframe thead th {\n",
       "        text-align: right;\n",
       "    }\n",
       "</style>\n",
       "<table border=\"1\" class=\"dataframe\">\n",
       "  <thead>\n",
       "    <tr style=\"text-align: right;\">\n",
       "      <th></th>\n",
       "      <th>user_id</th>\n",
       "    </tr>\n",
       "    <tr>\n",
       "      <th>exp_id</th>\n",
       "      <th></th>\n",
       "    </tr>\n",
       "  </thead>\n",
       "  <tbody>\n",
       "    <tr>\n",
       "      <th>246</th>\n",
       "      <td>2484</td>\n",
       "    </tr>\n",
       "    <tr>\n",
       "      <th>247</th>\n",
       "      <td>2513</td>\n",
       "    </tr>\n",
       "    <tr>\n",
       "      <th>248</th>\n",
       "      <td>2537</td>\n",
       "    </tr>\n",
       "  </tbody>\n",
       "</table>\n",
       "</div>"
      ],
      "text/plain": [
       "        user_id\n",
       "exp_id         \n",
       "246        2484\n",
       "247        2513\n",
       "248        2537"
      ]
     },
     "execution_count": 24,
     "metadata": {},
     "output_type": "execute_result"
    }
   ],
   "source": [
    "# сколько пользователей в каждой эксперементальной группе\n",
    "trials = logs.groupby('exp_id').agg({'user_id':'nunique'})\n",
    "trials\n"
   ]
  },
  {
   "cell_type": "code",
   "execution_count": 25,
   "metadata": {
    "scrolled": true
   },
   "outputs": [
    {
     "data": {
      "text/html": [
       "<div>\n",
       "<style scoped>\n",
       "    .dataframe tbody tr th:only-of-type {\n",
       "        vertical-align: middle;\n",
       "    }\n",
       "\n",
       "    .dataframe tbody tr th {\n",
       "        vertical-align: top;\n",
       "    }\n",
       "\n",
       "    .dataframe thead th {\n",
       "        text-align: right;\n",
       "    }\n",
       "</style>\n",
       "<table border=\"1\" class=\"dataframe\">\n",
       "  <thead>\n",
       "    <tr style=\"text-align: right;\">\n",
       "      <th>exp_id</th>\n",
       "      <th>246</th>\n",
       "      <th>247</th>\n",
       "      <th>248</th>\n",
       "    </tr>\n",
       "    <tr>\n",
       "      <th>event_name</th>\n",
       "      <th></th>\n",
       "      <th></th>\n",
       "      <th></th>\n",
       "    </tr>\n",
       "  </thead>\n",
       "  <tbody>\n",
       "    <tr>\n",
       "      <th>MainScreenAppear</th>\n",
       "      <td>2450</td>\n",
       "      <td>2476</td>\n",
       "      <td>2493</td>\n",
       "    </tr>\n",
       "    <tr>\n",
       "      <th>OffersScreenAppear</th>\n",
       "      <td>1542</td>\n",
       "      <td>1520</td>\n",
       "      <td>1531</td>\n",
       "    </tr>\n",
       "    <tr>\n",
       "      <th>CartScreenAppear</th>\n",
       "      <td>1266</td>\n",
       "      <td>1238</td>\n",
       "      <td>1230</td>\n",
       "    </tr>\n",
       "    <tr>\n",
       "      <th>PaymentScreenSuccessful</th>\n",
       "      <td>1200</td>\n",
       "      <td>1158</td>\n",
       "      <td>1181</td>\n",
       "    </tr>\n",
       "    <tr>\n",
       "      <th>Tutorial</th>\n",
       "      <td>278</td>\n",
       "      <td>283</td>\n",
       "      <td>279</td>\n",
       "    </tr>\n",
       "  </tbody>\n",
       "</table>\n",
       "</div>"
      ],
      "text/plain": [
       "exp_id                    246   247   248\n",
       "event_name                               \n",
       "MainScreenAppear         2450  2476  2493\n",
       "OffersScreenAppear       1542  1520  1531\n",
       "CartScreenAppear         1266  1238  1230\n",
       "PaymentScreenSuccessful  1200  1158  1181\n",
       "Tutorial                  278   283   279"
      ]
     },
     "execution_count": 25,
     "metadata": {},
     "output_type": "execute_result"
    }
   ],
   "source": [
    "# построим воронку по каждому событию с разбивкой по группам\n",
    "funnel = logs.pivot_table(index = 'event_name',columns = 'exp_id',values = 'user_id',aggfunc = 'nunique').sort_values(by = 246,ascending = False)\n",
    "funnel"
   ]
  },
  {
   "cell_type": "markdown",
   "metadata": {},
   "source": [
    "Проведем А/А тестирование и высним, если ли статистическая разница между группами 246 и 247.\n",
    "    \n",
    "Гипотезы:   \n",
    "Н0 - между группами 246 и 247 нет отличий в доле пользователей совершивших событие   \n",
    "Н1 - между группами 246 и 247 есть отличия в доле пользователей совершивших событие   \n",
    "Гипотеза друхсторонняя   \n",
    "   \n",
    "Воспользуемся Z-тестом   \n",
    "Z-тест - это статистический метод позволяющий определить, являются ли два средних значения выборки примерно одинаковыми или разными, если известна их дисперсия и размер выборки большой"
   ]
  },
  {
   "cell_type": "code",
   "execution_count": 26,
   "metadata": {},
   "outputs": [],
   "source": [
    "# функция для проверки статистической значимости выборки\n",
    "#\n",
    "def check_hipothesis (successes1,successes2,trials1,trials2,event):\n",
    "    # пропорция успехов в первой группе:\n",
    "    p1 = successes1/trials1\n",
    "    \n",
    "    # пропорция успехов во второй группе:\n",
    "    p2 = successes2/trials2\n",
    "    \n",
    "    # пропорция успехов в комбинированном датасете:\n",
    "    p_combined = (successes1 + successes2) / (trials1 + trials2)\n",
    "    \n",
    "    # разница пропорций в датасетах\n",
    "    difference = p1 - p2 \n",
    "    \n",
    "    # считаем статистику в ст.отклонениях стандартного нормального распределения\n",
    "    z_value = difference / mth.sqrt(p_combined * (1 - p_combined) * (1/trials1 + 1/trials2))\n",
    "\n",
    "    # задаем стандартное нормальное распределение (среднее 0, ст.отклонение 1)\n",
    "    distr = st.norm(0, 1) \n",
    "\n",
    "    # тк.к гипотеза двусторонняя, то результат *2\n",
    "    p_value = (1 - distr.cdf(abs(z_value))) * 2\n",
    "    print('\\nПроверка для ' , event)\n",
    "    print('p-значение: ', p_value)\n",
    "\n",
    "    if p_value < alpha:\n",
    "        print('Отвергаем нулевую гипотезу: между группами есть значимая разница')\n",
    "    else:\n",
    "        print(\n",
    "            'Не получилось отвергнуть нулевую гипотезу, нет оснований считать группы разными'\n",
    "        )"
   ]
  },
  {
   "cell_type": "code",
   "execution_count": 27,
   "metadata": {},
   "outputs": [
    {
     "name": "stdout",
     "output_type": "stream",
     "text": [
      "\n",
      "Проверка групп 246 и 247\n",
      "\n",
      "\n",
      "Проверка для  MainScreenAppear\n",
      "p-значение:  0.7570597232046099\n",
      "Не получилось отвергнуть нулевую гипотезу, нет оснований считать группы разными\n",
      "\n",
      "Проверка для  OffersScreenAppear\n",
      "p-значение:  0.2480954578522181\n",
      "Не получилось отвергнуть нулевую гипотезу, нет оснований считать группы разными\n",
      "\n",
      "Проверка для  CartScreenAppear\n",
      "p-значение:  0.22883372237997213\n",
      "Не получилось отвергнуть нулевую гипотезу, нет оснований считать группы разными\n",
      "\n",
      "Проверка для  PaymentScreenSuccessful\n",
      "p-значение:  0.11456679313141849\n",
      "Не получилось отвергнуть нулевую гипотезу, нет оснований считать группы разными\n",
      "\n",
      "Проверка для  Tutorial\n",
      "p-значение:  0.9376996189257114\n",
      "Не получилось отвергнуть нулевую гипотезу, нет оснований считать группы разными\n"
     ]
    }
   ],
   "source": [
    "# критический уровень статистической значимости\n",
    "alpha = 0.0025\n",
    "\n",
    "print('\\nПроверка групп 246 и 247\\n')\n",
    "for event in funnel.index:\n",
    "    (check_hipothesis(funnel.loc[event,246],funnel.loc[event,247],\n",
    "                     trials.loc[246].values[0],trials.loc[247].values[0],event)\n",
    "    )"
   ]
  },
  {
   "cell_type": "markdown",
   "metadata": {},
   "source": [
    "**Делаем вывод, что группы 246 и 247 не имеют статистических различий**"
   ]
  },
  {
   "cell_type": "code",
   "execution_count": 28,
   "metadata": {},
   "outputs": [],
   "source": [
    "# сгруппируем данные по группам\n",
    "logs_246_gr = logs_246.groupby('event_name').agg({'user_id':'nunique'}).sort_values(by = 'user_id' ,ascending = False)\n",
    "logs_247_gr = logs_247.groupby('event_name').agg({'user_id':'nunique'}).sort_values(by = 'user_id' ,ascending = False)\n",
    "logs_248_gr = logs_248.groupby('event_name').agg({'user_id':'nunique'}).sort_values(by = 'user_id' ,ascending = False)\n"
   ]
  },
  {
   "cell_type": "code",
   "execution_count": 29,
   "metadata": {},
   "outputs": [],
   "source": [
    "# функция для расчета воронки для группы\n",
    "def conv (df,num):\n",
    "    df['conv'] = df['user_id']/df['user_id'].values[0]\n",
    "    df['prev_step'] = df['user_id'].shift()\n",
    "    df['sten_conv'] = df['user_id']/df['prev_step']\n",
    "    print('\\nВоронка для группы', num)\n",
    "    return df\n"
   ]
  },
  {
   "cell_type": "code",
   "execution_count": 30,
   "metadata": {},
   "outputs": [
    {
     "name": "stdout",
     "output_type": "stream",
     "text": [
      "\n",
      "Воронка для группы 246\n"
     ]
    },
    {
     "data": {
      "text/html": [
       "<div>\n",
       "<style scoped>\n",
       "    .dataframe tbody tr th:only-of-type {\n",
       "        vertical-align: middle;\n",
       "    }\n",
       "\n",
       "    .dataframe tbody tr th {\n",
       "        vertical-align: top;\n",
       "    }\n",
       "\n",
       "    .dataframe thead th {\n",
       "        text-align: right;\n",
       "    }\n",
       "</style>\n",
       "<table border=\"1\" class=\"dataframe\">\n",
       "  <thead>\n",
       "    <tr style=\"text-align: right;\">\n",
       "      <th></th>\n",
       "      <th>user_id</th>\n",
       "      <th>conv</th>\n",
       "      <th>prev_step</th>\n",
       "      <th>sten_conv</th>\n",
       "    </tr>\n",
       "    <tr>\n",
       "      <th>event_name</th>\n",
       "      <th></th>\n",
       "      <th></th>\n",
       "      <th></th>\n",
       "      <th></th>\n",
       "    </tr>\n",
       "  </thead>\n",
       "  <tbody>\n",
       "    <tr>\n",
       "      <th>MainScreenAppear</th>\n",
       "      <td>2450</td>\n",
       "      <td>1.000000</td>\n",
       "      <td>NaN</td>\n",
       "      <td>NaN</td>\n",
       "    </tr>\n",
       "    <tr>\n",
       "      <th>OffersScreenAppear</th>\n",
       "      <td>1542</td>\n",
       "      <td>0.629388</td>\n",
       "      <td>2450.0</td>\n",
       "      <td>0.629388</td>\n",
       "    </tr>\n",
       "    <tr>\n",
       "      <th>CartScreenAppear</th>\n",
       "      <td>1266</td>\n",
       "      <td>0.516735</td>\n",
       "      <td>1542.0</td>\n",
       "      <td>0.821012</td>\n",
       "    </tr>\n",
       "    <tr>\n",
       "      <th>PaymentScreenSuccessful</th>\n",
       "      <td>1200</td>\n",
       "      <td>0.489796</td>\n",
       "      <td>1266.0</td>\n",
       "      <td>0.947867</td>\n",
       "    </tr>\n",
       "    <tr>\n",
       "      <th>Tutorial</th>\n",
       "      <td>278</td>\n",
       "      <td>0.113469</td>\n",
       "      <td>1200.0</td>\n",
       "      <td>0.231667</td>\n",
       "    </tr>\n",
       "  </tbody>\n",
       "</table>\n",
       "</div>"
      ],
      "text/plain": [
       "                         user_id      conv  prev_step  sten_conv\n",
       "event_name                                                      \n",
       "MainScreenAppear            2450  1.000000        NaN        NaN\n",
       "OffersScreenAppear          1542  0.629388     2450.0   0.629388\n",
       "CartScreenAppear            1266  0.516735     1542.0   0.821012\n",
       "PaymentScreenSuccessful     1200  0.489796     1266.0   0.947867\n",
       "Tutorial                     278  0.113469     1200.0   0.231667"
      ]
     },
     "metadata": {},
     "output_type": "display_data"
    },
    {
     "name": "stdout",
     "output_type": "stream",
     "text": [
      "\n",
      "Воронка для группы 247\n"
     ]
    },
    {
     "data": {
      "text/html": [
       "<div>\n",
       "<style scoped>\n",
       "    .dataframe tbody tr th:only-of-type {\n",
       "        vertical-align: middle;\n",
       "    }\n",
       "\n",
       "    .dataframe tbody tr th {\n",
       "        vertical-align: top;\n",
       "    }\n",
       "\n",
       "    .dataframe thead th {\n",
       "        text-align: right;\n",
       "    }\n",
       "</style>\n",
       "<table border=\"1\" class=\"dataframe\">\n",
       "  <thead>\n",
       "    <tr style=\"text-align: right;\">\n",
       "      <th></th>\n",
       "      <th>user_id</th>\n",
       "      <th>conv</th>\n",
       "      <th>prev_step</th>\n",
       "      <th>sten_conv</th>\n",
       "    </tr>\n",
       "    <tr>\n",
       "      <th>event_name</th>\n",
       "      <th></th>\n",
       "      <th></th>\n",
       "      <th></th>\n",
       "      <th></th>\n",
       "    </tr>\n",
       "  </thead>\n",
       "  <tbody>\n",
       "    <tr>\n",
       "      <th>MainScreenAppear</th>\n",
       "      <td>2476</td>\n",
       "      <td>1.000000</td>\n",
       "      <td>NaN</td>\n",
       "      <td>NaN</td>\n",
       "    </tr>\n",
       "    <tr>\n",
       "      <th>OffersScreenAppear</th>\n",
       "      <td>1520</td>\n",
       "      <td>0.613893</td>\n",
       "      <td>2476.0</td>\n",
       "      <td>0.613893</td>\n",
       "    </tr>\n",
       "    <tr>\n",
       "      <th>CartScreenAppear</th>\n",
       "      <td>1238</td>\n",
       "      <td>0.500000</td>\n",
       "      <td>1520.0</td>\n",
       "      <td>0.814474</td>\n",
       "    </tr>\n",
       "    <tr>\n",
       "      <th>PaymentScreenSuccessful</th>\n",
       "      <td>1158</td>\n",
       "      <td>0.467690</td>\n",
       "      <td>1238.0</td>\n",
       "      <td>0.935380</td>\n",
       "    </tr>\n",
       "    <tr>\n",
       "      <th>Tutorial</th>\n",
       "      <td>283</td>\n",
       "      <td>0.114297</td>\n",
       "      <td>1158.0</td>\n",
       "      <td>0.244387</td>\n",
       "    </tr>\n",
       "  </tbody>\n",
       "</table>\n",
       "</div>"
      ],
      "text/plain": [
       "                         user_id      conv  prev_step  sten_conv\n",
       "event_name                                                      \n",
       "MainScreenAppear            2476  1.000000        NaN        NaN\n",
       "OffersScreenAppear          1520  0.613893     2476.0   0.613893\n",
       "CartScreenAppear            1238  0.500000     1520.0   0.814474\n",
       "PaymentScreenSuccessful     1158  0.467690     1238.0   0.935380\n",
       "Tutorial                     283  0.114297     1158.0   0.244387"
      ]
     },
     "metadata": {},
     "output_type": "display_data"
    },
    {
     "name": "stdout",
     "output_type": "stream",
     "text": [
      "\n",
      "Воронка для группы 248\n"
     ]
    },
    {
     "data": {
      "text/html": [
       "<div>\n",
       "<style scoped>\n",
       "    .dataframe tbody tr th:only-of-type {\n",
       "        vertical-align: middle;\n",
       "    }\n",
       "\n",
       "    .dataframe tbody tr th {\n",
       "        vertical-align: top;\n",
       "    }\n",
       "\n",
       "    .dataframe thead th {\n",
       "        text-align: right;\n",
       "    }\n",
       "</style>\n",
       "<table border=\"1\" class=\"dataframe\">\n",
       "  <thead>\n",
       "    <tr style=\"text-align: right;\">\n",
       "      <th></th>\n",
       "      <th>user_id</th>\n",
       "      <th>conv</th>\n",
       "      <th>prev_step</th>\n",
       "      <th>sten_conv</th>\n",
       "    </tr>\n",
       "    <tr>\n",
       "      <th>event_name</th>\n",
       "      <th></th>\n",
       "      <th></th>\n",
       "      <th></th>\n",
       "      <th></th>\n",
       "    </tr>\n",
       "  </thead>\n",
       "  <tbody>\n",
       "    <tr>\n",
       "      <th>MainScreenAppear</th>\n",
       "      <td>2493</td>\n",
       "      <td>1.000000</td>\n",
       "      <td>NaN</td>\n",
       "      <td>NaN</td>\n",
       "    </tr>\n",
       "    <tr>\n",
       "      <th>OffersScreenAppear</th>\n",
       "      <td>1531</td>\n",
       "      <td>0.614120</td>\n",
       "      <td>2493.0</td>\n",
       "      <td>0.614120</td>\n",
       "    </tr>\n",
       "    <tr>\n",
       "      <th>CartScreenAppear</th>\n",
       "      <td>1230</td>\n",
       "      <td>0.493381</td>\n",
       "      <td>1531.0</td>\n",
       "      <td>0.803396</td>\n",
       "    </tr>\n",
       "    <tr>\n",
       "      <th>PaymentScreenSuccessful</th>\n",
       "      <td>1181</td>\n",
       "      <td>0.473726</td>\n",
       "      <td>1230.0</td>\n",
       "      <td>0.960163</td>\n",
       "    </tr>\n",
       "    <tr>\n",
       "      <th>Tutorial</th>\n",
       "      <td>279</td>\n",
       "      <td>0.111913</td>\n",
       "      <td>1181.0</td>\n",
       "      <td>0.236240</td>\n",
       "    </tr>\n",
       "  </tbody>\n",
       "</table>\n",
       "</div>"
      ],
      "text/plain": [
       "                         user_id      conv  prev_step  sten_conv\n",
       "event_name                                                      \n",
       "MainScreenAppear            2493  1.000000        NaN        NaN\n",
       "OffersScreenAppear          1531  0.614120     2493.0   0.614120\n",
       "CartScreenAppear            1230  0.493381     1531.0   0.803396\n",
       "PaymentScreenSuccessful     1181  0.473726     1230.0   0.960163\n",
       "Tutorial                     279  0.111913     1181.0   0.236240"
      ]
     },
     "execution_count": 30,
     "metadata": {},
     "output_type": "execute_result"
    }
   ],
   "source": [
    "display(conv(logs_246_gr,246))\n",
    "display(conv(logs_247_gr,247))\n",
    "conv(logs_248_gr,248)\n"
   ]
  },
  {
   "cell_type": "markdown",
   "metadata": {},
   "source": [
    "Судя по конверсии изменение шрифта не повлекло особых изменений в поведении пользователей.   \n",
    "Давайте объединим группу 246 и 247 и посмотрим на конверсию"
   ]
  },
  {
   "cell_type": "code",
   "execution_count": 31,
   "metadata": {},
   "outputs": [
    {
     "data": {
      "text/html": [
       "<div>\n",
       "<style scoped>\n",
       "    .dataframe tbody tr th:only-of-type {\n",
       "        vertical-align: middle;\n",
       "    }\n",
       "\n",
       "    .dataframe tbody tr th {\n",
       "        vertical-align: top;\n",
       "    }\n",
       "\n",
       "    .dataframe thead th {\n",
       "        text-align: right;\n",
       "    }\n",
       "</style>\n",
       "<table border=\"1\" class=\"dataframe\">\n",
       "  <thead>\n",
       "    <tr style=\"text-align: right;\">\n",
       "      <th></th>\n",
       "      <th>event_name</th>\n",
       "      <th>user_id</th>\n",
       "      <th>event_timestamp</th>\n",
       "      <th>exp_id</th>\n",
       "      <th>event_time</th>\n",
       "      <th>event_date</th>\n",
       "    </tr>\n",
       "  </thead>\n",
       "  <tbody>\n",
       "    <tr>\n",
       "      <th>2828</th>\n",
       "      <td>Tutorial</td>\n",
       "      <td>3737462046622621720</td>\n",
       "      <td>1564618048</td>\n",
       "      <td>246</td>\n",
       "      <td>2019-08-01 00:07:28</td>\n",
       "      <td>2019-08-01</td>\n",
       "    </tr>\n",
       "    <tr>\n",
       "      <th>2829</th>\n",
       "      <td>MainScreenAppear</td>\n",
       "      <td>3737462046622621720</td>\n",
       "      <td>1564618080</td>\n",
       "      <td>246</td>\n",
       "      <td>2019-08-01 00:08:00</td>\n",
       "      <td>2019-08-01</td>\n",
       "    </tr>\n",
       "    <tr>\n",
       "      <th>2830</th>\n",
       "      <td>MainScreenAppear</td>\n",
       "      <td>3737462046622621720</td>\n",
       "      <td>1564618135</td>\n",
       "      <td>246</td>\n",
       "      <td>2019-08-01 00:08:55</td>\n",
       "      <td>2019-08-01</td>\n",
       "    </tr>\n",
       "    <tr>\n",
       "      <th>2831</th>\n",
       "      <td>OffersScreenAppear</td>\n",
       "      <td>3737462046622621720</td>\n",
       "      <td>1564618138</td>\n",
       "      <td>246</td>\n",
       "      <td>2019-08-01 00:08:58</td>\n",
       "      <td>2019-08-01</td>\n",
       "    </tr>\n",
       "    <tr>\n",
       "      <th>2832</th>\n",
       "      <td>MainScreenAppear</td>\n",
       "      <td>1433840883824088890</td>\n",
       "      <td>1564618139</td>\n",
       "      <td>247</td>\n",
       "      <td>2019-08-01 00:08:59</td>\n",
       "      <td>2019-08-01</td>\n",
       "    </tr>\n",
       "  </tbody>\n",
       "</table>\n",
       "</div>"
      ],
      "text/plain": [
       "              event_name              user_id  event_timestamp  exp_id  \\\n",
       "2828            Tutorial  3737462046622621720       1564618048     246   \n",
       "2829    MainScreenAppear  3737462046622621720       1564618080     246   \n",
       "2830    MainScreenAppear  3737462046622621720       1564618135     246   \n",
       "2831  OffersScreenAppear  3737462046622621720       1564618138     246   \n",
       "2832    MainScreenAppear  1433840883824088890       1564618139     247   \n",
       "\n",
       "              event_time  event_date  \n",
       "2828 2019-08-01 00:07:28  2019-08-01  \n",
       "2829 2019-08-01 00:08:00  2019-08-01  \n",
       "2830 2019-08-01 00:08:55  2019-08-01  \n",
       "2831 2019-08-01 00:08:58  2019-08-01  \n",
       "2832 2019-08-01 00:08:59  2019-08-01  "
      ]
     },
     "execution_count": 31,
     "metadata": {},
     "output_type": "execute_result"
    }
   ],
   "source": [
    "logs_246_247 = logs.query('exp_id == 246 or exp_id == 247')\n",
    "logs_246_247.head()"
   ]
  },
  {
   "cell_type": "code",
   "execution_count": 32,
   "metadata": {},
   "outputs": [
    {
     "name": "stdout",
     "output_type": "stream",
     "text": [
      "\n",
      "Воронка для группы 246+247\n"
     ]
    },
    {
     "data": {
      "text/html": [
       "<div>\n",
       "<style scoped>\n",
       "    .dataframe tbody tr th:only-of-type {\n",
       "        vertical-align: middle;\n",
       "    }\n",
       "\n",
       "    .dataframe tbody tr th {\n",
       "        vertical-align: top;\n",
       "    }\n",
       "\n",
       "    .dataframe thead th {\n",
       "        text-align: right;\n",
       "    }\n",
       "</style>\n",
       "<table border=\"1\" class=\"dataframe\">\n",
       "  <thead>\n",
       "    <tr style=\"text-align: right;\">\n",
       "      <th></th>\n",
       "      <th>user_id</th>\n",
       "      <th>conv</th>\n",
       "      <th>prev_step</th>\n",
       "      <th>sten_conv</th>\n",
       "    </tr>\n",
       "    <tr>\n",
       "      <th>event_name</th>\n",
       "      <th></th>\n",
       "      <th></th>\n",
       "      <th></th>\n",
       "      <th></th>\n",
       "    </tr>\n",
       "  </thead>\n",
       "  <tbody>\n",
       "    <tr>\n",
       "      <th>MainScreenAppear</th>\n",
       "      <td>4926</td>\n",
       "      <td>1.000000</td>\n",
       "      <td>NaN</td>\n",
       "      <td>NaN</td>\n",
       "    </tr>\n",
       "    <tr>\n",
       "      <th>OffersScreenAppear</th>\n",
       "      <td>3062</td>\n",
       "      <td>0.621600</td>\n",
       "      <td>4926.0</td>\n",
       "      <td>0.621600</td>\n",
       "    </tr>\n",
       "    <tr>\n",
       "      <th>CartScreenAppear</th>\n",
       "      <td>2504</td>\n",
       "      <td>0.508323</td>\n",
       "      <td>3062.0</td>\n",
       "      <td>0.817766</td>\n",
       "    </tr>\n",
       "    <tr>\n",
       "      <th>PaymentScreenSuccessful</th>\n",
       "      <td>2358</td>\n",
       "      <td>0.478685</td>\n",
       "      <td>2504.0</td>\n",
       "      <td>0.941693</td>\n",
       "    </tr>\n",
       "    <tr>\n",
       "      <th>Tutorial</th>\n",
       "      <td>561</td>\n",
       "      <td>0.113886</td>\n",
       "      <td>2358.0</td>\n",
       "      <td>0.237913</td>\n",
       "    </tr>\n",
       "  </tbody>\n",
       "</table>\n",
       "</div>"
      ],
      "text/plain": [
       "                         user_id      conv  prev_step  sten_conv\n",
       "event_name                                                      \n",
       "MainScreenAppear            4926  1.000000        NaN        NaN\n",
       "OffersScreenAppear          3062  0.621600     4926.0   0.621600\n",
       "CartScreenAppear            2504  0.508323     3062.0   0.817766\n",
       "PaymentScreenSuccessful     2358  0.478685     2504.0   0.941693\n",
       "Tutorial                     561  0.113886     2358.0   0.237913"
      ]
     },
     "execution_count": 32,
     "metadata": {},
     "output_type": "execute_result"
    }
   ],
   "source": [
    "logs_246_247_gr = logs_246_247.groupby('event_name').agg({'user_id':'nunique'}).sort_values(by = 'user_id' ,ascending = False)\n",
    "conv(logs_246_247_gr,'246+247')"
   ]
  },
  {
   "cell_type": "code",
   "execution_count": 33,
   "metadata": {
    "scrolled": true
   },
   "outputs": [
    {
     "name": "stdout",
     "output_type": "stream",
     "text": [
      "\n",
      "Воронка для группы 248\n"
     ]
    },
    {
     "data": {
      "text/html": [
       "<div>\n",
       "<style scoped>\n",
       "    .dataframe tbody tr th:only-of-type {\n",
       "        vertical-align: middle;\n",
       "    }\n",
       "\n",
       "    .dataframe tbody tr th {\n",
       "        vertical-align: top;\n",
       "    }\n",
       "\n",
       "    .dataframe thead th {\n",
       "        text-align: right;\n",
       "    }\n",
       "</style>\n",
       "<table border=\"1\" class=\"dataframe\">\n",
       "  <thead>\n",
       "    <tr style=\"text-align: right;\">\n",
       "      <th></th>\n",
       "      <th>user_id</th>\n",
       "      <th>conv</th>\n",
       "      <th>prev_step</th>\n",
       "      <th>sten_conv</th>\n",
       "    </tr>\n",
       "    <tr>\n",
       "      <th>event_name</th>\n",
       "      <th></th>\n",
       "      <th></th>\n",
       "      <th></th>\n",
       "      <th></th>\n",
       "    </tr>\n",
       "  </thead>\n",
       "  <tbody>\n",
       "    <tr>\n",
       "      <th>MainScreenAppear</th>\n",
       "      <td>2493</td>\n",
       "      <td>1.000000</td>\n",
       "      <td>NaN</td>\n",
       "      <td>NaN</td>\n",
       "    </tr>\n",
       "    <tr>\n",
       "      <th>OffersScreenAppear</th>\n",
       "      <td>1531</td>\n",
       "      <td>0.614120</td>\n",
       "      <td>2493.0</td>\n",
       "      <td>0.614120</td>\n",
       "    </tr>\n",
       "    <tr>\n",
       "      <th>CartScreenAppear</th>\n",
       "      <td>1230</td>\n",
       "      <td>0.493381</td>\n",
       "      <td>1531.0</td>\n",
       "      <td>0.803396</td>\n",
       "    </tr>\n",
       "    <tr>\n",
       "      <th>PaymentScreenSuccessful</th>\n",
       "      <td>1181</td>\n",
       "      <td>0.473726</td>\n",
       "      <td>1230.0</td>\n",
       "      <td>0.960163</td>\n",
       "    </tr>\n",
       "    <tr>\n",
       "      <th>Tutorial</th>\n",
       "      <td>279</td>\n",
       "      <td>0.111913</td>\n",
       "      <td>1181.0</td>\n",
       "      <td>0.236240</td>\n",
       "    </tr>\n",
       "  </tbody>\n",
       "</table>\n",
       "</div>"
      ],
      "text/plain": [
       "                         user_id      conv  prev_step  sten_conv\n",
       "event_name                                                      \n",
       "MainScreenAppear            2493  1.000000        NaN        NaN\n",
       "OffersScreenAppear          1531  0.614120     2493.0   0.614120\n",
       "CartScreenAppear            1230  0.493381     1531.0   0.803396\n",
       "PaymentScreenSuccessful     1181  0.473726     1230.0   0.960163\n",
       "Tutorial                     279  0.111913     1181.0   0.236240"
      ]
     },
     "execution_count": 33,
     "metadata": {},
     "output_type": "execute_result"
    }
   ],
   "source": [
    "conv(logs_248_gr,248)"
   ]
  },
  {
   "cell_type": "markdown",
   "metadata": {},
   "source": [
    "Конверсия тоже не сильно изменилась"
   ]
  },
  {
   "cell_type": "code",
   "execution_count": 34,
   "metadata": {},
   "outputs": [
    {
     "name": "stderr",
     "output_type": "stream",
     "text": [
      "/tmp/ipykernel_347/131231442.py:3: SettingWithCopyWarning: \n",
      "A value is trying to be set on a copy of a slice from a DataFrame.\n",
      "Try using .loc[row_indexer,col_indexer] = value instead\n",
      "\n",
      "See the caveats in the documentation: https://pandas.pydata.org/pandas-docs/stable/user_guide/indexing.html#returning-a-view-versus-a-copy\n",
      "  comb['exp_id'] = '246+247'\n"
     ]
    }
   ],
   "source": [
    "# сформируем объедененную группу 246 + 247 и проверим, есть ли статистическая разница межде группами\n",
    "comb = logs.query('exp_id in[246,247]')\n",
    "comb['exp_id'] = '246+247'\n",
    "\n",
    "# присоеденим наш первоначальный датафрейм и обобщенным датафреймом.\n",
    "logs_new = logs.append(comb)\n"
   ]
  },
  {
   "cell_type": "code",
   "execution_count": 35,
   "metadata": {},
   "outputs": [
    {
     "data": {
      "text/html": [
       "<div>\n",
       "<style scoped>\n",
       "    .dataframe tbody tr th:only-of-type {\n",
       "        vertical-align: middle;\n",
       "    }\n",
       "\n",
       "    .dataframe tbody tr th {\n",
       "        vertical-align: top;\n",
       "    }\n",
       "\n",
       "    .dataframe thead th {\n",
       "        text-align: right;\n",
       "    }\n",
       "</style>\n",
       "<table border=\"1\" class=\"dataframe\">\n",
       "  <thead>\n",
       "    <tr style=\"text-align: right;\">\n",
       "      <th></th>\n",
       "      <th>user_id</th>\n",
       "    </tr>\n",
       "    <tr>\n",
       "      <th>exp_id</th>\n",
       "      <th></th>\n",
       "    </tr>\n",
       "  </thead>\n",
       "  <tbody>\n",
       "    <tr>\n",
       "      <th>246</th>\n",
       "      <td>2484</td>\n",
       "    </tr>\n",
       "    <tr>\n",
       "      <th>247</th>\n",
       "      <td>2513</td>\n",
       "    </tr>\n",
       "    <tr>\n",
       "      <th>248</th>\n",
       "      <td>2537</td>\n",
       "    </tr>\n",
       "    <tr>\n",
       "      <th>246+247</th>\n",
       "      <td>4997</td>\n",
       "    </tr>\n",
       "  </tbody>\n",
       "</table>\n",
       "</div>"
      ],
      "text/plain": [
       "         user_id\n",
       "exp_id          \n",
       "246         2484\n",
       "247         2513\n",
       "248         2537\n",
       "246+247     4997"
      ]
     },
     "metadata": {},
     "output_type": "display_data"
    },
    {
     "data": {
      "text/html": [
       "<div>\n",
       "<style scoped>\n",
       "    .dataframe tbody tr th:only-of-type {\n",
       "        vertical-align: middle;\n",
       "    }\n",
       "\n",
       "    .dataframe tbody tr th {\n",
       "        vertical-align: top;\n",
       "    }\n",
       "\n",
       "    .dataframe thead th {\n",
       "        text-align: right;\n",
       "    }\n",
       "</style>\n",
       "<table border=\"1\" class=\"dataframe\">\n",
       "  <thead>\n",
       "    <tr style=\"text-align: right;\">\n",
       "      <th>exp_id</th>\n",
       "      <th>246</th>\n",
       "      <th>247</th>\n",
       "      <th>248</th>\n",
       "      <th>246+247</th>\n",
       "    </tr>\n",
       "    <tr>\n",
       "      <th>event_name</th>\n",
       "      <th></th>\n",
       "      <th></th>\n",
       "      <th></th>\n",
       "      <th></th>\n",
       "    </tr>\n",
       "  </thead>\n",
       "  <tbody>\n",
       "    <tr>\n",
       "      <th>MainScreenAppear</th>\n",
       "      <td>2450</td>\n",
       "      <td>2476</td>\n",
       "      <td>2493</td>\n",
       "      <td>4926</td>\n",
       "    </tr>\n",
       "    <tr>\n",
       "      <th>OffersScreenAppear</th>\n",
       "      <td>1542</td>\n",
       "      <td>1520</td>\n",
       "      <td>1531</td>\n",
       "      <td>3062</td>\n",
       "    </tr>\n",
       "    <tr>\n",
       "      <th>CartScreenAppear</th>\n",
       "      <td>1266</td>\n",
       "      <td>1238</td>\n",
       "      <td>1230</td>\n",
       "      <td>2504</td>\n",
       "    </tr>\n",
       "    <tr>\n",
       "      <th>PaymentScreenSuccessful</th>\n",
       "      <td>1200</td>\n",
       "      <td>1158</td>\n",
       "      <td>1181</td>\n",
       "      <td>2358</td>\n",
       "    </tr>\n",
       "    <tr>\n",
       "      <th>Tutorial</th>\n",
       "      <td>278</td>\n",
       "      <td>283</td>\n",
       "      <td>279</td>\n",
       "      <td>561</td>\n",
       "    </tr>\n",
       "  </tbody>\n",
       "</table>\n",
       "</div>"
      ],
      "text/plain": [
       "exp_id                    246   247   248  246+247\n",
       "event_name                                        \n",
       "MainScreenAppear         2450  2476  2493     4926\n",
       "OffersScreenAppear       1542  1520  1531     3062\n",
       "CartScreenAppear         1266  1238  1230     2504\n",
       "PaymentScreenSuccessful  1200  1158  1181     2358\n",
       "Tutorial                  278   283   279      561"
      ]
     },
     "execution_count": 35,
     "metadata": {},
     "output_type": "execute_result"
    }
   ],
   "source": [
    "trials = logs_new.groupby('exp_id').agg({'user_id':'nunique'})\n",
    "display(trials)\n",
    "# построим воронку по каждому событию с разбивкой по группам\n",
    "funnel = logs_new.pivot_table(index = 'event_name',columns = 'exp_id',values = 'user_id',aggfunc = 'nunique').sort_values(by = 246,ascending = False)\n",
    "funnel"
   ]
  },
  {
   "cell_type": "code",
   "execution_count": 36,
   "metadata": {},
   "outputs": [
    {
     "name": "stdout",
     "output_type": "stream",
     "text": [
      "\n",
      "Проверка групп 246 и 248\n",
      "\n",
      "\n",
      "Проверка для  MainScreenAppear\n",
      "p-значение:  0.2949721933554552\n",
      "Не получилось отвергнуть нулевую гипотезу, нет оснований считать группы разными\n",
      "\n",
      "Проверка для  OffersScreenAppear\n",
      "p-значение:  0.20836205402738917\n",
      "Не получилось отвергнуть нулевую гипотезу, нет оснований считать группы разными\n",
      "\n",
      "Проверка для  CartScreenAppear\n",
      "p-значение:  0.07842923237520116\n",
      "Не получилось отвергнуть нулевую гипотезу, нет оснований считать группы разными\n",
      "\n",
      "Проверка для  PaymentScreenSuccessful\n",
      "p-значение:  0.2122553275697796\n",
      "Не получилось отвергнуть нулевую гипотезу, нет оснований считать группы разными\n",
      "\n",
      "Проверка для  Tutorial\n",
      "p-значение:  0.8264294010087645\n",
      "Не получилось отвергнуть нулевую гипотезу, нет оснований считать группы разными\n"
     ]
    }
   ],
   "source": [
    "# проверим, если ли статистические различия между 246 и 248 группами\n",
    " \n",
    "print('\\nПроверка групп 246 и 248\\n')\n",
    "for event in funnel.index:\n",
    "    (check_hipothesis(funnel.loc[event,248],funnel.loc[event,246],\n",
    "                     trials.loc[248].values[0],trials.loc[246].values[0],event)\n",
    "    )"
   ]
  },
  {
   "cell_type": "code",
   "execution_count": 37,
   "metadata": {},
   "outputs": [
    {
     "name": "stdout",
     "output_type": "stream",
     "text": [
      "\n",
      "Проверка групп 247 и 248\n",
      "\n",
      "\n",
      "Проверка для  MainScreenAppear\n",
      "p-значение:  0.4587053616621515\n",
      "Не получилось отвергнуть нулевую гипотезу, нет оснований считать группы разными\n",
      "\n",
      "Проверка для  OffersScreenAppear\n",
      "p-значение:  0.9197817830592261\n",
      "Не получилось отвергнуть нулевую гипотезу, нет оснований считать группы разными\n",
      "\n",
      "Проверка для  CartScreenAppear\n",
      "p-значение:  0.5786197879539783\n",
      "Не получилось отвергнуть нулевую гипотезу, нет оснований считать группы разными\n",
      "\n",
      "Проверка для  PaymentScreenSuccessful\n",
      "p-значение:  0.7373415053803964\n",
      "Не получилось отвергнуть нулевую гипотезу, нет оснований считать группы разными\n",
      "\n",
      "Проверка для  Tutorial\n",
      "p-значение:  0.765323922474501\n",
      "Не получилось отвергнуть нулевую гипотезу, нет оснований считать группы разными\n"
     ]
    }
   ],
   "source": [
    "# проверим, если ли статистические различия между 246 и 248 группами\n",
    "\n",
    "print('\\nПроверка групп 247 и 248\\n')\n",
    "for event in funnel.index:\n",
    "    (check_hipothesis(funnel.loc[event,248],funnel.loc[event,247],\n",
    "                     trials.loc[248].values[0],trials.loc[247].values[0],event)\n",
    "    )"
   ]
  },
  {
   "cell_type": "code",
   "execution_count": 38,
   "metadata": {},
   "outputs": [
    {
     "name": "stdout",
     "output_type": "stream",
     "text": [
      "\n",
      "Проверка групп 246+247 и 248\n",
      "\n",
      "\n",
      "Проверка для  MainScreenAppear\n",
      "p-значение:  0.29424526837179577\n",
      "Не получилось отвергнуть нулевую гипотезу, нет оснований считать группы разными\n",
      "\n",
      "Проверка для  OffersScreenAppear\n",
      "p-значение:  0.43425549655188256\n",
      "Не получилось отвергнуть нулевую гипотезу, нет оснований считать группы разными\n",
      "\n",
      "Проверка для  CartScreenAppear\n",
      "p-значение:  0.18175875284404386\n",
      "Не получилось отвергнуть нулевую гипотезу, нет оснований считать группы разными\n",
      "\n",
      "Проверка для  PaymentScreenSuccessful\n",
      "p-значение:  0.6004294282308704\n",
      "Не получилось отвергнуть нулевую гипотезу, нет оснований считать группы разными\n",
      "\n",
      "Проверка для  Tutorial\n",
      "p-значение:  0.764862472531507\n",
      "Не получилось отвергнуть нулевую гипотезу, нет оснований считать группы разными\n"
     ]
    }
   ],
   "source": [
    "# проверим, есть ли статистическиме различия между 248 и обобщенной (246+247) группами\n",
    "\n",
    "print('\\nПроверка групп 246+247 и 248\\n')\n",
    "for event in funnel.index:\n",
    "    (check_hipothesis(funnel.loc[event,248],funnel.loc[event,'246+247'],\n",
    "                     trials.loc[248].values[0],trials.loc['246+247'].values[0],event)\n",
    "    )"
   ]
  },
  {
   "cell_type": "markdown",
   "metadata": {},
   "source": [
    " Мы провели 20 проверок.   \n",
    "    Несколько сравнений, проводимых на одних и тех же данных — это множественный тест.С каждой новой проверкой гипотезы растёт вероятность ошибки первого рода. Т.е. в нашем случае вероятность ошибиться хотя бы 1 раз из 20 равна 0,6416 ( 1- (1 - 0.05) в 20степени). Это слишком много. Для этого применим поправку Бонферонни. Для этого разделим уровень значимости на количество гипотез. 0,05/20 = 0,0025 "
   ]
  },
  {
   "cell_type": "markdown",
   "metadata": {},
   "source": [
    "## Выводы"
   ]
  },
  {
   "cell_type": "markdown",
   "metadata": {},
   "source": [
    "Группы 246 и 247 не имеют статистических различий.  \n",
    "Попавший в одну из групп пользователь остается в ней до конца теста, а это значит, что группы распределены правильно.    \n",
    "Группы не имеют статистических различий. Конверсии в контрольных группах так же имеют больших различий.   \n",
    "Исходя из этого можно сделать вывод, что изменение шрифта не повлекло изменение в поведении пользователей.   \n",
    "Стоит обратить внимание на то, что больше всего пользователей отваливаются на этапе перехода на карточку товара. Для повышения конверсии пользоватлея в потенциального покупателя необходимо посмотреть, как улучшить данный этап. Возможно стоит поработать над самой карточкой товара или над интерфейсом, чтоб он стал более дружелюбным и понятным пользоватлеям.  "
   ]
  }
 ],
 "metadata": {
  "ExecuteTimeLog": [
   {
    "duration": 336,
    "start_time": "2022-03-15T10:58:55.476Z"
   },
   {
    "duration": 710,
    "start_time": "2022-03-15T10:59:07.670Z"
   },
   {
    "duration": 326,
    "start_time": "2022-03-15T10:59:09.253Z"
   },
   {
    "duration": 331,
    "start_time": "2022-03-15T10:59:20.500Z"
   },
   {
    "duration": 115,
    "start_time": "2022-03-15T11:11:36.701Z"
   },
   {
    "duration": 111,
    "start_time": "2022-03-15T11:17:08.271Z"
   },
   {
    "duration": 12,
    "start_time": "2022-03-15T11:17:16.888Z"
   },
   {
    "duration": 6,
    "start_time": "2022-03-15T11:18:13.794Z"
   },
   {
    "duration": 141,
    "start_time": "2022-03-15T11:20:35.110Z"
   },
   {
    "duration": 55,
    "start_time": "2022-03-15T11:23:45.852Z"
   },
   {
    "duration": 66,
    "start_time": "2022-03-15T11:24:06.294Z"
   },
   {
    "duration": 59,
    "start_time": "2022-03-15T11:24:12.085Z"
   },
   {
    "duration": 11,
    "start_time": "2022-03-15T11:26:39.983Z"
   },
   {
    "duration": 63,
    "start_time": "2022-03-15T11:27:09.481Z"
   },
   {
    "duration": 32,
    "start_time": "2022-03-15T11:28:43.919Z"
   },
   {
    "duration": 8,
    "start_time": "2022-03-15T11:28:51.010Z"
   },
   {
    "duration": 1233,
    "start_time": "2022-03-15T11:36:57.345Z"
   },
   {
    "duration": 38,
    "start_time": "2022-03-15T11:37:02.798Z"
   },
   {
    "duration": 86,
    "start_time": "2022-03-15T11:37:12.325Z"
   },
   {
    "duration": 41,
    "start_time": "2022-03-15T11:37:29.539Z"
   },
   {
    "duration": 117,
    "start_time": "2022-03-15T11:37:37.845Z"
   },
   {
    "duration": 59,
    "start_time": "2022-03-15T11:37:41.488Z"
   },
   {
    "duration": 7832,
    "start_time": "2022-03-15T11:37:45.234Z"
   },
   {
    "duration": 109,
    "start_time": "2022-03-15T11:42:07.648Z"
   },
   {
    "duration": 12,
    "start_time": "2022-03-15T11:42:09.866Z"
   },
   {
    "duration": 63,
    "start_time": "2022-03-15T11:42:11.642Z"
   },
   {
    "duration": 324,
    "start_time": "2022-03-15T11:42:35.963Z"
   },
   {
    "duration": 7,
    "start_time": "2022-03-15T11:52:53.134Z"
   },
   {
    "duration": 39,
    "start_time": "2022-03-15T11:55:05.603Z"
   },
   {
    "duration": 44,
    "start_time": "2022-03-15T11:55:09.975Z"
   },
   {
    "duration": 44,
    "start_time": "2022-03-15T11:57:11.761Z"
   },
   {
    "duration": 7680,
    "start_time": "2022-03-15T12:00:48.866Z"
   },
   {
    "duration": 12,
    "start_time": "2022-03-15T12:02:17.492Z"
   },
   {
    "duration": 116,
    "start_time": "2022-03-15T12:08:16.061Z"
   },
   {
    "duration": 10,
    "start_time": "2022-03-15T12:08:17.578Z"
   },
   {
    "duration": 67,
    "start_time": "2022-03-15T12:08:18.711Z"
   },
   {
    "duration": 52,
    "start_time": "2022-03-15T12:08:20.686Z"
   },
   {
    "duration": 13,
    "start_time": "2022-03-15T12:08:24.003Z"
   },
   {
    "duration": 595,
    "start_time": "2022-03-15T12:10:33.279Z"
   },
   {
    "duration": 126,
    "start_time": "2022-03-15T12:10:33.876Z"
   },
   {
    "duration": 11,
    "start_time": "2022-03-15T12:10:34.004Z"
   },
   {
    "duration": 64,
    "start_time": "2022-03-15T12:10:34.017Z"
   },
   {
    "duration": -1804,
    "start_time": "2022-03-15T12:10:51.294Z"
   },
   {
    "duration": -1820,
    "start_time": "2022-03-15T12:10:51.311Z"
   },
   {
    "duration": -1824,
    "start_time": "2022-03-15T12:10:51.316Z"
   },
   {
    "duration": 23,
    "start_time": "2022-03-15T12:10:59.284Z"
   },
   {
    "duration": 49,
    "start_time": "2022-03-15T12:11:05.126Z"
   },
   {
    "duration": 11,
    "start_time": "2022-03-15T12:11:36.560Z"
   },
   {
    "duration": 14,
    "start_time": "2022-03-15T12:14:37.600Z"
   },
   {
    "duration": 19,
    "start_time": "2022-03-15T12:22:12.807Z"
   },
   {
    "duration": 315,
    "start_time": "2022-03-15T12:22:55.942Z"
   },
   {
    "duration": 3,
    "start_time": "2022-03-15T12:23:04.793Z"
   },
   {
    "duration": 1359,
    "start_time": "2022-03-15T12:23:07.995Z"
   },
   {
    "duration": 309,
    "start_time": "2022-03-15T12:29:34.387Z"
   },
   {
    "duration": 2873,
    "start_time": "2022-03-15T12:36:56.921Z"
   },
   {
    "duration": 14,
    "start_time": "2022-03-15T12:37:18.432Z"
   },
   {
    "duration": 21,
    "start_time": "2022-03-15T12:37:37.441Z"
   },
   {
    "duration": 15,
    "start_time": "2022-03-15T12:38:07.200Z"
   },
   {
    "duration": 14,
    "start_time": "2022-03-15T12:38:20.109Z"
   },
   {
    "duration": 21,
    "start_time": "2022-03-15T12:43:07.625Z"
   },
   {
    "duration": 20,
    "start_time": "2022-03-15T12:45:03.413Z"
   },
   {
    "duration": 90,
    "start_time": "2022-03-15T13:44:02.127Z"
   },
   {
    "duration": 116,
    "start_time": "2022-03-15T13:45:21.596Z"
   },
   {
    "duration": 61,
    "start_time": "2022-03-15T13:45:24.299Z"
   },
   {
    "duration": 50,
    "start_time": "2022-03-15T13:45:26.418Z"
   },
   {
    "duration": 8090,
    "start_time": "2022-03-15T13:45:28.433Z"
   },
   {
    "duration": 7431,
    "start_time": "2022-03-15T13:47:39.598Z"
   },
   {
    "duration": 139,
    "start_time": "2022-03-15T13:48:06.342Z"
   },
   {
    "duration": 9,
    "start_time": "2022-03-15T13:48:07.754Z"
   },
   {
    "duration": 65,
    "start_time": "2022-03-15T13:48:09.502Z"
   },
   {
    "duration": 23,
    "start_time": "2022-03-15T13:48:10.092Z"
   },
   {
    "duration": 52,
    "start_time": "2022-03-15T13:48:10.816Z"
   },
   {
    "duration": 82,
    "start_time": "2022-03-15T13:48:14.792Z"
   },
   {
    "duration": 142,
    "start_time": "2022-03-15T13:48:47.754Z"
   },
   {
    "duration": 85,
    "start_time": "2022-03-15T14:13:19.189Z"
   },
   {
    "duration": 552,
    "start_time": "2022-03-15T14:13:39.220Z"
   },
   {
    "duration": 124,
    "start_time": "2022-03-15T14:13:39.774Z"
   },
   {
    "duration": 11,
    "start_time": "2022-03-15T14:13:39.900Z"
   },
   {
    "duration": 63,
    "start_time": "2022-03-15T14:13:39.913Z"
   },
   {
    "duration": 34,
    "start_time": "2022-03-15T14:13:39.977Z"
   },
   {
    "duration": 52,
    "start_time": "2022-03-15T14:13:40.012Z"
   },
   {
    "duration": 95,
    "start_time": "2022-03-15T14:13:40.066Z"
   },
   {
    "duration": 123,
    "start_time": "2022-03-15T14:14:22.262Z"
   },
   {
    "duration": 108,
    "start_time": "2022-03-15T14:19:31.825Z"
   },
   {
    "duration": 78,
    "start_time": "2022-03-15T14:19:54.826Z"
   },
   {
    "duration": 73,
    "start_time": "2022-03-15T14:19:59.099Z"
   },
   {
    "duration": 63,
    "start_time": "2022-03-15T14:23:15.405Z"
   },
   {
    "duration": 71,
    "start_time": "2022-03-15T14:25:30.841Z"
   },
   {
    "duration": 81,
    "start_time": "2022-03-15T14:25:50.841Z"
   },
   {
    "duration": 65,
    "start_time": "2022-03-15T14:26:04.927Z"
   },
   {
    "duration": 75,
    "start_time": "2022-03-15T14:26:09.898Z"
   },
   {
    "duration": 599,
    "start_time": "2022-03-15T14:26:17.518Z"
   },
   {
    "duration": 146,
    "start_time": "2022-03-15T14:26:18.121Z"
   },
   {
    "duration": 12,
    "start_time": "2022-03-15T14:26:18.269Z"
   },
   {
    "duration": 67,
    "start_time": "2022-03-15T14:26:18.283Z"
   },
   {
    "duration": 22,
    "start_time": "2022-03-15T14:26:18.352Z"
   },
   {
    "duration": 96,
    "start_time": "2022-03-15T14:26:18.376Z"
   },
   {
    "duration": 92,
    "start_time": "2022-03-15T14:26:18.474Z"
   },
   {
    "duration": 87,
    "start_time": "2022-03-15T14:26:18.568Z"
   },
   {
    "duration": 15,
    "start_time": "2022-03-15T14:33:58.372Z"
   },
   {
    "duration": 107,
    "start_time": "2022-03-15T14:34:30.933Z"
   },
   {
    "duration": 13,
    "start_time": "2022-03-15T14:34:35.273Z"
   },
   {
    "duration": 14,
    "start_time": "2022-03-15T14:35:26.647Z"
   },
   {
    "duration": 86,
    "start_time": "2022-03-15T14:36:23.383Z"
   },
   {
    "duration": 602,
    "start_time": "2022-03-15T14:36:37.284Z"
   },
   {
    "duration": 124,
    "start_time": "2022-03-15T14:36:37.888Z"
   },
   {
    "duration": 11,
    "start_time": "2022-03-15T14:36:38.014Z"
   },
   {
    "duration": 75,
    "start_time": "2022-03-15T14:36:38.026Z"
   },
   {
    "duration": 20,
    "start_time": "2022-03-15T14:36:38.103Z"
   },
   {
    "duration": 13,
    "start_time": "2022-03-15T14:36:38.125Z"
   },
   {
    "duration": 93,
    "start_time": "2022-03-15T14:36:38.140Z"
   },
   {
    "duration": 96,
    "start_time": "2022-03-15T14:36:38.235Z"
   },
   {
    "duration": 86,
    "start_time": "2022-03-15T14:36:38.333Z"
   },
   {
    "duration": 23,
    "start_time": "2022-03-15T14:37:29.630Z"
   },
   {
    "duration": 9,
    "start_time": "2022-03-15T14:39:34.575Z"
   },
   {
    "duration": 2,
    "start_time": "2022-03-15T14:44:50.647Z"
   },
   {
    "duration": 2,
    "start_time": "2022-03-15T14:46:11.249Z"
   },
   {
    "duration": 13,
    "start_time": "2022-03-15T14:48:22.233Z"
   },
   {
    "duration": 5,
    "start_time": "2022-03-15T14:49:29.682Z"
   },
   {
    "duration": 99,
    "start_time": "2022-03-15T14:53:15.184Z"
   },
   {
    "duration": 100,
    "start_time": "2022-03-15T14:53:21.497Z"
   },
   {
    "duration": 15,
    "start_time": "2022-03-15T14:53:24.958Z"
   },
   {
    "duration": 16,
    "start_time": "2022-03-15T14:53:47.150Z"
   },
   {
    "duration": 98,
    "start_time": "2022-03-15T14:54:05.186Z"
   },
   {
    "duration": 14,
    "start_time": "2022-03-15T14:54:20.624Z"
   },
   {
    "duration": 734,
    "start_time": "2022-03-16T07:22:28.315Z"
   },
   {
    "duration": 175,
    "start_time": "2022-03-16T07:22:29.052Z"
   },
   {
    "duration": 16,
    "start_time": "2022-03-16T07:22:29.230Z"
   },
   {
    "duration": 116,
    "start_time": "2022-03-16T07:22:29.248Z"
   },
   {
    "duration": 56,
    "start_time": "2022-03-16T07:22:29.367Z"
   },
   {
    "duration": 20,
    "start_time": "2022-03-16T07:22:29.426Z"
   },
   {
    "duration": 158,
    "start_time": "2022-03-16T07:22:29.449Z"
   },
   {
    "duration": 152,
    "start_time": "2022-03-16T07:22:29.610Z"
   },
   {
    "duration": 148,
    "start_time": "2022-03-16T07:22:29.765Z"
   },
   {
    "duration": 17,
    "start_time": "2022-03-16T07:22:29.916Z"
   },
   {
    "duration": 61,
    "start_time": "2022-03-16T07:22:29.936Z"
   },
   {
    "duration": -2425,
    "start_time": "2022-03-16T07:22:32.425Z"
   },
   {
    "duration": -2430,
    "start_time": "2022-03-16T07:22:32.431Z"
   },
   {
    "duration": 5,
    "start_time": "2022-03-16T07:22:34.259Z"
   },
   {
    "duration": 7,
    "start_time": "2022-03-16T07:22:42.083Z"
   },
   {
    "duration": 8,
    "start_time": "2022-03-16T07:24:20.971Z"
   },
   {
    "duration": 8,
    "start_time": "2022-03-16T07:24:34.689Z"
   },
   {
    "duration": 269,
    "start_time": "2022-03-16T07:24:50.467Z"
   },
   {
    "duration": 54,
    "start_time": "2022-03-16T07:25:24.063Z"
   },
   {
    "duration": 10,
    "start_time": "2022-03-16T07:25:27.298Z"
   },
   {
    "duration": 7,
    "start_time": "2022-03-16T07:27:22.398Z"
   },
   {
    "duration": 8,
    "start_time": "2022-03-16T07:27:27.686Z"
   },
   {
    "duration": 11,
    "start_time": "2022-03-16T07:28:58.732Z"
   },
   {
    "duration": 10,
    "start_time": "2022-03-16T07:29:17.572Z"
   },
   {
    "duration": 11,
    "start_time": "2022-03-16T07:29:23.400Z"
   },
   {
    "duration": 13,
    "start_time": "2022-03-16T07:29:47.165Z"
   },
   {
    "duration": 72,
    "start_time": "2022-03-16T07:31:27.472Z"
   },
   {
    "duration": 8,
    "start_time": "2022-03-16T07:31:31.801Z"
   },
   {
    "duration": 44,
    "start_time": "2022-03-16T07:31:44.952Z"
   },
   {
    "duration": 44,
    "start_time": "2022-03-16T07:31:57.057Z"
   },
   {
    "duration": 41,
    "start_time": "2022-03-16T07:34:01.287Z"
   },
   {
    "duration": 504,
    "start_time": "2022-03-16T07:34:24.098Z"
   },
   {
    "duration": 614,
    "start_time": "2022-03-16T07:34:54.437Z"
   },
   {
    "duration": 454,
    "start_time": "2022-03-16T07:35:01.138Z"
   },
   {
    "duration": 611,
    "start_time": "2022-03-16T07:35:13.143Z"
   },
   {
    "duration": 537,
    "start_time": "2022-03-16T07:35:22.954Z"
   },
   {
    "duration": 469,
    "start_time": "2022-03-16T07:35:34.076Z"
   },
   {
    "duration": 693,
    "start_time": "2022-03-16T07:37:11.882Z"
   },
   {
    "duration": 4,
    "start_time": "2022-03-16T07:37:39.636Z"
   },
   {
    "duration": 501,
    "start_time": "2022-03-16T07:37:45.286Z"
   },
   {
    "duration": 482,
    "start_time": "2022-03-16T07:37:51.904Z"
   },
   {
    "duration": 476,
    "start_time": "2022-03-16T07:38:17.578Z"
   },
   {
    "duration": 980,
    "start_time": "2022-03-16T07:49:07.429Z"
   },
   {
    "duration": 63,
    "start_time": "2022-03-16T07:50:21.810Z"
   },
   {
    "duration": 55,
    "start_time": "2022-03-16T07:50:30.412Z"
   },
   {
    "duration": 47,
    "start_time": "2022-03-16T07:50:47.018Z"
   },
   {
    "duration": 779,
    "start_time": "2022-03-16T07:52:08.311Z"
   },
   {
    "duration": 181,
    "start_time": "2022-03-16T07:52:09.093Z"
   },
   {
    "duration": 19,
    "start_time": "2022-03-16T07:52:09.277Z"
   },
   {
    "duration": 117,
    "start_time": "2022-03-16T07:52:09.299Z"
   },
   {
    "duration": 36,
    "start_time": "2022-03-16T07:52:09.419Z"
   },
   {
    "duration": 39,
    "start_time": "2022-03-16T07:52:09.457Z"
   },
   {
    "duration": 139,
    "start_time": "2022-03-16T07:52:09.499Z"
   },
   {
    "duration": 156,
    "start_time": "2022-03-16T07:52:09.642Z"
   },
   {
    "duration": 137,
    "start_time": "2022-03-16T07:52:09.801Z"
   },
   {
    "duration": 13,
    "start_time": "2022-03-16T07:52:09.940Z"
   },
   {
    "duration": 34,
    "start_time": "2022-03-16T07:52:09.956Z"
   },
   {
    "duration": 15,
    "start_time": "2022-03-16T07:52:09.992Z"
   },
   {
    "duration": 53,
    "start_time": "2022-03-16T07:52:10.009Z"
   },
   {
    "duration": 507,
    "start_time": "2022-03-16T07:52:10.088Z"
   },
   {
    "duration": 48,
    "start_time": "2022-03-16T07:52:10.597Z"
   },
   {
    "duration": 47,
    "start_time": "2022-03-16T07:52:17.875Z"
   },
   {
    "duration": 45,
    "start_time": "2022-03-16T08:07:28.933Z"
   },
   {
    "duration": 60,
    "start_time": "2022-03-16T08:07:36.882Z"
   },
   {
    "duration": 1143,
    "start_time": "2022-03-16T08:08:40.290Z"
   },
   {
    "duration": 175,
    "start_time": "2022-03-16T08:08:41.437Z"
   },
   {
    "duration": 15,
    "start_time": "2022-03-16T08:08:41.615Z"
   },
   {
    "duration": 127,
    "start_time": "2022-03-16T08:08:41.633Z"
   },
   {
    "duration": 34,
    "start_time": "2022-03-16T08:08:41.763Z"
   },
   {
    "duration": 19,
    "start_time": "2022-03-16T08:08:41.800Z"
   },
   {
    "duration": 160,
    "start_time": "2022-03-16T08:08:41.822Z"
   },
   {
    "duration": 151,
    "start_time": "2022-03-16T08:08:41.989Z"
   },
   {
    "duration": 143,
    "start_time": "2022-03-16T08:08:42.144Z"
   },
   {
    "duration": 15,
    "start_time": "2022-03-16T08:08:42.289Z"
   },
   {
    "duration": 13,
    "start_time": "2022-03-16T08:08:42.306Z"
   },
   {
    "duration": 13,
    "start_time": "2022-03-16T08:08:42.322Z"
   },
   {
    "duration": 80,
    "start_time": "2022-03-16T08:08:42.337Z"
   },
   {
    "duration": 508,
    "start_time": "2022-03-16T08:08:42.420Z"
   },
   {
    "duration": 75,
    "start_time": "2022-03-16T08:08:42.931Z"
   },
   {
    "duration": 933,
    "start_time": "2022-03-16T08:09:00.556Z"
   },
   {
    "duration": 175,
    "start_time": "2022-03-16T08:09:01.492Z"
   },
   {
    "duration": 24,
    "start_time": "2022-03-16T08:09:01.670Z"
   },
   {
    "duration": 123,
    "start_time": "2022-03-16T08:09:01.697Z"
   },
   {
    "duration": 32,
    "start_time": "2022-03-16T08:09:01.822Z"
   },
   {
    "duration": 43,
    "start_time": "2022-03-16T08:09:01.856Z"
   },
   {
    "duration": 233,
    "start_time": "2022-03-16T08:09:01.902Z"
   },
   {
    "duration": 163,
    "start_time": "2022-03-16T08:09:02.139Z"
   },
   {
    "duration": 142,
    "start_time": "2022-03-16T08:09:02.305Z"
   },
   {
    "duration": 13,
    "start_time": "2022-03-16T08:09:02.450Z"
   },
   {
    "duration": 29,
    "start_time": "2022-03-16T08:09:02.466Z"
   },
   {
    "duration": 14,
    "start_time": "2022-03-16T08:09:02.498Z"
   },
   {
    "duration": 78,
    "start_time": "2022-03-16T08:09:02.515Z"
   },
   {
    "duration": 758,
    "start_time": "2022-03-16T08:09:02.597Z"
   },
   {
    "duration": 74,
    "start_time": "2022-03-16T08:09:03.359Z"
   },
   {
    "duration": 798,
    "start_time": "2022-03-16T08:09:24.327Z"
   },
   {
    "duration": 181,
    "start_time": "2022-03-16T08:09:25.128Z"
   },
   {
    "duration": 16,
    "start_time": "2022-03-16T08:09:25.312Z"
   },
   {
    "duration": 121,
    "start_time": "2022-03-16T08:09:25.331Z"
   },
   {
    "duration": 39,
    "start_time": "2022-03-16T08:09:25.454Z"
   },
   {
    "duration": 22,
    "start_time": "2022-03-16T08:09:25.496Z"
   },
   {
    "duration": 141,
    "start_time": "2022-03-16T08:09:25.520Z"
   },
   {
    "duration": 159,
    "start_time": "2022-03-16T08:09:25.665Z"
   },
   {
    "duration": 133,
    "start_time": "2022-03-16T08:09:25.827Z"
   },
   {
    "duration": 24,
    "start_time": "2022-03-16T08:09:25.963Z"
   },
   {
    "duration": 12,
    "start_time": "2022-03-16T08:09:25.989Z"
   },
   {
    "duration": 13,
    "start_time": "2022-03-16T08:09:26.004Z"
   },
   {
    "duration": 76,
    "start_time": "2022-03-16T08:09:26.019Z"
   },
   {
    "duration": 495,
    "start_time": "2022-03-16T08:09:26.098Z"
   },
   {
    "duration": 63,
    "start_time": "2022-03-16T08:09:26.596Z"
   },
   {
    "duration": 10,
    "start_time": "2022-03-16T08:11:04.706Z"
   },
   {
    "duration": 14,
    "start_time": "2022-03-16T08:12:10.298Z"
   },
   {
    "duration": 31,
    "start_time": "2022-03-16T08:45:11.061Z"
   },
   {
    "duration": 14,
    "start_time": "2022-03-16T08:50:17.002Z"
   },
   {
    "duration": 30,
    "start_time": "2022-03-16T08:51:01.115Z"
   },
   {
    "duration": 32,
    "start_time": "2022-03-16T08:52:19.121Z"
   },
   {
    "duration": 71,
    "start_time": "2022-03-16T08:53:16.324Z"
   },
   {
    "duration": 31,
    "start_time": "2022-03-16T08:55:58.018Z"
   },
   {
    "duration": 717,
    "start_time": "2022-03-16T08:56:38.979Z"
   },
   {
    "duration": 301,
    "start_time": "2022-03-16T08:57:03.788Z"
   },
   {
    "duration": 349,
    "start_time": "2022-03-16T08:57:14.639Z"
   },
   {
    "duration": 290,
    "start_time": "2022-03-16T08:58:11.603Z"
   },
   {
    "duration": 310,
    "start_time": "2022-03-16T08:59:35.886Z"
   },
   {
    "duration": 314,
    "start_time": "2022-03-16T08:59:51.198Z"
   },
   {
    "duration": 315,
    "start_time": "2022-03-16T09:00:04.599Z"
   },
   {
    "duration": 295,
    "start_time": "2022-03-16T09:00:19.067Z"
   },
   {
    "duration": 346,
    "start_time": "2022-03-16T09:02:41.582Z"
   },
   {
    "duration": 43,
    "start_time": "2022-03-16T09:05:15.361Z"
   },
   {
    "duration": 31,
    "start_time": "2022-03-16T09:05:36.360Z"
   },
   {
    "duration": 50,
    "start_time": "2022-03-16T09:07:27.901Z"
   },
   {
    "duration": 317,
    "start_time": "2022-03-16T09:08:21.128Z"
   },
   {
    "duration": 477,
    "start_time": "2022-03-16T09:10:16.448Z"
   },
   {
    "duration": 318,
    "start_time": "2022-03-16T09:24:56.202Z"
   },
   {
    "duration": 347,
    "start_time": "2022-03-16T09:25:42.151Z"
   },
   {
    "duration": 67,
    "start_time": "2022-03-16T09:28:55.660Z"
   },
   {
    "duration": 67,
    "start_time": "2022-03-16T09:29:20.937Z"
   },
   {
    "duration": 32,
    "start_time": "2022-03-16T09:29:41.225Z"
   },
   {
    "duration": 65,
    "start_time": "2022-03-16T09:30:35.724Z"
   },
   {
    "duration": 62,
    "start_time": "2022-03-16T09:30:53.611Z"
   },
   {
    "duration": 64,
    "start_time": "2022-03-16T09:31:08.333Z"
   },
   {
    "duration": 69,
    "start_time": "2022-03-16T09:31:22.266Z"
   },
   {
    "duration": 856,
    "start_time": "2022-03-16T09:31:59.154Z"
   },
   {
    "duration": 173,
    "start_time": "2022-03-16T09:32:00.012Z"
   },
   {
    "duration": 16,
    "start_time": "2022-03-16T09:32:00.188Z"
   },
   {
    "duration": 124,
    "start_time": "2022-03-16T09:32:00.207Z"
   },
   {
    "duration": 32,
    "start_time": "2022-03-16T09:32:00.333Z"
   },
   {
    "duration": 36,
    "start_time": "2022-03-16T09:32:00.367Z"
   },
   {
    "duration": 149,
    "start_time": "2022-03-16T09:32:00.405Z"
   },
   {
    "duration": 155,
    "start_time": "2022-03-16T09:32:00.558Z"
   },
   {
    "duration": 144,
    "start_time": "2022-03-16T09:32:00.715Z"
   },
   {
    "duration": 11,
    "start_time": "2022-03-16T09:32:00.861Z"
   },
   {
    "duration": 13,
    "start_time": "2022-03-16T09:32:00.887Z"
   },
   {
    "duration": 60,
    "start_time": "2022-03-16T09:32:00.903Z"
   },
   {
    "duration": 501,
    "start_time": "2022-03-16T09:32:00.966Z"
   },
   {
    "duration": 75,
    "start_time": "2022-03-16T09:32:01.469Z"
   },
   {
    "duration": 58,
    "start_time": "2022-03-16T09:32:01.547Z"
   },
   {
    "duration": 29,
    "start_time": "2022-03-16T09:32:01.608Z"
   },
   {
    "duration": 91,
    "start_time": "2022-03-16T09:32:01.640Z"
   },
   {
    "duration": 75,
    "start_time": "2022-03-16T09:39:36.787Z"
   },
   {
    "duration": 74,
    "start_time": "2022-03-16T09:39:53.060Z"
   },
   {
    "duration": 77,
    "start_time": "2022-03-16T09:40:00.377Z"
   },
   {
    "duration": 74,
    "start_time": "2022-03-16T09:40:07.314Z"
   },
   {
    "duration": 447,
    "start_time": "2022-03-16T09:48:35.527Z"
   },
   {
    "duration": 79,
    "start_time": "2022-03-16T09:48:45.239Z"
   },
   {
    "duration": 78,
    "start_time": "2022-03-16T09:48:57.687Z"
   },
   {
    "duration": 74,
    "start_time": "2022-03-16T09:49:08.758Z"
   },
   {
    "duration": 270,
    "start_time": "2022-03-16T09:49:33.566Z"
   },
   {
    "duration": 243,
    "start_time": "2022-03-16T09:50:17.603Z"
   },
   {
    "duration": 237,
    "start_time": "2022-03-16T09:55:37.946Z"
   },
   {
    "duration": 74,
    "start_time": "2022-03-16T09:56:22.469Z"
   },
   {
    "duration": 95,
    "start_time": "2022-03-16T09:56:32.451Z"
   },
   {
    "duration": 625,
    "start_time": "2022-03-16T09:56:38.011Z"
   },
   {
    "duration": 739,
    "start_time": "2022-03-17T12:52:36.127Z"
   },
   {
    "duration": 166,
    "start_time": "2022-03-17T12:52:36.868Z"
   },
   {
    "duration": 8,
    "start_time": "2022-03-17T12:52:37.036Z"
   },
   {
    "duration": 116,
    "start_time": "2022-03-17T12:52:37.046Z"
   },
   {
    "duration": 23,
    "start_time": "2022-03-17T12:52:37.164Z"
   },
   {
    "duration": 16,
    "start_time": "2022-03-17T12:52:37.189Z"
   },
   {
    "duration": 90,
    "start_time": "2022-03-17T12:52:37.207Z"
   },
   {
    "duration": 96,
    "start_time": "2022-03-17T12:52:37.299Z"
   },
   {
    "duration": 94,
    "start_time": "2022-03-17T12:52:37.396Z"
   },
   {
    "duration": 11,
    "start_time": "2022-03-17T12:52:37.491Z"
   },
   {
    "duration": 8,
    "start_time": "2022-03-17T12:52:37.503Z"
   },
   {
    "duration": 33,
    "start_time": "2022-03-17T12:52:37.512Z"
   },
   {
    "duration": 241,
    "start_time": "2022-03-17T12:52:37.547Z"
   },
   {
    "duration": 46,
    "start_time": "2022-03-17T12:52:37.790Z"
   },
   {
    "duration": 44,
    "start_time": "2022-03-17T12:52:37.837Z"
   },
   {
    "duration": 22,
    "start_time": "2022-03-17T12:52:37.883Z"
   },
   {
    "duration": 92,
    "start_time": "2022-03-17T12:52:37.906Z"
   },
   {
    "duration": 4,
    "start_time": "2022-03-17T12:53:37.241Z"
   },
   {
    "duration": 4,
    "start_time": "2022-03-17T13:05:02.240Z"
   },
   {
    "duration": 3,
    "start_time": "2022-03-17T13:05:23.308Z"
   },
   {
    "duration": 12,
    "start_time": "2022-03-17T13:06:00.837Z"
   },
   {
    "duration": 70,
    "start_time": "2022-03-17T13:06:45.728Z"
   },
   {
    "duration": 8,
    "start_time": "2022-03-17T13:07:04.908Z"
   },
   {
    "duration": 10,
    "start_time": "2022-03-17T13:14:53.099Z"
   },
   {
    "duration": 11,
    "start_time": "2022-03-17T13:19:06.564Z"
   },
   {
    "duration": 11,
    "start_time": "2022-03-17T13:20:01.100Z"
   },
   {
    "duration": 93,
    "start_time": "2022-03-17T13:20:41.142Z"
   },
   {
    "duration": 134,
    "start_time": "2022-03-17T13:21:12.631Z"
   },
   {
    "duration": 9,
    "start_time": "2022-03-17T13:23:04.259Z"
   },
   {
    "duration": 9,
    "start_time": "2022-03-17T13:23:12.957Z"
   },
   {
    "duration": 104,
    "start_time": "2022-03-17T13:24:12.986Z"
   },
   {
    "duration": 299,
    "start_time": "2022-03-17T13:24:45.502Z"
   },
   {
    "duration": 181,
    "start_time": "2022-03-17T13:24:49.815Z"
   },
   {
    "duration": 209,
    "start_time": "2022-03-17T13:25:01.350Z"
   },
   {
    "duration": 10,
    "start_time": "2022-03-17T13:25:13.669Z"
   },
   {
    "duration": 113,
    "start_time": "2022-03-17T13:25:31.794Z"
   },
   {
    "duration": 12,
    "start_time": "2022-03-17T13:26:07.146Z"
   },
   {
    "duration": 10,
    "start_time": "2022-03-17T13:26:21.797Z"
   },
   {
    "duration": 10,
    "start_time": "2022-03-17T13:26:33.497Z"
   },
   {
    "duration": 10,
    "start_time": "2022-03-17T13:26:37.214Z"
   },
   {
    "duration": 110,
    "start_time": "2022-03-17T13:26:52.224Z"
   },
   {
    "duration": 119,
    "start_time": "2022-03-17T13:27:00.180Z"
   },
   {
    "duration": 15,
    "start_time": "2022-03-17T13:27:37.840Z"
   },
   {
    "duration": 15,
    "start_time": "2022-03-17T13:27:58.429Z"
   },
   {
    "duration": 10,
    "start_time": "2022-03-17T13:28:31.693Z"
   },
   {
    "duration": 18,
    "start_time": "2022-03-17T13:30:24.687Z"
   },
   {
    "duration": 675,
    "start_time": "2022-03-17T13:30:30.039Z"
   },
   {
    "duration": 160,
    "start_time": "2022-03-17T13:30:30.716Z"
   },
   {
    "duration": 8,
    "start_time": "2022-03-17T13:30:30.881Z"
   },
   {
    "duration": 96,
    "start_time": "2022-03-17T13:30:30.891Z"
   },
   {
    "duration": 26,
    "start_time": "2022-03-17T13:30:30.989Z"
   },
   {
    "duration": 28,
    "start_time": "2022-03-17T13:30:31.017Z"
   },
   {
    "duration": 103,
    "start_time": "2022-03-17T13:30:31.046Z"
   },
   {
    "duration": 109,
    "start_time": "2022-03-17T13:30:31.151Z"
   },
   {
    "duration": 102,
    "start_time": "2022-03-17T13:30:31.262Z"
   },
   {
    "duration": 19,
    "start_time": "2022-03-17T13:30:31.366Z"
   },
   {
    "duration": 8,
    "start_time": "2022-03-17T13:30:31.386Z"
   },
   {
    "duration": 35,
    "start_time": "2022-03-17T13:30:31.395Z"
   },
   {
    "duration": 243,
    "start_time": "2022-03-17T13:30:31.431Z"
   },
   {
    "duration": 48,
    "start_time": "2022-03-17T13:30:31.676Z"
   },
   {
    "duration": 33,
    "start_time": "2022-03-17T13:30:31.726Z"
   },
   {
    "duration": 40,
    "start_time": "2022-03-17T13:30:31.760Z"
   },
   {
    "duration": 98,
    "start_time": "2022-03-17T13:30:31.801Z"
   },
   {
    "duration": 144,
    "start_time": "2022-03-17T13:30:31.900Z"
   },
   {
    "duration": 164,
    "start_time": "2022-03-17T13:31:22.158Z"
   },
   {
    "duration": 130,
    "start_time": "2022-03-17T13:33:07.663Z"
   },
   {
    "duration": 125,
    "start_time": "2022-03-17T13:33:13.649Z"
   },
   {
    "duration": 32,
    "start_time": "2022-03-17T13:57:22.001Z"
   },
   {
    "duration": 12,
    "start_time": "2022-03-17T14:09:09.373Z"
   },
   {
    "duration": 19,
    "start_time": "2022-03-17T14:09:24.430Z"
   },
   {
    "duration": 20,
    "start_time": "2022-03-17T14:09:35.102Z"
   },
   {
    "duration": 18,
    "start_time": "2022-03-17T14:09:45.850Z"
   },
   {
    "duration": 46,
    "start_time": "2022-03-17T14:28:24.091Z"
   },
   {
    "duration": 71,
    "start_time": "2022-03-17T14:31:26.470Z"
   },
   {
    "duration": 357,
    "start_time": "2022-03-17T14:31:39.489Z"
   },
   {
    "duration": 26,
    "start_time": "2022-03-17T14:31:44.738Z"
   },
   {
    "duration": 471,
    "start_time": "2022-03-17T14:31:57.744Z"
   },
   {
    "duration": 28,
    "start_time": "2022-03-17T14:36:15.575Z"
   },
   {
    "duration": 36,
    "start_time": "2022-03-17T14:38:18.230Z"
   },
   {
    "duration": 8,
    "start_time": "2022-03-17T14:39:57.493Z"
   },
   {
    "duration": 41,
    "start_time": "2022-03-17T14:41:15.235Z"
   },
   {
    "duration": 111,
    "start_time": "2022-03-17T14:41:34.387Z"
   },
   {
    "duration": 33,
    "start_time": "2022-03-17T14:43:25.082Z"
   },
   {
    "duration": 3,
    "start_time": "2022-03-17T14:43:51.913Z"
   },
   {
    "duration": 76,
    "start_time": "2022-03-17T14:43:56.610Z"
   },
   {
    "duration": 3779,
    "start_time": "2022-03-17T14:56:35.435Z"
   },
   {
    "duration": 38,
    "start_time": "2022-03-17T14:56:46.321Z"
   },
   {
    "duration": 3445,
    "start_time": "2022-03-17T14:57:52.641Z"
   },
   {
    "duration": 5482,
    "start_time": "2022-03-17T14:58:01.073Z"
   },
   {
    "duration": 1031,
    "start_time": "2022-03-17T14:58:13.069Z"
   },
   {
    "duration": 167,
    "start_time": "2022-03-17T14:58:14.103Z"
   },
   {
    "duration": 12,
    "start_time": "2022-03-17T14:58:14.272Z"
   },
   {
    "duration": 106,
    "start_time": "2022-03-17T14:58:14.287Z"
   },
   {
    "duration": 42,
    "start_time": "2022-03-17T14:58:14.394Z"
   },
   {
    "duration": 26,
    "start_time": "2022-03-17T14:58:14.438Z"
   },
   {
    "duration": 104,
    "start_time": "2022-03-17T14:58:14.466Z"
   },
   {
    "duration": 88,
    "start_time": "2022-03-17T14:58:14.580Z"
   },
   {
    "duration": 104,
    "start_time": "2022-03-17T14:58:14.669Z"
   },
   {
    "duration": 10,
    "start_time": "2022-03-17T14:58:14.781Z"
   },
   {
    "duration": 9,
    "start_time": "2022-03-17T14:58:14.792Z"
   },
   {
    "duration": 32,
    "start_time": "2022-03-17T14:58:14.803Z"
   },
   {
    "duration": 247,
    "start_time": "2022-03-17T14:58:14.836Z"
   },
   {
    "duration": 48,
    "start_time": "2022-03-17T14:58:15.084Z"
   },
   {
    "duration": 49,
    "start_time": "2022-03-17T14:58:15.133Z"
   },
   {
    "duration": 23,
    "start_time": "2022-03-17T14:58:15.184Z"
   },
   {
    "duration": 103,
    "start_time": "2022-03-17T14:58:15.209Z"
   },
   {
    "duration": 135,
    "start_time": "2022-03-17T14:58:15.314Z"
   },
   {
    "duration": 9,
    "start_time": "2022-03-17T14:58:15.450Z"
   },
   {
    "duration": 3830,
    "start_time": "2022-03-17T14:58:15.460Z"
   },
   {
    "duration": 0,
    "start_time": "2022-03-17T14:58:19.292Z"
   },
   {
    "duration": 0,
    "start_time": "2022-03-17T14:58:19.293Z"
   },
   {
    "duration": 0,
    "start_time": "2022-03-17T14:58:19.295Z"
   },
   {
    "duration": 1771,
    "start_time": "2022-03-18T08:32:21.447Z"
   },
   {
    "duration": 218,
    "start_time": "2022-03-18T08:32:23.221Z"
   },
   {
    "duration": 12,
    "start_time": "2022-03-18T08:32:23.441Z"
   },
   {
    "duration": 146,
    "start_time": "2022-03-18T08:32:23.456Z"
   },
   {
    "duration": 32,
    "start_time": "2022-03-18T08:32:23.606Z"
   },
   {
    "duration": 46,
    "start_time": "2022-03-18T08:32:23.641Z"
   },
   {
    "duration": 224,
    "start_time": "2022-03-18T08:32:23.690Z"
   },
   {
    "duration": 166,
    "start_time": "2022-03-18T08:32:23.917Z"
   },
   {
    "duration": 164,
    "start_time": "2022-03-18T08:32:24.086Z"
   },
   {
    "duration": 37,
    "start_time": "2022-03-18T08:32:24.254Z"
   },
   {
    "duration": 14,
    "start_time": "2022-03-18T08:32:24.293Z"
   },
   {
    "duration": 45,
    "start_time": "2022-03-18T08:32:24.310Z"
   },
   {
    "duration": 459,
    "start_time": "2022-03-18T08:32:24.358Z"
   },
   {
    "duration": 81,
    "start_time": "2022-03-18T08:32:24.820Z"
   },
   {
    "duration": 47,
    "start_time": "2022-03-18T08:32:24.904Z"
   },
   {
    "duration": 79,
    "start_time": "2022-03-18T08:32:24.954Z"
   },
   {
    "duration": 218,
    "start_time": "2022-03-18T08:32:25.036Z"
   },
   {
    "duration": 368,
    "start_time": "2022-03-18T08:32:25.257Z"
   },
   {
    "duration": 13,
    "start_time": "2022-03-18T08:32:25.628Z"
   },
   {
    "duration": 64,
    "start_time": "2022-03-18T08:32:25.644Z"
   },
   {
    "duration": 38,
    "start_time": "2022-03-18T08:32:25.711Z"
   },
   {
    "duration": 884,
    "start_time": "2022-03-18T08:32:25.752Z"
   },
   {
    "duration": 0,
    "start_time": "2022-03-18T08:32:26.638Z"
   },
   {
    "duration": 54,
    "start_time": "2022-03-18T08:32:58.633Z"
   },
   {
    "duration": 48,
    "start_time": "2022-03-18T08:33:31.135Z"
   },
   {
    "duration": 54,
    "start_time": "2022-03-18T08:33:35.080Z"
   },
   {
    "duration": 50,
    "start_time": "2022-03-18T08:35:11.980Z"
   },
   {
    "duration": 47,
    "start_time": "2022-03-18T08:43:50.760Z"
   },
   {
    "duration": 46,
    "start_time": "2022-03-18T08:43:59.589Z"
   },
   {
    "duration": 58,
    "start_time": "2022-03-18T08:44:13.712Z"
   },
   {
    "duration": 59,
    "start_time": "2022-03-18T08:44:16.984Z"
   },
   {
    "duration": 50,
    "start_time": "2022-03-18T08:44:37.073Z"
   },
   {
    "duration": 64,
    "start_time": "2022-03-18T08:44:44.027Z"
   },
   {
    "duration": 43,
    "start_time": "2022-03-18T08:45:33.428Z"
   },
   {
    "duration": 48,
    "start_time": "2022-03-18T08:46:11.869Z"
   },
   {
    "duration": 1226,
    "start_time": "2022-03-18T18:09:53.593Z"
   },
   {
    "duration": 166,
    "start_time": "2022-03-18T18:09:54.820Z"
   },
   {
    "duration": 17,
    "start_time": "2022-03-18T18:09:54.988Z"
   },
   {
    "duration": 80,
    "start_time": "2022-03-18T18:09:55.007Z"
   },
   {
    "duration": 24,
    "start_time": "2022-03-18T18:09:55.101Z"
   },
   {
    "duration": 14,
    "start_time": "2022-03-18T18:09:55.127Z"
   },
   {
    "duration": 104,
    "start_time": "2022-03-18T18:09:55.143Z"
   },
   {
    "duration": 105,
    "start_time": "2022-03-18T18:09:55.249Z"
   },
   {
    "duration": 99,
    "start_time": "2022-03-18T18:09:55.356Z"
   },
   {
    "duration": 10,
    "start_time": "2022-03-18T18:09:55.459Z"
   },
   {
    "duration": 9,
    "start_time": "2022-03-18T18:09:55.470Z"
   },
   {
    "duration": 27,
    "start_time": "2022-03-18T18:09:55.500Z"
   },
   {
    "duration": 229,
    "start_time": "2022-03-18T18:09:55.529Z"
   },
   {
    "duration": 52,
    "start_time": "2022-03-18T18:09:55.760Z"
   },
   {
    "duration": 30,
    "start_time": "2022-03-18T18:09:55.814Z"
   },
   {
    "duration": 23,
    "start_time": "2022-03-18T18:09:55.845Z"
   },
   {
    "duration": 102,
    "start_time": "2022-03-18T18:09:55.870Z"
   },
   {
    "duration": 139,
    "start_time": "2022-03-18T18:09:55.974Z"
   },
   {
    "duration": 8,
    "start_time": "2022-03-18T18:09:56.114Z"
   },
   {
    "duration": 32,
    "start_time": "2022-03-18T18:09:56.124Z"
   },
   {
    "duration": 46,
    "start_time": "2022-03-18T18:09:56.157Z"
   },
   {
    "duration": 73,
    "start_time": "2022-03-18T18:09:56.204Z"
   },
   {
    "duration": 3,
    "start_time": "2022-03-18T18:29:57.585Z"
   },
   {
    "duration": 6,
    "start_time": "2022-03-18T18:41:42.483Z"
   },
   {
    "duration": 85,
    "start_time": "2022-03-18T18:42:01.506Z"
   },
   {
    "duration": 5,
    "start_time": "2022-03-18T18:42:14.260Z"
   },
   {
    "duration": 12,
    "start_time": "2022-03-18T18:42:32.000Z"
   },
   {
    "duration": 31,
    "start_time": "2022-03-18T18:43:08.104Z"
   },
   {
    "duration": 5,
    "start_time": "2022-03-18T18:43:13.089Z"
   },
   {
    "duration": 4,
    "start_time": "2022-03-18T18:43:14.876Z"
   },
   {
    "duration": 4,
    "start_time": "2022-03-18T18:43:22.875Z"
   },
   {
    "duration": 8,
    "start_time": "2022-03-18T18:54:05.848Z"
   },
   {
    "duration": 81,
    "start_time": "2022-03-18T18:57:12.854Z"
   },
   {
    "duration": 71,
    "start_time": "2022-03-18T18:57:28.519Z"
   },
   {
    "duration": 77,
    "start_time": "2022-03-18T18:58:21.739Z"
   },
   {
    "duration": 75,
    "start_time": "2022-03-18T18:58:35.903Z"
   },
   {
    "duration": 204,
    "start_time": "2022-03-18T19:01:56.121Z"
   },
   {
    "duration": 213,
    "start_time": "2022-03-18T19:02:28.796Z"
   },
   {
    "duration": 5,
    "start_time": "2022-03-18T19:02:52.272Z"
   },
   {
    "duration": 4,
    "start_time": "2022-03-18T19:03:40.879Z"
   },
   {
    "duration": 8,
    "start_time": "2022-03-18T19:03:46.769Z"
   },
   {
    "duration": 4,
    "start_time": "2022-03-18T19:05:13.808Z"
   },
   {
    "duration": 6,
    "start_time": "2022-03-18T19:05:22.861Z"
   },
   {
    "duration": 4,
    "start_time": "2022-03-18T19:05:38.761Z"
   },
   {
    "duration": 4,
    "start_time": "2022-03-18T19:08:32.079Z"
   },
   {
    "duration": 6,
    "start_time": "2022-03-18T19:08:37.422Z"
   },
   {
    "duration": 4,
    "start_time": "2022-03-18T19:08:53.697Z"
   },
   {
    "duration": 9,
    "start_time": "2022-03-18T19:08:54.812Z"
   },
   {
    "duration": 11,
    "start_time": "2022-03-18T19:09:11.006Z"
   },
   {
    "duration": 12,
    "start_time": "2022-03-18T19:13:01.384Z"
   },
   {
    "duration": 3,
    "start_time": "2022-03-18T19:25:35.725Z"
   },
   {
    "duration": 5,
    "start_time": "2022-03-18T19:27:23.824Z"
   },
   {
    "duration": 30,
    "start_time": "2022-03-18T19:27:59.227Z"
   },
   {
    "duration": 4,
    "start_time": "2022-03-18T19:28:01.993Z"
   },
   {
    "duration": 31,
    "start_time": "2022-03-18T19:32:09.976Z"
   },
   {
    "duration": 7,
    "start_time": "2022-03-18T19:44:07.890Z"
   },
   {
    "duration": 12,
    "start_time": "2022-03-18T19:51:23.632Z"
   },
   {
    "duration": 2374,
    "start_time": "2022-03-19T14:47:04.549Z"
   },
   {
    "duration": 230,
    "start_time": "2022-03-19T14:47:06.927Z"
   },
   {
    "duration": 21,
    "start_time": "2022-03-19T14:47:07.160Z"
   },
   {
    "duration": 143,
    "start_time": "2022-03-19T14:47:07.186Z"
   },
   {
    "duration": 47,
    "start_time": "2022-03-19T14:47:07.331Z"
   },
   {
    "duration": 27,
    "start_time": "2022-03-19T14:47:07.381Z"
   },
   {
    "duration": 152,
    "start_time": "2022-03-19T14:47:07.410Z"
   },
   {
    "duration": 226,
    "start_time": "2022-03-19T14:47:07.565Z"
   },
   {
    "duration": 195,
    "start_time": "2022-03-19T14:47:07.793Z"
   },
   {
    "duration": 17,
    "start_time": "2022-03-19T14:47:07.994Z"
   },
   {
    "duration": 19,
    "start_time": "2022-03-19T14:47:08.013Z"
   },
   {
    "duration": 73,
    "start_time": "2022-03-19T14:47:08.035Z"
   },
   {
    "duration": 556,
    "start_time": "2022-03-19T14:47:08.111Z"
   },
   {
    "duration": 75,
    "start_time": "2022-03-19T14:47:08.669Z"
   },
   {
    "duration": 70,
    "start_time": "2022-03-19T14:47:08.748Z"
   },
   {
    "duration": 31,
    "start_time": "2022-03-19T14:47:08.821Z"
   },
   {
    "duration": 158,
    "start_time": "2022-03-19T14:47:08.877Z"
   },
   {
    "duration": 265,
    "start_time": "2022-03-19T14:47:09.038Z"
   },
   {
    "duration": 14,
    "start_time": "2022-03-19T14:47:09.306Z"
   },
   {
    "duration": 73,
    "start_time": "2022-03-19T14:47:09.323Z"
   },
   {
    "duration": 7,
    "start_time": "2022-03-19T14:47:09.398Z"
   },
   {
    "duration": 76,
    "start_time": "2022-03-19T14:47:09.408Z"
   },
   {
    "duration": 131,
    "start_time": "2022-03-19T14:47:09.488Z"
   },
   {
    "duration": 8,
    "start_time": "2022-03-19T14:47:09.622Z"
   },
   {
    "duration": 45,
    "start_time": "2022-03-19T14:47:09.633Z"
   },
   {
    "duration": 64,
    "start_time": "2022-03-19T14:47:09.680Z"
   },
   {
    "duration": 10,
    "start_time": "2022-03-19T14:47:09.746Z"
   },
   {
    "duration": 19,
    "start_time": "2022-03-19T14:48:07.341Z"
   },
   {
    "duration": 1639,
    "start_time": "2022-03-19T14:59:27.325Z"
   },
   {
    "duration": 1260,
    "start_time": "2022-03-19T14:59:29.460Z"
   },
   {
    "duration": 0,
    "start_time": "2022-03-19T14:59:30.722Z"
   },
   {
    "duration": 12,
    "start_time": "2022-03-19T14:59:44.280Z"
   },
   {
    "duration": 7,
    "start_time": "2022-03-19T15:00:17.054Z"
   },
   {
    "duration": 5,
    "start_time": "2022-03-19T15:00:41.745Z"
   },
   {
    "duration": 11,
    "start_time": "2022-03-19T15:00:43.589Z"
   },
   {
    "duration": 1598,
    "start_time": "2022-03-19T15:01:10.400Z"
   },
   {
    "duration": 0,
    "start_time": "2022-03-19T15:01:12.000Z"
   },
   {
    "duration": 7,
    "start_time": "2022-03-19T15:01:19.259Z"
   },
   {
    "duration": 12,
    "start_time": "2022-03-19T15:01:20.537Z"
   },
   {
    "duration": 20,
    "start_time": "2022-03-19T15:03:09.108Z"
   },
   {
    "duration": 31,
    "start_time": "2022-03-19T15:03:57.608Z"
   },
   {
    "duration": 31,
    "start_time": "2022-03-19T15:04:50.714Z"
   },
   {
    "duration": 74,
    "start_time": "2022-03-19T15:06:20.904Z"
   },
   {
    "duration": 75,
    "start_time": "2022-03-19T15:06:38.332Z"
   },
   {
    "duration": 75,
    "start_time": "2022-03-19T15:06:45.494Z"
   },
   {
    "duration": 70,
    "start_time": "2022-03-19T15:06:50.517Z"
   },
   {
    "duration": 4,
    "start_time": "2022-03-19T15:07:18.311Z"
   },
   {
    "duration": 115,
    "start_time": "2022-03-19T15:07:33.723Z"
   },
   {
    "duration": 1677,
    "start_time": "2022-03-19T15:08:37.997Z"
   },
   {
    "duration": 7,
    "start_time": "2022-03-19T15:09:05.768Z"
   },
   {
    "duration": 15,
    "start_time": "2022-03-19T15:09:09.365Z"
   },
   {
    "duration": 14,
    "start_time": "2022-03-19T15:10:21.111Z"
   },
   {
    "duration": 15,
    "start_time": "2022-03-19T15:10:27.234Z"
   },
   {
    "duration": 18,
    "start_time": "2022-03-19T15:10:37.151Z"
   },
   {
    "duration": 7,
    "start_time": "2022-03-19T15:24:49.059Z"
   },
   {
    "duration": 8,
    "start_time": "2022-03-19T15:25:32.563Z"
   },
   {
    "duration": 5,
    "start_time": "2022-03-19T15:25:54.445Z"
   },
   {
    "duration": 17,
    "start_time": "2022-03-19T15:25:55.646Z"
   },
   {
    "duration": 12,
    "start_time": "2022-03-19T15:28:29.499Z"
   },
   {
    "duration": 15,
    "start_time": "2022-03-19T15:30:26.126Z"
   },
   {
    "duration": 18,
    "start_time": "2022-03-19T15:30:35.820Z"
   },
   {
    "duration": 20,
    "start_time": "2022-03-19T15:31:07.831Z"
   },
   {
    "duration": 45,
    "start_time": "2022-03-19T15:31:30.361Z"
   },
   {
    "duration": 1371,
    "start_time": "2022-03-19T15:36:11.441Z"
   },
   {
    "duration": 224,
    "start_time": "2022-03-19T15:36:12.814Z"
   },
   {
    "duration": 11,
    "start_time": "2022-03-19T15:36:13.040Z"
   },
   {
    "duration": 150,
    "start_time": "2022-03-19T15:36:13.054Z"
   },
   {
    "duration": 32,
    "start_time": "2022-03-19T15:36:13.207Z"
   },
   {
    "duration": 51,
    "start_time": "2022-03-19T15:36:13.241Z"
   },
   {
    "duration": 155,
    "start_time": "2022-03-19T15:36:13.295Z"
   },
   {
    "duration": 166,
    "start_time": "2022-03-19T15:36:13.452Z"
   },
   {
    "duration": 169,
    "start_time": "2022-03-19T15:36:13.620Z"
   },
   {
    "duration": 14,
    "start_time": "2022-03-19T15:36:13.794Z"
   },
   {
    "duration": 13,
    "start_time": "2022-03-19T15:36:13.810Z"
   },
   {
    "duration": 74,
    "start_time": "2022-03-19T15:36:13.825Z"
   },
   {
    "duration": 449,
    "start_time": "2022-03-19T15:36:13.902Z"
   },
   {
    "duration": 101,
    "start_time": "2022-03-19T15:36:14.354Z"
   },
   {
    "duration": 63,
    "start_time": "2022-03-19T15:36:14.457Z"
   },
   {
    "duration": 32,
    "start_time": "2022-03-19T15:36:14.522Z"
   },
   {
    "duration": 156,
    "start_time": "2022-03-19T15:36:14.574Z"
   },
   {
    "duration": 256,
    "start_time": "2022-03-19T15:36:14.732Z"
   },
   {
    "duration": 14,
    "start_time": "2022-03-19T15:36:14.990Z"
   },
   {
    "duration": 96,
    "start_time": "2022-03-19T15:36:15.006Z"
   },
   {
    "duration": 6,
    "start_time": "2022-03-19T15:36:15.104Z"
   },
   {
    "duration": 63,
    "start_time": "2022-03-19T15:36:15.112Z"
   },
   {
    "duration": 123,
    "start_time": "2022-03-19T15:36:15.183Z"
   },
   {
    "duration": 7,
    "start_time": "2022-03-19T15:36:15.308Z"
   },
   {
    "duration": 31,
    "start_time": "2022-03-19T15:36:15.318Z"
   },
   {
    "duration": 44,
    "start_time": "2022-03-19T15:36:15.351Z"
   },
   {
    "duration": 87,
    "start_time": "2022-03-19T15:36:15.397Z"
   },
   {
    "duration": 6,
    "start_time": "2022-03-19T15:36:15.492Z"
   },
   {
    "duration": 48,
    "start_time": "2022-03-19T15:36:15.501Z"
   },
   {
    "duration": 14,
    "start_time": "2022-03-19T15:43:16.743Z"
   },
   {
    "duration": 38,
    "start_time": "2022-03-19T15:43:29.316Z"
   },
   {
    "duration": 29,
    "start_time": "2022-03-19T15:43:53.768Z"
   },
   {
    "duration": 19,
    "start_time": "2022-03-19T15:44:04.722Z"
   },
   {
    "duration": 40,
    "start_time": "2022-03-19T15:44:32.743Z"
   },
   {
    "duration": 151,
    "start_time": "2022-03-19T15:45:52.261Z"
   },
   {
    "duration": 37,
    "start_time": "2022-03-19T15:45:57.763Z"
   },
   {
    "duration": 10,
    "start_time": "2022-03-19T15:46:02.846Z"
   },
   {
    "duration": 54,
    "start_time": "2022-03-19T15:46:19.962Z"
   },
   {
    "duration": 53,
    "start_time": "2022-03-19T15:46:28.491Z"
   },
   {
    "duration": 76,
    "start_time": "2022-03-19T15:46:38.357Z"
   },
   {
    "duration": 70,
    "start_time": "2022-03-19T15:46:52.116Z"
   },
   {
    "duration": 12,
    "start_time": "2022-03-19T15:47:40.835Z"
   },
   {
    "duration": 16,
    "start_time": "2022-03-19T15:47:58.711Z"
   },
   {
    "duration": 1240,
    "start_time": "2022-03-21T11:53:05.560Z"
   },
   {
    "duration": 158,
    "start_time": "2022-03-21T11:53:06.802Z"
   },
   {
    "duration": 8,
    "start_time": "2022-03-21T11:53:06.963Z"
   },
   {
    "duration": 104,
    "start_time": "2022-03-21T11:53:06.973Z"
   },
   {
    "duration": 26,
    "start_time": "2022-03-21T11:53:07.078Z"
   },
   {
    "duration": 34,
    "start_time": "2022-03-21T11:53:07.105Z"
   },
   {
    "duration": 114,
    "start_time": "2022-03-21T11:53:07.140Z"
   },
   {
    "duration": 97,
    "start_time": "2022-03-21T11:53:07.256Z"
   },
   {
    "duration": 108,
    "start_time": "2022-03-21T11:53:07.363Z"
   },
   {
    "duration": 10,
    "start_time": "2022-03-21T11:53:07.474Z"
   },
   {
    "duration": 14,
    "start_time": "2022-03-21T11:53:07.486Z"
   },
   {
    "duration": 46,
    "start_time": "2022-03-21T11:53:07.501Z"
   },
   {
    "duration": 246,
    "start_time": "2022-03-21T11:53:07.550Z"
   },
   {
    "duration": 47,
    "start_time": "2022-03-21T11:53:07.798Z"
   },
   {
    "duration": 45,
    "start_time": "2022-03-21T11:53:07.847Z"
   },
   {
    "duration": 24,
    "start_time": "2022-03-21T11:53:07.894Z"
   },
   {
    "duration": 111,
    "start_time": "2022-03-21T11:53:07.919Z"
   },
   {
    "duration": 156,
    "start_time": "2022-03-21T11:53:08.032Z"
   },
   {
    "duration": 10,
    "start_time": "2022-03-21T11:53:08.190Z"
   },
   {
    "duration": 66,
    "start_time": "2022-03-21T11:53:08.202Z"
   },
   {
    "duration": 4,
    "start_time": "2022-03-21T11:53:08.270Z"
   },
   {
    "duration": 56,
    "start_time": "2022-03-21T11:53:08.276Z"
   },
   {
    "duration": 78,
    "start_time": "2022-03-21T11:53:08.334Z"
   },
   {
    "duration": 5,
    "start_time": "2022-03-21T11:53:08.415Z"
   },
   {
    "duration": 22,
    "start_time": "2022-03-21T11:53:08.422Z"
   },
   {
    "duration": 23,
    "start_time": "2022-03-21T11:53:08.445Z"
   },
   {
    "duration": 56,
    "start_time": "2022-03-21T11:53:08.470Z"
   },
   {
    "duration": 3,
    "start_time": "2022-03-21T11:53:08.529Z"
   },
   {
    "duration": 43,
    "start_time": "2022-03-21T11:53:08.534Z"
   },
   {
    "duration": 20,
    "start_time": "2022-03-21T11:53:08.578Z"
   },
   {
    "duration": 64,
    "start_time": "2022-03-21T11:53:08.599Z"
   },
   {
    "duration": 11,
    "start_time": "2022-03-21T11:53:08.665Z"
   },
   {
    "duration": 9,
    "start_time": "2022-03-21T11:58:43.934Z"
   },
   {
    "duration": 6,
    "start_time": "2022-03-21T11:59:41.087Z"
   },
   {
    "duration": 7,
    "start_time": "2022-03-21T12:00:53.020Z"
   },
   {
    "duration": 5,
    "start_time": "2022-03-21T12:01:25.784Z"
   },
   {
    "duration": 9,
    "start_time": "2022-03-21T12:01:30.003Z"
   },
   {
    "duration": 6,
    "start_time": "2022-03-21T12:02:06.396Z"
   },
   {
    "duration": 8,
    "start_time": "2022-03-21T12:02:47.754Z"
   },
   {
    "duration": 162,
    "start_time": "2022-03-21T12:03:14.534Z"
   },
   {
    "duration": 6,
    "start_time": "2022-03-21T12:03:19.475Z"
   },
   {
    "duration": 7,
    "start_time": "2022-03-21T12:03:33.192Z"
   },
   {
    "duration": 1141,
    "start_time": "2022-03-21T12:04:49.059Z"
   },
   {
    "duration": 163,
    "start_time": "2022-03-21T12:04:50.202Z"
   },
   {
    "duration": 9,
    "start_time": "2022-03-21T12:04:50.367Z"
   },
   {
    "duration": 101,
    "start_time": "2022-03-21T12:04:50.378Z"
   },
   {
    "duration": 25,
    "start_time": "2022-03-21T12:04:50.481Z"
   },
   {
    "duration": 16,
    "start_time": "2022-03-21T12:04:50.507Z"
   },
   {
    "duration": 108,
    "start_time": "2022-03-21T12:04:50.524Z"
   },
   {
    "duration": 110,
    "start_time": "2022-03-21T12:04:50.634Z"
   },
   {
    "duration": 146,
    "start_time": "2022-03-21T12:04:50.745Z"
   },
   {
    "duration": 15,
    "start_time": "2022-03-21T12:04:50.895Z"
   },
   {
    "duration": 13,
    "start_time": "2022-03-21T12:04:50.912Z"
   },
   {
    "duration": 50,
    "start_time": "2022-03-21T12:04:50.926Z"
   },
   {
    "duration": 264,
    "start_time": "2022-03-21T12:04:50.978Z"
   },
   {
    "duration": 63,
    "start_time": "2022-03-21T12:04:51.244Z"
   },
   {
    "duration": 34,
    "start_time": "2022-03-21T12:04:51.309Z"
   },
   {
    "duration": 37,
    "start_time": "2022-03-21T12:04:51.345Z"
   },
   {
    "duration": 108,
    "start_time": "2022-03-21T12:04:51.383Z"
   },
   {
    "duration": 154,
    "start_time": "2022-03-21T12:04:51.492Z"
   },
   {
    "duration": 16,
    "start_time": "2022-03-21T12:04:51.649Z"
   },
   {
    "duration": 43,
    "start_time": "2022-03-21T12:04:51.668Z"
   },
   {
    "duration": 5,
    "start_time": "2022-03-21T12:04:51.713Z"
   },
   {
    "duration": 57,
    "start_time": "2022-03-21T12:04:51.721Z"
   },
   {
    "duration": 127,
    "start_time": "2022-03-21T12:04:51.780Z"
   },
   {
    "duration": 5,
    "start_time": "2022-03-21T12:04:51.909Z"
   },
   {
    "duration": 19,
    "start_time": "2022-03-21T12:04:51.916Z"
   },
   {
    "duration": 31,
    "start_time": "2022-03-21T12:04:51.937Z"
   },
   {
    "duration": 52,
    "start_time": "2022-03-21T12:04:51.970Z"
   },
   {
    "duration": 4,
    "start_time": "2022-03-21T12:04:52.025Z"
   },
   {
    "duration": 49,
    "start_time": "2022-03-21T12:04:52.031Z"
   },
   {
    "duration": 21,
    "start_time": "2022-03-21T12:04:52.081Z"
   },
   {
    "duration": 78,
    "start_time": "2022-03-21T12:04:52.105Z"
   },
   {
    "duration": 9,
    "start_time": "2022-03-21T12:04:52.185Z"
   },
   {
    "duration": 8,
    "start_time": "2022-03-21T12:04:52.195Z"
   },
   {
    "duration": 9,
    "start_time": "2022-03-21T12:04:52.205Z"
   },
   {
    "duration": 7,
    "start_time": "2022-03-21T12:05:19.112Z"
   },
   {
    "duration": 10,
    "start_time": "2022-03-21T12:05:23.921Z"
   },
   {
    "duration": 2761,
    "start_time": "2022-03-21T12:06:10.258Z"
   },
   {
    "duration": 2697,
    "start_time": "2022-03-21T12:06:25.692Z"
   },
   {
    "duration": 10,
    "start_time": "2022-03-21T12:06:43.878Z"
   },
   {
    "duration": 2712,
    "start_time": "2022-03-21T12:07:13.313Z"
   },
   {
    "duration": 5,
    "start_time": "2022-03-21T12:07:23.091Z"
   },
   {
    "duration": 9,
    "start_time": "2022-03-21T12:07:27.193Z"
   },
   {
    "duration": 7,
    "start_time": "2022-03-21T12:07:39.381Z"
   },
   {
    "duration": 6,
    "start_time": "2022-03-21T12:07:46.089Z"
   },
   {
    "duration": 11,
    "start_time": "2022-03-21T12:08:01.384Z"
   },
   {
    "duration": 11,
    "start_time": "2022-03-21T12:09:03.185Z"
   },
   {
    "duration": 10,
    "start_time": "2022-03-21T12:10:41.026Z"
   },
   {
    "duration": 6,
    "start_time": "2022-03-21T12:10:49.311Z"
   },
   {
    "duration": 8,
    "start_time": "2022-03-21T12:11:05.895Z"
   },
   {
    "duration": 9,
    "start_time": "2022-03-21T12:11:30.817Z"
   },
   {
    "duration": 12,
    "start_time": "2022-03-21T12:11:42.450Z"
   },
   {
    "duration": 10,
    "start_time": "2022-03-21T12:12:16.020Z"
   },
   {
    "duration": 9,
    "start_time": "2022-03-21T12:13:21.342Z"
   },
   {
    "duration": 32,
    "start_time": "2022-03-21T12:13:32.435Z"
   },
   {
    "duration": 27,
    "start_time": "2022-03-21T12:13:35.878Z"
   },
   {
    "duration": 71,
    "start_time": "2022-03-21T12:20:19.021Z"
   },
   {
    "duration": 21,
    "start_time": "2022-03-21T12:20:48.173Z"
   },
   {
    "duration": 9,
    "start_time": "2022-03-21T12:25:02.429Z"
   },
   {
    "duration": 9,
    "start_time": "2022-03-21T12:25:05.888Z"
   },
   {
    "duration": 8,
    "start_time": "2022-03-21T12:25:11.696Z"
   },
   {
    "duration": 25,
    "start_time": "2022-03-21T12:27:48.115Z"
   },
   {
    "duration": 32,
    "start_time": "2022-03-21T12:48:35.027Z"
   },
   {
    "duration": 1440,
    "start_time": "2022-03-21T12:48:44.261Z"
   },
   {
    "duration": 165,
    "start_time": "2022-03-21T12:48:45.703Z"
   },
   {
    "duration": 9,
    "start_time": "2022-03-21T12:48:45.869Z"
   },
   {
    "duration": 108,
    "start_time": "2022-03-21T12:48:45.880Z"
   },
   {
    "duration": 28,
    "start_time": "2022-03-21T12:48:45.990Z"
   },
   {
    "duration": 22,
    "start_time": "2022-03-21T12:48:46.020Z"
   },
   {
    "duration": 108,
    "start_time": "2022-03-21T12:48:46.044Z"
   },
   {
    "duration": 120,
    "start_time": "2022-03-21T12:48:46.154Z"
   },
   {
    "duration": 118,
    "start_time": "2022-03-21T12:48:46.276Z"
   },
   {
    "duration": 10,
    "start_time": "2022-03-21T12:48:46.397Z"
   },
   {
    "duration": 10,
    "start_time": "2022-03-21T12:48:46.408Z"
   },
   {
    "duration": 47,
    "start_time": "2022-03-21T12:48:46.420Z"
   },
   {
    "duration": 244,
    "start_time": "2022-03-21T12:48:46.469Z"
   },
   {
    "duration": 61,
    "start_time": "2022-03-21T12:48:46.715Z"
   },
   {
    "duration": 35,
    "start_time": "2022-03-21T12:48:46.778Z"
   },
   {
    "duration": 24,
    "start_time": "2022-03-21T12:48:46.814Z"
   },
   {
    "duration": 124,
    "start_time": "2022-03-21T12:48:46.840Z"
   },
   {
    "duration": 159,
    "start_time": "2022-03-21T12:48:46.966Z"
   },
   {
    "duration": 10,
    "start_time": "2022-03-21T12:48:47.127Z"
   },
   {
    "duration": 48,
    "start_time": "2022-03-21T12:48:47.139Z"
   },
   {
    "duration": 4,
    "start_time": "2022-03-21T12:48:47.189Z"
   },
   {
    "duration": 41,
    "start_time": "2022-03-21T12:48:47.195Z"
   },
   {
    "duration": 92,
    "start_time": "2022-03-21T12:48:47.238Z"
   },
   {
    "duration": 5,
    "start_time": "2022-03-21T12:48:47.332Z"
   },
   {
    "duration": 27,
    "start_time": "2022-03-21T12:48:47.338Z"
   },
   {
    "duration": 12,
    "start_time": "2022-03-21T12:48:47.367Z"
   },
   {
    "duration": 46,
    "start_time": "2022-03-21T12:48:47.380Z"
   },
   {
    "duration": 4,
    "start_time": "2022-03-21T12:48:47.429Z"
   },
   {
    "duration": 52,
    "start_time": "2022-03-21T12:48:47.434Z"
   },
   {
    "duration": 20,
    "start_time": "2022-03-21T12:48:47.488Z"
   },
   {
    "duration": 74,
    "start_time": "2022-03-21T12:48:47.510Z"
   },
   {
    "duration": 10,
    "start_time": "2022-03-21T12:48:47.586Z"
   },
   {
    "duration": 13,
    "start_time": "2022-03-21T12:48:47.597Z"
   },
   {
    "duration": 33,
    "start_time": "2022-03-21T12:48:47.612Z"
   },
   {
    "duration": 28,
    "start_time": "2022-03-21T12:49:02.572Z"
   },
   {
    "duration": 22,
    "start_time": "2022-03-21T12:50:23.918Z"
   },
   {
    "duration": 23,
    "start_time": "2022-03-21T12:50:44.230Z"
   },
   {
    "duration": 27,
    "start_time": "2022-03-21T12:51:21.913Z"
   },
   {
    "duration": 157,
    "start_time": "2022-03-21T12:51:31.610Z"
   },
   {
    "duration": 22,
    "start_time": "2022-03-21T12:51:36.988Z"
   },
   {
    "duration": 20,
    "start_time": "2022-03-21T12:51:49.031Z"
   },
   {
    "duration": 19,
    "start_time": "2022-03-21T12:52:06.079Z"
   },
   {
    "duration": 20,
    "start_time": "2022-03-21T12:52:32.637Z"
   },
   {
    "duration": 21,
    "start_time": "2022-03-21T12:52:37.103Z"
   },
   {
    "duration": 542,
    "start_time": "2022-03-21T12:52:57.077Z"
   },
   {
    "duration": 499,
    "start_time": "2022-03-21T12:53:03.921Z"
   },
   {
    "duration": 582,
    "start_time": "2022-03-21T12:53:13.150Z"
   },
   {
    "duration": 104,
    "start_time": "2022-03-21T12:53:58.414Z"
   },
   {
    "duration": 35,
    "start_time": "2022-03-21T12:54:08.228Z"
   },
   {
    "duration": 27,
    "start_time": "2022-03-21T12:54:48.276Z"
   },
   {
    "duration": 29,
    "start_time": "2022-03-21T12:55:02.339Z"
   },
   {
    "duration": 21,
    "start_time": "2022-03-21T12:55:08.882Z"
   },
   {
    "duration": 22,
    "start_time": "2022-03-21T12:58:32.663Z"
   },
   {
    "duration": 18,
    "start_time": "2022-03-21T13:01:44.640Z"
   },
   {
    "duration": 29,
    "start_time": "2022-03-21T13:01:48.250Z"
   },
   {
    "duration": 18,
    "start_time": "2022-03-21T13:02:01.320Z"
   },
   {
    "duration": 29,
    "start_time": "2022-03-21T13:02:21.512Z"
   },
   {
    "duration": 29,
    "start_time": "2022-03-21T13:02:29.089Z"
   },
   {
    "duration": 34,
    "start_time": "2022-03-21T13:03:06.569Z"
   },
   {
    "duration": 25,
    "start_time": "2022-03-21T13:04:41.674Z"
   },
   {
    "duration": 28,
    "start_time": "2022-03-21T13:04:52.648Z"
   },
   {
    "duration": 604,
    "start_time": "2022-03-21T13:05:24.636Z"
   },
   {
    "duration": 25,
    "start_time": "2022-03-21T13:05:47.669Z"
   },
   {
    "duration": 30,
    "start_time": "2022-03-21T13:06:07.752Z"
   },
   {
    "duration": 75,
    "start_time": "2022-03-21T13:08:16.955Z"
   },
   {
    "duration": 66,
    "start_time": "2022-03-21T13:08:51.107Z"
   },
   {
    "duration": 78,
    "start_time": "2022-03-21T13:10:05.443Z"
   },
   {
    "duration": 84,
    "start_time": "2022-03-21T13:10:07.611Z"
   },
   {
    "duration": 180,
    "start_time": "2022-03-21T13:11:58.586Z"
   },
   {
    "duration": 53,
    "start_time": "2022-03-21T13:15:12.988Z"
   },
   {
    "duration": 249,
    "start_time": "2022-03-21T13:15:26.742Z"
   },
   {
    "duration": 14,
    "start_time": "2022-03-21T13:20:19.902Z"
   },
   {
    "duration": 13,
    "start_time": "2022-03-21T13:30:42.697Z"
   },
   {
    "duration": 145,
    "start_time": "2022-03-21T13:35:05.528Z"
   },
   {
    "duration": 144,
    "start_time": "2022-03-21T13:36:00.984Z"
   },
   {
    "duration": 13,
    "start_time": "2022-03-21T13:36:07.628Z"
   },
   {
    "duration": 13,
    "start_time": "2022-03-21T13:36:55.707Z"
   },
   {
    "duration": 13,
    "start_time": "2022-03-21T13:37:08.155Z"
   },
   {
    "duration": 13,
    "start_time": "2022-03-21T13:37:18.490Z"
   },
   {
    "duration": 13,
    "start_time": "2022-03-21T13:37:20.725Z"
   },
   {
    "duration": 14,
    "start_time": "2022-03-21T13:37:28.115Z"
   },
   {
    "duration": 16,
    "start_time": "2022-03-21T13:37:32.267Z"
   },
   {
    "duration": 13,
    "start_time": "2022-03-21T13:37:40.038Z"
   },
   {
    "duration": 16,
    "start_time": "2022-03-21T13:38:01.947Z"
   },
   {
    "duration": 12,
    "start_time": "2022-03-21T13:38:08.237Z"
   },
   {
    "duration": 14,
    "start_time": "2022-03-21T13:38:11.532Z"
   },
   {
    "duration": 15,
    "start_time": "2022-03-21T13:38:14.999Z"
   },
   {
    "duration": 12,
    "start_time": "2022-03-21T13:38:17.518Z"
   },
   {
    "duration": 16,
    "start_time": "2022-03-21T13:38:21.531Z"
   },
   {
    "duration": 14,
    "start_time": "2022-03-21T13:38:24.906Z"
   },
   {
    "duration": 11,
    "start_time": "2022-03-21T13:38:46.377Z"
   },
   {
    "duration": 13,
    "start_time": "2022-03-21T13:38:49.716Z"
   },
   {
    "duration": 13,
    "start_time": "2022-03-21T13:38:55.785Z"
   },
   {
    "duration": 12,
    "start_time": "2022-03-21T13:38:58.816Z"
   },
   {
    "duration": 15,
    "start_time": "2022-03-21T13:39:01.787Z"
   },
   {
    "duration": 14,
    "start_time": "2022-03-21T13:39:05.085Z"
   },
   {
    "duration": 13,
    "start_time": "2022-03-21T13:39:08.642Z"
   },
   {
    "duration": 13,
    "start_time": "2022-03-21T13:39:13.240Z"
   },
   {
    "duration": 13,
    "start_time": "2022-03-21T13:39:16.726Z"
   },
   {
    "duration": 1082,
    "start_time": "2022-03-21T13:58:27.821Z"
   },
   {
    "duration": 171,
    "start_time": "2022-03-21T13:58:28.905Z"
   },
   {
    "duration": 8,
    "start_time": "2022-03-21T13:58:29.078Z"
   },
   {
    "duration": 103,
    "start_time": "2022-03-21T13:58:29.088Z"
   },
   {
    "duration": 26,
    "start_time": "2022-03-21T13:58:29.193Z"
   },
   {
    "duration": 20,
    "start_time": "2022-03-21T13:58:29.221Z"
   },
   {
    "duration": 101,
    "start_time": "2022-03-21T13:58:29.242Z"
   },
   {
    "duration": 111,
    "start_time": "2022-03-21T13:58:29.345Z"
   },
   {
    "duration": 108,
    "start_time": "2022-03-21T13:58:29.463Z"
   },
   {
    "duration": 12,
    "start_time": "2022-03-21T13:58:29.573Z"
   },
   {
    "duration": 9,
    "start_time": "2022-03-21T13:58:29.586Z"
   },
   {
    "duration": 36,
    "start_time": "2022-03-21T13:58:29.597Z"
   },
   {
    "duration": 272,
    "start_time": "2022-03-21T13:58:29.635Z"
   },
   {
    "duration": 55,
    "start_time": "2022-03-21T13:58:29.909Z"
   },
   {
    "duration": 36,
    "start_time": "2022-03-21T13:58:29.965Z"
   },
   {
    "duration": 32,
    "start_time": "2022-03-21T13:58:30.003Z"
   },
   {
    "duration": 116,
    "start_time": "2022-03-21T13:58:30.037Z"
   },
   {
    "duration": 151,
    "start_time": "2022-03-21T13:58:30.163Z"
   },
   {
    "duration": 9,
    "start_time": "2022-03-21T13:58:30.315Z"
   },
   {
    "duration": 57,
    "start_time": "2022-03-21T13:58:30.325Z"
   },
   {
    "duration": 4,
    "start_time": "2022-03-21T13:58:30.384Z"
   },
   {
    "duration": 56,
    "start_time": "2022-03-21T13:58:30.390Z"
   },
   {
    "duration": 85,
    "start_time": "2022-03-21T13:58:30.448Z"
   },
   {
    "duration": 6,
    "start_time": "2022-03-21T13:58:30.534Z"
   },
   {
    "duration": 29,
    "start_time": "2022-03-21T13:58:30.542Z"
   },
   {
    "duration": 51,
    "start_time": "2022-03-21T13:58:30.572Z"
   },
   {
    "duration": 4,
    "start_time": "2022-03-21T13:58:30.624Z"
   },
   {
    "duration": 50,
    "start_time": "2022-03-21T13:58:30.632Z"
   },
   {
    "duration": 22,
    "start_time": "2022-03-21T13:58:30.684Z"
   },
   {
    "duration": 72,
    "start_time": "2022-03-21T13:58:30.708Z"
   },
   {
    "duration": 10,
    "start_time": "2022-03-21T13:58:30.781Z"
   },
   {
    "duration": 73,
    "start_time": "2022-03-21T13:58:30.792Z"
   },
   {
    "duration": 273,
    "start_time": "2022-03-21T13:58:30.867Z"
   },
   {
    "duration": 12,
    "start_time": "2022-03-21T13:58:31.142Z"
   },
   {
    "duration": 30,
    "start_time": "2022-03-21T13:58:31.163Z"
   },
   {
    "duration": 20,
    "start_time": "2022-03-21T13:58:31.195Z"
   },
   {
    "duration": 1130,
    "start_time": "2022-03-21T14:13:42.264Z"
   },
   {
    "duration": 162,
    "start_time": "2022-03-21T14:13:43.396Z"
   },
   {
    "duration": 7,
    "start_time": "2022-03-21T14:13:43.560Z"
   },
   {
    "duration": 113,
    "start_time": "2022-03-21T14:13:43.570Z"
   },
   {
    "duration": 33,
    "start_time": "2022-03-21T14:13:43.685Z"
   },
   {
    "duration": 18,
    "start_time": "2022-03-21T14:13:43.720Z"
   },
   {
    "duration": 109,
    "start_time": "2022-03-21T14:13:43.740Z"
   },
   {
    "duration": 115,
    "start_time": "2022-03-21T14:13:43.850Z"
   },
   {
    "duration": 109,
    "start_time": "2022-03-21T14:13:43.966Z"
   },
   {
    "duration": 11,
    "start_time": "2022-03-21T14:13:44.078Z"
   },
   {
    "duration": 12,
    "start_time": "2022-03-21T14:13:44.091Z"
   },
   {
    "duration": 58,
    "start_time": "2022-03-21T14:13:44.105Z"
   },
   {
    "duration": 257,
    "start_time": "2022-03-21T14:13:44.165Z"
   },
   {
    "duration": 55,
    "start_time": "2022-03-21T14:13:44.424Z"
   },
   {
    "duration": 34,
    "start_time": "2022-03-21T14:13:44.481Z"
   },
   {
    "duration": 47,
    "start_time": "2022-03-21T14:13:44.517Z"
   },
   {
    "duration": 105,
    "start_time": "2022-03-21T14:13:44.566Z"
   },
   {
    "duration": 151,
    "start_time": "2022-03-21T14:13:44.673Z"
   },
   {
    "duration": 13,
    "start_time": "2022-03-21T14:13:44.826Z"
   },
   {
    "duration": 60,
    "start_time": "2022-03-21T14:13:44.842Z"
   },
   {
    "duration": 5,
    "start_time": "2022-03-21T14:13:44.904Z"
   },
   {
    "duration": 54,
    "start_time": "2022-03-21T14:13:44.910Z"
   },
   {
    "duration": 110,
    "start_time": "2022-03-21T14:13:44.965Z"
   },
   {
    "duration": 5,
    "start_time": "2022-03-21T14:13:45.077Z"
   },
   {
    "duration": 21,
    "start_time": "2022-03-21T14:13:45.083Z"
   },
   {
    "duration": 66,
    "start_time": "2022-03-21T14:13:45.106Z"
   },
   {
    "duration": 5,
    "start_time": "2022-03-21T14:13:45.173Z"
   },
   {
    "duration": 28,
    "start_time": "2022-03-21T14:13:45.182Z"
   },
   {
    "duration": 20,
    "start_time": "2022-03-21T14:13:45.214Z"
   },
   {
    "duration": 71,
    "start_time": "2022-03-21T14:13:45.236Z"
   },
   {
    "duration": 11,
    "start_time": "2022-03-21T14:13:45.309Z"
   },
   {
    "duration": 87,
    "start_time": "2022-03-21T14:13:45.321Z"
   },
   {
    "duration": 279,
    "start_time": "2022-03-21T14:13:45.410Z"
   },
   {
    "duration": 13,
    "start_time": "2022-03-21T14:13:45.690Z"
   },
   {
    "duration": 17,
    "start_time": "2022-03-21T14:13:45.704Z"
   },
   {
    "duration": 13,
    "start_time": "2022-03-21T14:13:45.722Z"
   },
   {
    "duration": 1386,
    "start_time": "2022-03-23T11:49:20.719Z"
   },
   {
    "duration": 184,
    "start_time": "2022-03-23T11:49:22.108Z"
   },
   {
    "duration": 12,
    "start_time": "2022-03-23T11:49:22.294Z"
   },
   {
    "duration": 103,
    "start_time": "2022-03-23T11:49:22.308Z"
   },
   {
    "duration": 35,
    "start_time": "2022-03-23T11:49:22.413Z"
   },
   {
    "duration": 38,
    "start_time": "2022-03-23T11:49:22.449Z"
   },
   {
    "duration": 132,
    "start_time": "2022-03-23T11:49:22.489Z"
   },
   {
    "duration": 112,
    "start_time": "2022-03-23T11:49:22.623Z"
   },
   {
    "duration": 118,
    "start_time": "2022-03-23T11:49:22.736Z"
   },
   {
    "duration": 12,
    "start_time": "2022-03-23T11:49:22.857Z"
   },
   {
    "duration": 19,
    "start_time": "2022-03-23T11:49:22.870Z"
   },
   {
    "duration": 62,
    "start_time": "2022-03-23T11:49:22.892Z"
   },
   {
    "duration": 280,
    "start_time": "2022-03-23T11:49:22.956Z"
   },
   {
    "duration": 0,
    "start_time": "2022-03-23T11:51:29.342Z"
   },
   {
    "duration": 0,
    "start_time": "2022-03-23T11:51:29.344Z"
   },
   {
    "duration": 0,
    "start_time": "2022-03-23T11:51:29.345Z"
   },
   {
    "duration": 0,
    "start_time": "2022-03-23T11:51:29.347Z"
   },
   {
    "duration": 0,
    "start_time": "2022-03-23T11:51:29.348Z"
   },
   {
    "duration": 0,
    "start_time": "2022-03-23T11:51:29.350Z"
   },
   {
    "duration": 0,
    "start_time": "2022-03-23T11:51:29.352Z"
   },
   {
    "duration": 0,
    "start_time": "2022-03-23T11:51:29.353Z"
   },
   {
    "duration": 0,
    "start_time": "2022-03-23T11:51:29.355Z"
   },
   {
    "duration": 0,
    "start_time": "2022-03-23T11:51:29.356Z"
   },
   {
    "duration": 0,
    "start_time": "2022-03-23T11:51:29.358Z"
   },
   {
    "duration": 0,
    "start_time": "2022-03-23T11:51:29.360Z"
   },
   {
    "duration": 0,
    "start_time": "2022-03-23T11:51:29.361Z"
   },
   {
    "duration": 0,
    "start_time": "2022-03-23T11:51:29.363Z"
   },
   {
    "duration": 0,
    "start_time": "2022-03-23T11:51:29.364Z"
   },
   {
    "duration": 0,
    "start_time": "2022-03-23T11:51:29.365Z"
   },
   {
    "duration": 0,
    "start_time": "2022-03-23T11:51:29.367Z"
   },
   {
    "duration": 0,
    "start_time": "2022-03-23T11:51:29.368Z"
   },
   {
    "duration": 0,
    "start_time": "2022-03-23T11:51:36.116Z"
   },
   {
    "duration": 0,
    "start_time": "2022-03-23T11:51:36.117Z"
   },
   {
    "duration": 0,
    "start_time": "2022-03-23T11:51:36.118Z"
   },
   {
    "duration": 0,
    "start_time": "2022-03-23T11:51:36.119Z"
   },
   {
    "duration": 0,
    "start_time": "2022-03-23T11:51:36.135Z"
   },
   {
    "duration": 0,
    "start_time": "2022-03-23T11:51:36.140Z"
   },
   {
    "duration": 109,
    "start_time": "2022-03-23T11:51:36.145Z"
   },
   {
    "duration": 3,
    "start_time": "2022-03-23T11:51:52.309Z"
   },
   {
    "duration": 168,
    "start_time": "2022-03-23T11:51:55.490Z"
   },
   {
    "duration": 6,
    "start_time": "2022-03-23T11:51:57.951Z"
   },
   {
    "duration": 102,
    "start_time": "2022-03-23T11:51:58.930Z"
   },
   {
    "duration": 104,
    "start_time": "2022-03-23T11:52:02.673Z"
   },
   {
    "duration": 130,
    "start_time": "2022-03-23T11:52:05.953Z"
   },
   {
    "duration": 120,
    "start_time": "2022-03-23T11:52:08.083Z"
   },
   {
    "duration": 14,
    "start_time": "2022-03-23T11:52:25.547Z"
   },
   {
    "duration": 10,
    "start_time": "2022-03-23T11:52:37.359Z"
   },
   {
    "duration": 34,
    "start_time": "2022-03-23T11:52:39.533Z"
   },
   {
    "duration": 259,
    "start_time": "2022-03-23T11:52:41.865Z"
   },
   {
    "duration": 54,
    "start_time": "2022-03-23T11:52:46.308Z"
   },
   {
    "duration": 61,
    "start_time": "2022-03-23T11:56:45.151Z"
   },
   {
    "duration": 81,
    "start_time": "2022-03-23T11:57:12.597Z"
   },
   {
    "duration": 52,
    "start_time": "2022-03-23T11:57:19.388Z"
   },
   {
    "duration": 49,
    "start_time": "2022-03-23T11:58:29.549Z"
   },
   {
    "duration": 214,
    "start_time": "2022-03-23T11:58:44.344Z"
   },
   {
    "duration": 10,
    "start_time": "2022-03-23T11:58:47.027Z"
   },
   {
    "duration": 206,
    "start_time": "2022-03-23T11:58:49.362Z"
   },
   {
    "duration": 50,
    "start_time": "2022-03-23T11:58:52.911Z"
   },
   {
    "duration": 1014,
    "start_time": "2022-03-23T11:59:03.806Z"
   },
   {
    "duration": 6,
    "start_time": "2022-03-23T11:59:08.602Z"
   },
   {
    "duration": 88,
    "start_time": "2022-03-23T11:59:11.288Z"
   },
   {
    "duration": 94,
    "start_time": "2022-03-23T11:59:16.199Z"
   },
   {
    "duration": 117,
    "start_time": "2022-03-23T11:59:24.084Z"
   },
   {
    "duration": 13,
    "start_time": "2022-03-23T11:59:30.088Z"
   },
   {
    "duration": 48,
    "start_time": "2022-03-23T11:59:38.816Z"
   },
   {
    "duration": 1146,
    "start_time": "2022-03-23T12:00:27.755Z"
   },
   {
    "duration": 165,
    "start_time": "2022-03-23T12:00:28.903Z"
   },
   {
    "duration": 9,
    "start_time": "2022-03-23T12:00:29.069Z"
   },
   {
    "duration": 107,
    "start_time": "2022-03-23T12:00:29.080Z"
   },
   {
    "duration": 25,
    "start_time": "2022-03-23T12:00:29.189Z"
   },
   {
    "duration": 32,
    "start_time": "2022-03-23T12:00:29.216Z"
   },
   {
    "duration": 101,
    "start_time": "2022-03-23T12:00:29.249Z"
   },
   {
    "duration": 117,
    "start_time": "2022-03-23T12:00:29.352Z"
   },
   {
    "duration": 121,
    "start_time": "2022-03-23T12:00:29.471Z"
   },
   {
    "duration": 12,
    "start_time": "2022-03-23T12:00:29.594Z"
   },
   {
    "duration": 8,
    "start_time": "2022-03-23T12:00:29.608Z"
   },
   {
    "duration": 44,
    "start_time": "2022-03-23T12:00:29.617Z"
   },
   {
    "duration": 286,
    "start_time": "2022-03-23T12:00:29.662Z"
   },
   {
    "duration": 2,
    "start_time": "2022-03-23T12:00:29.950Z"
   },
   {
    "duration": 62,
    "start_time": "2022-03-23T12:00:29.954Z"
   },
   {
    "duration": 46,
    "start_time": "2022-03-23T12:00:30.018Z"
   },
   {
    "duration": 25,
    "start_time": "2022-03-23T12:00:30.066Z"
   },
   {
    "duration": 125,
    "start_time": "2022-03-23T12:00:30.093Z"
   },
   {
    "duration": 174,
    "start_time": "2022-03-23T12:00:30.220Z"
   },
   {
    "duration": 9,
    "start_time": "2022-03-23T12:00:30.396Z"
   },
   {
    "duration": 57,
    "start_time": "2022-03-23T12:00:30.408Z"
   },
   {
    "duration": 5,
    "start_time": "2022-03-23T12:00:30.467Z"
   },
   {
    "duration": 49,
    "start_time": "2022-03-23T12:00:30.475Z"
   },
   {
    "duration": 101,
    "start_time": "2022-03-23T12:00:30.532Z"
   },
   {
    "duration": 6,
    "start_time": "2022-03-23T12:00:30.635Z"
   },
   {
    "duration": 21,
    "start_time": "2022-03-23T12:00:30.643Z"
   },
   {
    "duration": 74,
    "start_time": "2022-03-23T12:00:30.666Z"
   },
   {
    "duration": 4,
    "start_time": "2022-03-23T12:00:30.744Z"
   },
   {
    "duration": 44,
    "start_time": "2022-03-23T12:00:30.749Z"
   },
   {
    "duration": 21,
    "start_time": "2022-03-23T12:00:30.795Z"
   },
   {
    "duration": 61,
    "start_time": "2022-03-23T12:00:30.817Z"
   },
   {
    "duration": 11,
    "start_time": "2022-03-23T12:00:30.880Z"
   },
   {
    "duration": 89,
    "start_time": "2022-03-23T12:00:30.892Z"
   },
   {
    "duration": 299,
    "start_time": "2022-03-23T12:00:30.983Z"
   },
   {
    "duration": 15,
    "start_time": "2022-03-23T12:00:31.283Z"
   },
   {
    "duration": 35,
    "start_time": "2022-03-23T12:00:31.299Z"
   },
   {
    "duration": 14,
    "start_time": "2022-03-23T12:00:31.336Z"
   },
   {
    "duration": 1177,
    "start_time": "2022-03-23T12:01:13.815Z"
   },
   {
    "duration": 170,
    "start_time": "2022-03-23T12:01:14.994Z"
   },
   {
    "duration": 10,
    "start_time": "2022-03-23T12:01:15.166Z"
   },
   {
    "duration": 112,
    "start_time": "2022-03-23T12:01:15.177Z"
   },
   {
    "duration": 25,
    "start_time": "2022-03-23T12:01:15.293Z"
   },
   {
    "duration": 17,
    "start_time": "2022-03-23T12:01:15.331Z"
   },
   {
    "duration": 109,
    "start_time": "2022-03-23T12:01:15.350Z"
   },
   {
    "duration": 115,
    "start_time": "2022-03-23T12:01:15.461Z"
   },
   {
    "duration": 120,
    "start_time": "2022-03-23T12:01:15.578Z"
   },
   {
    "duration": 12,
    "start_time": "2022-03-23T12:01:15.700Z"
   },
   {
    "duration": 21,
    "start_time": "2022-03-23T12:01:15.714Z"
   },
   {
    "duration": 42,
    "start_time": "2022-03-23T12:01:15.736Z"
   },
   {
    "duration": 274,
    "start_time": "2022-03-23T12:01:15.780Z"
   },
   {
    "duration": 2,
    "start_time": "2022-03-23T12:01:16.057Z"
   },
   {
    "duration": 72,
    "start_time": "2022-03-23T12:01:16.061Z"
   },
   {
    "duration": 39,
    "start_time": "2022-03-23T12:01:16.134Z"
   },
   {
    "duration": 26,
    "start_time": "2022-03-23T12:01:16.175Z"
   },
   {
    "duration": 135,
    "start_time": "2022-03-23T12:01:16.203Z"
   },
   {
    "duration": 173,
    "start_time": "2022-03-23T12:01:16.340Z"
   },
   {
    "duration": 16,
    "start_time": "2022-03-23T12:01:16.515Z"
   },
   {
    "duration": 35,
    "start_time": "2022-03-23T12:01:16.533Z"
   },
   {
    "duration": 4,
    "start_time": "2022-03-23T12:01:16.570Z"
   },
   {
    "duration": 67,
    "start_time": "2022-03-23T12:01:16.575Z"
   },
   {
    "duration": 95,
    "start_time": "2022-03-23T12:01:16.644Z"
   },
   {
    "duration": 5,
    "start_time": "2022-03-23T12:01:16.741Z"
   },
   {
    "duration": 22,
    "start_time": "2022-03-23T12:01:16.747Z"
   },
   {
    "duration": 81,
    "start_time": "2022-03-23T12:01:16.771Z"
   },
   {
    "duration": 4,
    "start_time": "2022-03-23T12:01:16.854Z"
   },
   {
    "duration": 42,
    "start_time": "2022-03-23T12:01:16.859Z"
   },
   {
    "duration": 38,
    "start_time": "2022-03-23T12:01:16.903Z"
   },
   {
    "duration": 62,
    "start_time": "2022-03-23T12:01:16.943Z"
   },
   {
    "duration": 27,
    "start_time": "2022-03-23T12:01:17.006Z"
   },
   {
    "duration": 66,
    "start_time": "2022-03-23T12:01:17.035Z"
   },
   {
    "duration": 301,
    "start_time": "2022-03-23T12:01:17.103Z"
   },
   {
    "duration": 14,
    "start_time": "2022-03-23T12:01:17.406Z"
   },
   {
    "duration": 15,
    "start_time": "2022-03-23T12:01:17.433Z"
   },
   {
    "duration": 16,
    "start_time": "2022-03-23T12:01:17.450Z"
   },
   {
    "duration": 128,
    "start_time": "2022-03-23T12:02:12.985Z"
   },
   {
    "duration": 43,
    "start_time": "2022-03-23T12:02:17.691Z"
   },
   {
    "duration": 177,
    "start_time": "2022-03-23T12:03:13.611Z"
   },
   {
    "duration": 37,
    "start_time": "2022-03-23T12:03:18.380Z"
   },
   {
    "duration": 38,
    "start_time": "2022-03-23T12:03:30.247Z"
   },
   {
    "duration": 46,
    "start_time": "2022-03-23T12:04:40.834Z"
   },
   {
    "duration": 1201,
    "start_time": "2022-03-23T12:04:48.700Z"
   },
   {
    "duration": 169,
    "start_time": "2022-03-23T12:04:49.904Z"
   },
   {
    "duration": 9,
    "start_time": "2022-03-23T12:04:50.075Z"
   },
   {
    "duration": 108,
    "start_time": "2022-03-23T12:04:50.087Z"
   },
   {
    "duration": 36,
    "start_time": "2022-03-23T12:04:50.197Z"
   },
   {
    "duration": 24,
    "start_time": "2022-03-23T12:04:50.235Z"
   },
   {
    "duration": 105,
    "start_time": "2022-03-23T12:04:50.261Z"
   },
   {
    "duration": 120,
    "start_time": "2022-03-23T12:04:50.368Z"
   },
   {
    "duration": 113,
    "start_time": "2022-03-23T12:04:50.490Z"
   },
   {
    "duration": 12,
    "start_time": "2022-03-23T12:04:50.606Z"
   },
   {
    "duration": 20,
    "start_time": "2022-03-23T12:04:50.620Z"
   },
   {
    "duration": 40,
    "start_time": "2022-03-23T12:04:50.641Z"
   },
   {
    "duration": 290,
    "start_time": "2022-03-23T12:04:50.683Z"
   },
   {
    "duration": 3,
    "start_time": "2022-03-23T12:04:50.975Z"
   },
   {
    "duration": 74,
    "start_time": "2022-03-23T12:04:50.980Z"
   },
   {
    "duration": 39,
    "start_time": "2022-03-23T12:04:51.055Z"
   },
   {
    "duration": 40,
    "start_time": "2022-03-23T12:04:51.096Z"
   },
   {
    "duration": 115,
    "start_time": "2022-03-23T12:04:51.138Z"
   },
   {
    "duration": 174,
    "start_time": "2022-03-23T12:04:51.255Z"
   },
   {
    "duration": 11,
    "start_time": "2022-03-23T12:04:51.432Z"
   },
   {
    "duration": 52,
    "start_time": "2022-03-23T12:04:51.445Z"
   },
   {
    "duration": 5,
    "start_time": "2022-03-23T12:04:51.499Z"
   },
   {
    "duration": 78,
    "start_time": "2022-03-23T12:04:51.507Z"
   },
   {
    "duration": 91,
    "start_time": "2022-03-23T12:04:51.588Z"
   },
   {
    "duration": 5,
    "start_time": "2022-03-23T12:04:51.680Z"
   },
   {
    "duration": 26,
    "start_time": "2022-03-23T12:04:51.687Z"
   },
   {
    "duration": 63,
    "start_time": "2022-03-23T12:04:51.715Z"
   },
   {
    "duration": 4,
    "start_time": "2022-03-23T12:04:51.781Z"
   },
   {
    "duration": 49,
    "start_time": "2022-03-23T12:04:51.786Z"
   },
   {
    "duration": 25,
    "start_time": "2022-03-23T12:04:51.836Z"
   },
   {
    "duration": 47,
    "start_time": "2022-03-23T12:04:51.863Z"
   },
   {
    "duration": 12,
    "start_time": "2022-03-23T12:04:51.932Z"
   },
   {
    "duration": 86,
    "start_time": "2022-03-23T12:04:51.946Z"
   },
   {
    "duration": 288,
    "start_time": "2022-03-23T12:04:52.034Z"
   },
   {
    "duration": 18,
    "start_time": "2022-03-23T12:04:52.324Z"
   },
   {
    "duration": 32,
    "start_time": "2022-03-23T12:04:52.344Z"
   },
   {
    "duration": 14,
    "start_time": "2022-03-23T12:04:52.378Z"
   },
   {
    "duration": 1107,
    "start_time": "2022-03-23T12:06:05.286Z"
   },
   {
    "duration": 171,
    "start_time": "2022-03-23T12:06:06.395Z"
   },
   {
    "duration": 9,
    "start_time": "2022-03-23T12:06:06.568Z"
   },
   {
    "duration": 109,
    "start_time": "2022-03-23T12:06:06.580Z"
   },
   {
    "duration": 26,
    "start_time": "2022-03-23T12:06:06.690Z"
   },
   {
    "duration": 30,
    "start_time": "2022-03-23T12:06:06.717Z"
   },
   {
    "duration": 120,
    "start_time": "2022-03-23T12:06:06.749Z"
   },
   {
    "duration": 120,
    "start_time": "2022-03-23T12:06:06.870Z"
   },
   {
    "duration": 121,
    "start_time": "2022-03-23T12:06:06.992Z"
   },
   {
    "duration": 22,
    "start_time": "2022-03-23T12:06:07.116Z"
   },
   {
    "duration": 10,
    "start_time": "2022-03-23T12:06:07.140Z"
   },
   {
    "duration": 56,
    "start_time": "2022-03-23T12:06:07.151Z"
   },
   {
    "duration": 274,
    "start_time": "2022-03-23T12:06:07.209Z"
   },
   {
    "duration": 3,
    "start_time": "2022-03-23T12:06:07.485Z"
   },
   {
    "duration": 76,
    "start_time": "2022-03-23T12:06:07.489Z"
   },
   {
    "duration": 38,
    "start_time": "2022-03-23T12:06:07.567Z"
   },
   {
    "duration": 35,
    "start_time": "2022-03-23T12:06:07.607Z"
   },
   {
    "duration": 118,
    "start_time": "2022-03-23T12:06:07.643Z"
   },
   {
    "duration": 176,
    "start_time": "2022-03-23T12:06:07.762Z"
   },
   {
    "duration": 11,
    "start_time": "2022-03-23T12:06:07.940Z"
   },
   {
    "duration": 40,
    "start_time": "2022-03-23T12:06:07.953Z"
   },
   {
    "duration": 5,
    "start_time": "2022-03-23T12:06:07.995Z"
   },
   {
    "duration": 75,
    "start_time": "2022-03-23T12:06:08.002Z"
   },
   {
    "duration": 100,
    "start_time": "2022-03-23T12:06:08.079Z"
   },
   {
    "duration": 5,
    "start_time": "2022-03-23T12:06:08.181Z"
   },
   {
    "duration": 34,
    "start_time": "2022-03-23T12:06:08.188Z"
   },
   {
    "duration": 66,
    "start_time": "2022-03-23T12:06:08.224Z"
   },
   {
    "duration": 4,
    "start_time": "2022-03-23T12:06:08.293Z"
   },
   {
    "duration": 44,
    "start_time": "2022-03-23T12:06:08.299Z"
   },
   {
    "duration": 25,
    "start_time": "2022-03-23T12:06:08.344Z"
   },
   {
    "duration": 68,
    "start_time": "2022-03-23T12:06:08.370Z"
   },
   {
    "duration": 11,
    "start_time": "2022-03-23T12:06:08.439Z"
   },
   {
    "duration": 86,
    "start_time": "2022-03-23T12:06:08.452Z"
   },
   {
    "duration": 301,
    "start_time": "2022-03-23T12:06:08.540Z"
   },
   {
    "duration": 15,
    "start_time": "2022-03-23T12:06:08.842Z"
   },
   {
    "duration": 30,
    "start_time": "2022-03-23T12:06:08.858Z"
   },
   {
    "duration": 17,
    "start_time": "2022-03-23T12:06:08.890Z"
   },
   {
    "duration": 199,
    "start_time": "2022-03-23T12:30:07.501Z"
   },
   {
    "duration": 65,
    "start_time": "2022-03-23T12:31:58.968Z"
   },
   {
    "duration": 156,
    "start_time": "2022-03-23T12:32:31.258Z"
   },
   {
    "duration": 159,
    "start_time": "2022-03-23T12:35:13.137Z"
   },
   {
    "duration": 5,
    "start_time": "2022-03-23T12:41:27.791Z"
   },
   {
    "duration": 154,
    "start_time": "2022-03-23T12:41:31.086Z"
   },
   {
    "duration": 1152,
    "start_time": "2022-03-23T12:41:59.740Z"
   },
   {
    "duration": 173,
    "start_time": "2022-03-23T12:42:00.894Z"
   },
   {
    "duration": 10,
    "start_time": "2022-03-23T12:42:01.068Z"
   },
   {
    "duration": 120,
    "start_time": "2022-03-23T12:42:01.080Z"
   },
   {
    "duration": 34,
    "start_time": "2022-03-23T12:42:01.202Z"
   },
   {
    "duration": 92,
    "start_time": "2022-03-23T12:42:01.237Z"
   },
   {
    "duration": 113,
    "start_time": "2022-03-23T12:42:01.331Z"
   },
   {
    "duration": 116,
    "start_time": "2022-03-23T12:42:01.445Z"
   },
   {
    "duration": 123,
    "start_time": "2022-03-23T12:42:01.563Z"
   },
   {
    "duration": 12,
    "start_time": "2022-03-23T12:42:01.689Z"
   },
   {
    "duration": 32,
    "start_time": "2022-03-23T12:42:01.703Z"
   },
   {
    "duration": 66,
    "start_time": "2022-03-23T12:42:01.737Z"
   },
   {
    "duration": 312,
    "start_time": "2022-03-23T12:42:01.805Z"
   },
   {
    "duration": 3,
    "start_time": "2022-03-23T12:42:02.119Z"
   },
   {
    "duration": 94,
    "start_time": "2022-03-23T12:42:02.132Z"
   },
   {
    "duration": 39,
    "start_time": "2022-03-23T12:42:02.228Z"
   },
   {
    "duration": 25,
    "start_time": "2022-03-23T12:42:02.268Z"
   },
   {
    "duration": 158,
    "start_time": "2022-03-23T12:42:02.295Z"
   },
   {
    "duration": 6,
    "start_time": "2022-03-23T12:42:02.454Z"
   },
   {
    "duration": 222,
    "start_time": "2022-03-23T12:42:02.461Z"
   },
   {
    "duration": 11,
    "start_time": "2022-03-23T12:42:02.684Z"
   },
   {
    "duration": 85,
    "start_time": "2022-03-23T12:42:02.696Z"
   },
   {
    "duration": 5,
    "start_time": "2022-03-23T12:42:02.783Z"
   },
   {
    "duration": 96,
    "start_time": "2022-03-23T12:42:02.790Z"
   },
   {
    "duration": 100,
    "start_time": "2022-03-23T12:42:02.888Z"
   },
   {
    "duration": 6,
    "start_time": "2022-03-23T12:42:02.990Z"
   },
   {
    "duration": 55,
    "start_time": "2022-03-23T12:42:02.998Z"
   },
   {
    "duration": 78,
    "start_time": "2022-03-23T12:42:03.057Z"
   },
   {
    "duration": 38,
    "start_time": "2022-03-23T12:42:03.137Z"
   },
   {
    "duration": 98,
    "start_time": "2022-03-23T12:42:03.177Z"
   },
   {
    "duration": 30,
    "start_time": "2022-03-23T12:42:03.276Z"
   },
   {
    "duration": 68,
    "start_time": "2022-03-23T12:42:03.308Z"
   },
   {
    "duration": 25,
    "start_time": "2022-03-23T12:42:03.378Z"
   },
   {
    "duration": 116,
    "start_time": "2022-03-23T12:42:03.405Z"
   },
   {
    "duration": 271,
    "start_time": "2022-03-23T12:42:03.523Z"
   },
   {
    "duration": 14,
    "start_time": "2022-03-23T12:42:03.796Z"
   },
   {
    "duration": 60,
    "start_time": "2022-03-23T12:42:03.812Z"
   },
   {
    "duration": 29,
    "start_time": "2022-03-23T12:42:03.873Z"
   },
   {
    "duration": 55,
    "start_time": "2022-03-23T13:02:00.340Z"
   },
   {
    "duration": 5,
    "start_time": "2022-03-23T13:16:58.085Z"
   },
   {
    "duration": 14,
    "start_time": "2022-03-23T13:17:36.067Z"
   },
   {
    "duration": 1181,
    "start_time": "2022-03-23T13:17:51.140Z"
   },
   {
    "duration": 172,
    "start_time": "2022-03-23T13:17:52.324Z"
   },
   {
    "duration": 10,
    "start_time": "2022-03-23T13:17:52.498Z"
   },
   {
    "duration": 104,
    "start_time": "2022-03-23T13:17:52.510Z"
   },
   {
    "duration": 35,
    "start_time": "2022-03-23T13:17:52.616Z"
   },
   {
    "duration": 20,
    "start_time": "2022-03-23T13:17:52.652Z"
   },
   {
    "duration": 111,
    "start_time": "2022-03-23T13:17:52.674Z"
   },
   {
    "duration": 126,
    "start_time": "2022-03-23T13:17:52.787Z"
   },
   {
    "duration": 124,
    "start_time": "2022-03-23T13:17:52.915Z"
   },
   {
    "duration": 12,
    "start_time": "2022-03-23T13:17:53.042Z"
   },
   {
    "duration": 12,
    "start_time": "2022-03-23T13:17:53.056Z"
   },
   {
    "duration": 41,
    "start_time": "2022-03-23T13:17:53.070Z"
   },
   {
    "duration": 287,
    "start_time": "2022-03-23T13:17:53.131Z"
   },
   {
    "duration": 3,
    "start_time": "2022-03-23T13:17:53.420Z"
   },
   {
    "duration": 58,
    "start_time": "2022-03-23T13:17:53.432Z"
   },
   {
    "duration": 53,
    "start_time": "2022-03-23T13:17:53.492Z"
   },
   {
    "duration": 24,
    "start_time": "2022-03-23T13:17:53.547Z"
   },
   {
    "duration": 123,
    "start_time": "2022-03-23T13:17:53.573Z"
   },
   {
    "duration": 5,
    "start_time": "2022-03-23T13:17:53.698Z"
   },
   {
    "duration": 183,
    "start_time": "2022-03-23T13:17:53.704Z"
   },
   {
    "duration": 10,
    "start_time": "2022-03-23T13:17:53.889Z"
   },
   {
    "duration": 49,
    "start_time": "2022-03-23T13:17:53.901Z"
   },
   {
    "duration": 5,
    "start_time": "2022-03-23T13:17:53.952Z"
   },
   {
    "duration": 46,
    "start_time": "2022-03-23T13:17:53.959Z"
   },
   {
    "duration": 105,
    "start_time": "2022-03-23T13:17:54.007Z"
   },
   {
    "duration": 17,
    "start_time": "2022-03-23T13:17:54.114Z"
   },
   {
    "duration": 14,
    "start_time": "2022-03-23T13:17:54.133Z"
   },
   {
    "duration": 53,
    "start_time": "2022-03-23T13:17:54.151Z"
   },
   {
    "duration": 25,
    "start_time": "2022-03-23T13:17:54.206Z"
   },
   {
    "duration": 37,
    "start_time": "2022-03-23T13:17:54.233Z"
   },
   {
    "duration": 21,
    "start_time": "2022-03-23T13:17:54.271Z"
   },
   {
    "duration": 73,
    "start_time": "2022-03-23T13:17:54.293Z"
   },
   {
    "duration": 11,
    "start_time": "2022-03-23T13:17:54.368Z"
   },
   {
    "duration": 87,
    "start_time": "2022-03-23T13:17:54.381Z"
   },
   {
    "duration": 292,
    "start_time": "2022-03-23T13:17:54.470Z"
   },
   {
    "duration": 14,
    "start_time": "2022-03-23T13:17:54.763Z"
   },
   {
    "duration": 31,
    "start_time": "2022-03-23T13:17:54.779Z"
   },
   {
    "duration": 30,
    "start_time": "2022-03-23T13:17:54.811Z"
   },
   {
    "duration": 54,
    "start_time": "2022-03-23T13:36:35.600Z"
   },
   {
    "duration": 1286,
    "start_time": "2022-03-23T13:36:50.412Z"
   },
   {
    "duration": 1565,
    "start_time": "2022-03-23T13:36:51.700Z"
   },
   {
    "duration": 9,
    "start_time": "2022-03-23T13:36:53.267Z"
   },
   {
    "duration": 98,
    "start_time": "2022-03-23T13:36:55.623Z"
   },
   {
    "duration": 25,
    "start_time": "2022-03-23T13:36:57.667Z"
   },
   {
    "duration": 17,
    "start_time": "2022-03-23T13:36:58.293Z"
   },
   {
    "duration": 110,
    "start_time": "2022-03-23T13:36:59.589Z"
   },
   {
    "duration": 120,
    "start_time": "2022-03-23T13:37:01.622Z"
   },
   {
    "duration": 113,
    "start_time": "2022-03-23T13:37:03.930Z"
   },
   {
    "duration": 14,
    "start_time": "2022-03-23T13:37:09.819Z"
   },
   {
    "duration": 11,
    "start_time": "2022-03-23T13:37:10.439Z"
   },
   {
    "duration": 25,
    "start_time": "2022-03-23T13:39:03.755Z"
   },
   {
    "duration": 184,
    "start_time": "2022-03-23T13:39:32.520Z"
   },
   {
    "duration": 212,
    "start_time": "2022-03-23T13:42:34.033Z"
   },
   {
    "duration": 205,
    "start_time": "2022-03-23T13:44:18.805Z"
   },
   {
    "duration": 162,
    "start_time": "2022-03-23T13:44:56.694Z"
   },
   {
    "duration": 216,
    "start_time": "2022-03-23T13:45:00.019Z"
   },
   {
    "duration": 27,
    "start_time": "2022-03-23T13:48:03.660Z"
   },
   {
    "duration": 26,
    "start_time": "2022-03-23T13:48:45.628Z"
   },
   {
    "duration": 74,
    "start_time": "2022-03-23T13:49:00.746Z"
   },
   {
    "duration": 36,
    "start_time": "2022-03-23T13:49:19.129Z"
   },
   {
    "duration": 66,
    "start_time": "2022-03-23T13:49:32.298Z"
   },
   {
    "duration": 41,
    "start_time": "2022-03-23T13:49:39.369Z"
   },
   {
    "duration": 52,
    "start_time": "2022-03-23T14:04:24.464Z"
   },
   {
    "duration": 1237,
    "start_time": "2022-03-23T14:04:39.067Z"
   },
   {
    "duration": 1720,
    "start_time": "2022-03-23T14:04:40.306Z"
   },
   {
    "duration": 10,
    "start_time": "2022-03-23T14:04:42.029Z"
   },
   {
    "duration": 106,
    "start_time": "2022-03-23T14:04:42.042Z"
   },
   {
    "duration": 27,
    "start_time": "2022-03-23T14:04:42.150Z"
   },
   {
    "duration": 18,
    "start_time": "2022-03-23T14:04:42.179Z"
   },
   {
    "duration": 123,
    "start_time": "2022-03-23T14:04:42.199Z"
   },
   {
    "duration": 122,
    "start_time": "2022-03-23T14:04:42.324Z"
   },
   {
    "duration": 118,
    "start_time": "2022-03-23T14:04:42.448Z"
   },
   {
    "duration": 11,
    "start_time": "2022-03-23T14:04:42.569Z"
   },
   {
    "duration": 9,
    "start_time": "2022-03-23T14:04:42.582Z"
   },
   {
    "duration": 53,
    "start_time": "2022-03-23T14:04:42.593Z"
   },
   {
    "duration": 285,
    "start_time": "2022-03-23T14:04:42.648Z"
   },
   {
    "duration": 43,
    "start_time": "2022-03-23T14:04:42.935Z"
   },
   {
    "duration": 73,
    "start_time": "2022-03-23T14:04:42.980Z"
   },
   {
    "duration": 39,
    "start_time": "2022-03-23T14:04:43.055Z"
   },
   {
    "duration": 43,
    "start_time": "2022-03-23T14:04:43.095Z"
   },
   {
    "duration": 114,
    "start_time": "2022-03-23T14:04:43.139Z"
   },
   {
    "duration": 6,
    "start_time": "2022-03-23T14:04:43.255Z"
   },
   {
    "duration": 178,
    "start_time": "2022-03-23T14:04:43.263Z"
   },
   {
    "duration": 10,
    "start_time": "2022-03-23T14:04:43.443Z"
   },
   {
    "duration": 39,
    "start_time": "2022-03-23T14:04:43.454Z"
   },
   {
    "duration": 4,
    "start_time": "2022-03-23T14:04:43.495Z"
   },
   {
    "duration": 65,
    "start_time": "2022-03-23T14:04:43.501Z"
   },
   {
    "duration": 98,
    "start_time": "2022-03-23T14:04:43.568Z"
   },
   {
    "duration": 5,
    "start_time": "2022-03-23T14:04:43.668Z"
   },
   {
    "duration": 17,
    "start_time": "2022-03-23T14:04:43.675Z"
   },
   {
    "duration": 75,
    "start_time": "2022-03-23T14:04:43.696Z"
   },
   {
    "duration": 4,
    "start_time": "2022-03-23T14:04:43.773Z"
   },
   {
    "duration": 32,
    "start_time": "2022-03-23T14:04:43.779Z"
   },
   {
    "duration": 20,
    "start_time": "2022-03-23T14:04:43.832Z"
   },
   {
    "duration": 49,
    "start_time": "2022-03-23T14:04:43.854Z"
   },
   {
    "duration": 32,
    "start_time": "2022-03-23T14:04:43.905Z"
   },
   {
    "duration": 67,
    "start_time": "2022-03-23T14:04:43.939Z"
   },
   {
    "duration": 304,
    "start_time": "2022-03-23T14:04:44.008Z"
   },
   {
    "duration": 19,
    "start_time": "2022-03-23T14:04:44.313Z"
   },
   {
    "duration": 15,
    "start_time": "2022-03-23T14:04:44.334Z"
   },
   {
    "duration": 15,
    "start_time": "2022-03-23T14:04:44.351Z"
   },
   {
    "duration": 30,
    "start_time": "2022-03-23T14:05:59.419Z"
   },
   {
    "duration": 10,
    "start_time": "2022-03-23T14:08:50.482Z"
   },
   {
    "duration": 34,
    "start_time": "2022-03-23T14:09:34.426Z"
   },
   {
    "duration": 34,
    "start_time": "2022-03-23T14:09:56.107Z"
   },
   {
    "duration": 39,
    "start_time": "2022-03-23T14:10:13.954Z"
   },
   {
    "duration": 40,
    "start_time": "2022-03-23T14:12:17.618Z"
   },
   {
    "duration": 1265,
    "start_time": "2022-03-23T14:23:42.127Z"
   },
   {
    "duration": 173,
    "start_time": "2022-03-23T14:23:43.394Z"
   },
   {
    "duration": 10,
    "start_time": "2022-03-23T14:23:43.568Z"
   },
   {
    "duration": 108,
    "start_time": "2022-03-23T14:23:43.580Z"
   },
   {
    "duration": 26,
    "start_time": "2022-03-23T14:23:43.690Z"
   },
   {
    "duration": 30,
    "start_time": "2022-03-23T14:23:43.718Z"
   },
   {
    "duration": 106,
    "start_time": "2022-03-23T14:23:43.750Z"
   },
   {
    "duration": 123,
    "start_time": "2022-03-23T14:23:43.858Z"
   },
   {
    "duration": 116,
    "start_time": "2022-03-23T14:23:43.983Z"
   },
   {
    "duration": 12,
    "start_time": "2022-03-23T14:23:44.102Z"
   },
   {
    "duration": 55,
    "start_time": "2022-03-23T14:23:44.116Z"
   },
   {
    "duration": 23,
    "start_time": "2022-03-23T14:23:44.173Z"
   },
   {
    "duration": 50,
    "start_time": "2022-03-23T14:23:44.199Z"
   },
   {
    "duration": 284,
    "start_time": "2022-03-23T14:23:44.251Z"
   },
   {
    "duration": 53,
    "start_time": "2022-03-23T14:23:44.537Z"
   },
   {
    "duration": 61,
    "start_time": "2022-03-23T14:23:44.592Z"
   },
   {
    "duration": 32,
    "start_time": "2022-03-23T14:23:44.655Z"
   },
   {
    "duration": 118,
    "start_time": "2022-03-23T14:23:44.688Z"
   },
   {
    "duration": 5,
    "start_time": "2022-03-23T14:23:44.808Z"
   },
   {
    "duration": 184,
    "start_time": "2022-03-23T14:23:44.815Z"
   },
   {
    "duration": 11,
    "start_time": "2022-03-23T14:23:45.000Z"
   },
   {
    "duration": 53,
    "start_time": "2022-03-23T14:23:45.013Z"
   },
   {
    "duration": 5,
    "start_time": "2022-03-23T14:23:45.068Z"
   },
   {
    "duration": 60,
    "start_time": "2022-03-23T14:23:45.076Z"
   },
   {
    "duration": 82,
    "start_time": "2022-03-23T14:23:45.138Z"
   },
   {
    "duration": 5,
    "start_time": "2022-03-23T14:23:45.232Z"
   },
   {
    "duration": 16,
    "start_time": "2022-03-23T14:23:45.239Z"
   },
   {
    "duration": 74,
    "start_time": "2022-03-23T14:23:45.258Z"
   },
   {
    "duration": 4,
    "start_time": "2022-03-23T14:23:45.333Z"
   },
   {
    "duration": 35,
    "start_time": "2022-03-23T14:23:45.339Z"
   },
   {
    "duration": 20,
    "start_time": "2022-03-23T14:23:45.376Z"
   },
   {
    "duration": 75,
    "start_time": "2022-03-23T14:23:45.398Z"
   },
   {
    "duration": 11,
    "start_time": "2022-03-23T14:23:45.474Z"
   },
   {
    "duration": 92,
    "start_time": "2022-03-23T14:23:45.487Z"
   },
   {
    "duration": 297,
    "start_time": "2022-03-23T14:23:45.581Z"
   },
   {
    "duration": 15,
    "start_time": "2022-03-23T14:23:45.880Z"
   },
   {
    "duration": 35,
    "start_time": "2022-03-23T14:23:45.897Z"
   },
   {
    "duration": 15,
    "start_time": "2022-03-23T14:23:45.934Z"
   }
  ],
  "kernelspec": {
   "display_name": "Python 3 (ipykernel)",
   "language": "python",
   "name": "python3"
  },
  "language_info": {
   "codemirror_mode": {
    "name": "ipython",
    "version": 3
   },
   "file_extension": ".py",
   "mimetype": "text/x-python",
   "name": "python",
   "nbconvert_exporter": "python",
   "pygments_lexer": "ipython3",
   "version": "3.9.7"
  },
  "toc": {
   "base_numbering": 1,
   "nav_menu": {},
   "number_sections": true,
   "sideBar": true,
   "skip_h1_title": true,
   "title_cell": "Table of Contents",
   "title_sidebar": "Contents",
   "toc_cell": false,
   "toc_position": {
    "height": "calc(100% - 180px)",
    "left": "10px",
    "top": "150px",
    "width": "289.6px"
   },
   "toc_section_display": true,
   "toc_window_display": true
  }
 },
 "nbformat": 4,
 "nbformat_minor": 2
}
